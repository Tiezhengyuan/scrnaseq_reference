{
 "cells": [
  {
   "cell_type": "code",
   "execution_count": null,
   "id": "f20321c2-9277-42b1-ba66-5482ad3fc472",
   "metadata": {},
   "outputs": [],
   "source": []
  },
  {
   "cell_type": "code",
   "execution_count": 1,
   "id": "fac75a50-b52e-48d8-9beb-46c79f4a81aa",
   "metadata": {},
   "outputs": [],
   "source": [
    "import os\n",
    "from parse_soft import ParseSoft\n",
    "from search_soft import SearchSoft\n",
    "from enrich_soft import EnrichSoft\n",
    "from label_data import LabelData\n",
    "\n",
    "%load_ext autoreload\n",
    "%autoreload 2"
   ]
  },
  {
   "cell_type": "code",
   "execution_count": 2,
   "id": "3f2bab8d-724a-440f-89a1-a3f5c38f68da",
   "metadata": {},
   "outputs": [],
   "source": [
    "# step 1: set defaults\n",
    "geo = \"GSE136831\"\n",
    "soft_dir = '/home/yuan/data'\n",
    "meta_dir = '../data'\n",
    "download_dir = '/home/yuan/rawdata/SRR'"
   ]
  },
  {
   "cell_type": "code",
   "execution_count": 3,
   "id": "276637df-e3ea-46c6-8e2e-275b1f8f749c",
   "metadata": {},
   "outputs": [
    {
     "name": "stdout",
     "output_type": "stream",
     "text": [
      "Retrieve meta data from soft file:  /home/yuan/data/ftp.ncbi.nlm.nih.gov/geo/series/GSE136nnn/GSE136831/soft/GSE136831_family.soft.gz\n",
      "Save meta data into json:  /home/yuan/bio/scrnaseq_reference/data/labels/GSE136nnn/GSE136831/metadata.json\n"
     ]
    }
   ],
   "source": [
    "# step 2: parse soft, and enrich\n",
    "\n",
    "# analyze soft file\n",
    "parser = ParseSoft(soft_dir)\n",
    "soft_path = parser.soft_local_path(geo)\n",
    "print('Retrieve meta data from soft file: ', soft_path)\n",
    "softer = SearchSoft(soft_path)\n",
    "data = softer.filter_data(softer.parse_rows)\n",
    "\n",
    "# save to json\n",
    "LabelData(meta_dir).save(data)"
   ]
  },
  {
   "cell_type": "code",
   "execution_count": 4,
   "id": "e973223f-d6e0-4973-a282-898aa5775ebb",
   "metadata": {},
   "outputs": [
    {
     "name": "stdout",
     "output_type": "stream",
     "text": [
      "Save meta data into json:  /home/yuan/bio/scrnaseq_reference/data/labels/GSE136nnn/GSE136831/metadata.json\n"
     ]
    }
   ],
   "source": [
    "# step 3a: enrich data\n",
    "data = LabelData(meta_dir).get_meta(geo)\n",
    "enriched = EnrichSoft(data)()\n",
    "LabelData(meta_dir).save(enriched)"
   ]
  },
  {
   "cell_type": "code",
   "execution_count": 7,
   "id": "f02acd96-5be7-4ddf-9d1a-dc35e70da5dd",
   "metadata": {},
   "outputs": [
    {
     "name": "stdout",
     "output_type": "stream",
     "text": [
      "Save meta data into json:  /home/yuan/bio/scrnaseq_reference/data/labels/GSE136nnn/GSE136831/metadata.json\n"
     ]
    }
   ],
   "source": [
    "# step 3b: label samples manually\n",
    "from label_sample import LabelSample\n",
    "\n",
    "def collator(sample):\n",
    "    c = LabelSample(sample)\n",
    "    c._protocol('scrna-seq', '10x3v2', 'paired-end')\n",
    "    if c.disease == 'copd':\n",
    "        c._disease_patient('chronic obstructive pulmonary lung disease')\n",
    "    elif c.disease == 'ipf':\n",
    "        c._disease_patient('idiopathic pulmonary fibrosis lung disease')\n",
    "    elif c.disease == 'control':\n",
    "        c._healthy_control()\n",
    "    c._update('tissue', 'lung')\n",
    "\n",
    "data = LabelData(meta_dir).get_meta(geo)\n",
    "for sample_id, sample in data['samples'].items():\n",
    "    collator(sample)\n",
    "LabelData(meta_dir).save(data)"
   ]
  },
  {
   "cell_type": "code",
   "execution_count": null,
   "id": "9ff7db60-4cd9-47e7-8ca9-b9a2f55dd2ee",
   "metadata": {},
   "outputs": [],
   "source": []
  },
  {
   "cell_type": "code",
   "execution_count": 9,
   "id": "41e32732-21e0-46ea-89c8-b6f48e3dac93",
   "metadata": {},
   "outputs": [
    {
     "name": "stdout",
     "output_type": "stream",
     "text": [
      "47\n"
     ]
    }
   ],
   "source": [
    "# step 4a: load some data\n",
    "from utils import Utils\n",
    "\n",
    "# data are determined previously\n",
    "samn_srr = Utils.from_json('../results/samn_srr.json')\n",
    "print(len(samn_srr))"
   ]
  },
  {
   "cell_type": "code",
   "execution_count": 10,
   "id": "217da242-01fa-4900-b067-2fd0370bdff6",
   "metadata": {},
   "outputs": [
    {
     "name": "stdout",
     "output_type": "stream",
     "text": [
      "biosamples = 78, SRR accessions = 107.\n",
      "Save meta data into json:  /home/yuan/bio/scrnaseq_reference/data/labels/GSE136nnn/GSE136831/metadata.json\n"
     ]
    }
   ],
   "source": [
    "# step 4b: Given BioSample, parse SRR accessions into samples\n",
    "from parse_sra import ParseSra\n",
    "from label_data import LabelData\n",
    "\n",
    "data = LabelData(meta_dir).get_meta(geo)\n",
    "enriched = ParseSra.parse_srr(data, samn_srr)\n",
    "LabelData(meta_dir).save(enriched)"
   ]
  },
  {
   "cell_type": "code",
   "execution_count": 11,
   "id": "0a149640-1b03-4701-832e-ab83b76ccaf5",
   "metadata": {},
   "outputs": [
    {
     "name": "stdout",
     "output_type": "stream",
     "text": [
      "{'srr': 78, 'available': 107, 'unknown': 0, 'updated': 107}\n",
      "Save meta data into json:  /home/yuan/bio/scrnaseq_reference/data/labels/GSE136nnn/GSE136831/metadata.json\n"
     ]
    }
   ],
   "source": [
    "# step 5: merge srr_urls into data\n",
    "\n",
    "# sample.<sample_id>.SRR.<SRR accession>.\"ftp.sra.ebi.ac.uk\"\n",
    "file_name = 'srr_fastq_urls_simple.json'\n",
    "urls_json = os.path.join('../results', file_name)\n",
    "urls = Utils.from_json(urls_json)\n",
    "\n",
    "# parse urls\n",
    "data = LabelData(meta_dir).get_meta(geo)\n",
    "enriched = ParseSra.parse_srr_urls(data, urls)\n",
    "LabelData(meta_dir).save(enriched)"
   ]
  },
  {
   "cell_type": "code",
   "execution_count": 12,
   "id": "4ae321c1-ed1b-4387-a94e-a90473e6d273",
   "metadata": {},
   "outputs": [
    {
     "name": "stdout",
     "output_type": "stream",
     "text": [
      "Number of biosamples:  78\n",
      "Number of biosamples with SRR:  78\n",
      "bash /home/yuan/rawdata/SRR/GSE136831/fetch1.sh\n"
     ]
    }
   ],
   "source": [
    "# step 6a: download raw data using biosample accession using nextflow\n",
    "from create_config import CreateConfig\n",
    "from label_data import LabelData\n",
    "\n",
    "sample_iter = LabelData(meta_dir).geo_sample_iter(geo)\n",
    "# create bash script for downloading\n",
    "CreateConfig(download_dir, geo).fetch_biosample(sample_iter)\n",
    "# run the bash script showed here\n",
    "# Outcome: nf download failed"
   ]
  },
  {
   "cell_type": "code",
   "execution_count": 13,
   "id": "275527b0-1e9f-4a8e-b383-193dbff93ccf",
   "metadata": {},
   "outputs": [
    {
     "name": "stdout",
     "output_type": "stream",
     "text": [
      "Number of SRR:  107\n",
      "bash /home/yuan/rawdata/SRR/GSE136831/fetch2.sh\n"
     ]
    }
   ],
   "source": [
    "#Step 6b: collect all SRR without local_fastq then execute bash run2.sh\n",
    "from create_config import CreateConfig\n",
    "from label_data import LabelData\n",
    "\n",
    "sample_iter = LabelData(meta_dir).geo_sample_iter(geo)\n",
    "# create bash script for downloading\n",
    "CreateConfig(download_dir, geo).fetch_ebi_srr(sample_iter)\n",
    "# run the bash script showed here\n",
    "# outcome: all ebi.ftp urls are not existing."
   ]
  },
  {
   "cell_type": "code",
   "execution_count": 14,
   "id": "1f3404eb-7aa3-491b-9036-94d19478a747",
   "metadata": {},
   "outputs": [
    {
     "name": "stdout",
     "output_type": "stream",
     "text": [
      "Number of SRR:  107\n",
      "bash /home/yuan/rawdata/SRR/GSE136831/fetch3.sh\n"
     ]
    }
   ],
   "source": [
    "#Step 6c: download data using fastq-dump\n",
    "# collect all SRR without local_fastq then execute bash run3.sh\n",
    "from create_config import CreateConfig\n",
    "from label_data import LabelData\n",
    "\n",
    "sample_iter = LabelData(meta_dir).geo_sample_iter(geo)\n",
    "# create bash script for downloading\n",
    "CreateConfig(download_dir, geo).fetch_srr(sample_iter)\n",
    "# run the bash script showed here"
   ]
  },
  {
   "cell_type": "code",
   "execution_count": 15,
   "id": "a4b92552-a4bc-497a-bce8-6a7db7ffb0b8",
   "metadata": {},
   "outputs": [
    {
     "name": "stdout",
     "output_type": "stream",
     "text": [
      "Save meta data into json:  /home/yuan/bio/scrnaseq_reference/data/labels/GSE136nnn/GSE136831/metadata.json\n"
     ]
    }
   ],
   "source": [
    "# step 7: parse path of local fastq.gz with SRR in GEO data\n",
    "# Note: run the process multiple times to make sure all SRRs are accessed\n",
    "# print all samples if not any local *.fastq.gz is parsed\n",
    "from parse_sra import ParseSra\n",
    "from label_data import LabelData\n",
    "\n",
    "data = LabelData(meta_dir).get_meta(geo)\n",
    "data, unparsing = ParseSra.parse_local_fastq(data, download_dir)\n",
    "if unparsing:\n",
    "    print(geo, len(unparsing), unparsing[:6])\n",
    "LabelData(meta_dir).save(data)"
   ]
  },
  {
   "cell_type": "markdown",
   "id": "a9a27f94-aaee-4d0a-abbb-989f1c170034",
   "metadata": {},
   "source": [
    "## nf-core/scrnaseq pipeline\n",
    "create samplehseet.csv and params.config\n",
    "3 samples"
   ]
  },
  {
   "cell_type": "code",
   "execution_count": 32,
   "id": "c19c4507-b10e-46d5-bf8e-5377738f2c44",
   "metadata": {},
   "outputs": [
    {
     "name": "stdout",
     "output_type": "stream",
     "text": [
      "No samples meet creteria scrnaseq_lung_tissue_normal\n"
     ]
    }
   ],
   "source": [
    "# scrnaseq_lung_cell_line\n",
    "from utils import Utils\n",
    "from label_data import LabelData\n",
    "from label_sample import LabelSample\n",
    "\n",
    "name = 'scrnaseq_lung_tissue_normal'\n",
    "output_dir = '/home/yuan/output'\n",
    "labeler = LabelData(meta_dir, name, output_dir, True)\n",
    "\n",
    "sample_sheet = {}\n",
    "data = LabelData(meta_dir).get_meta(geo)\n",
    "for sample, geo, run_acc, fastq_sample in labeler.fastq_iter(data):\n",
    "    cl = LabelSample(sample)\n",
    "    if cl.filter(name):\n",
    "        keys = [cl.cell_line(), geo, run_acc,]\n",
    "        Utils.key_update(sample_sheet, [geo,], fastq_sample['sample_sheet'])\n",
    "# export\n",
    "if sample_sheet:\n",
    "    print(\"Number of samples in samplesheet.csv: \", len(sample_sheet[geo]))\n",
    "    labeler.to_sample_sheet(sample_sheet, 'paired')\n",
    "    labeler.nf_cmd()\n",
    "else:\n",
    "    print(f'No samples meet creteria {name}')"
   ]
  },
  {
   "cell_type": "code",
   "execution_count": 38,
   "id": "7695ec60-e93c-4493-8d42-a028107ead08",
   "metadata": {},
   "outputs": [
    {
     "name": "stdout",
     "output_type": "stream",
     "text": [
      "GSE135851\n",
      "No samples meet creteria scrnaseq_lung_tissue_patient\n"
     ]
    }
   ],
   "source": [
    "name = 'scrnaseq_lung_tissue_patient'\n",
    "output_dir = '/home/yuan/output'\n",
    "labeler = LabelData(meta_dir, name, output_dir, True)\n",
    "\n",
    "sample_sheet = {}\n",
    "data = LabelData(meta_dir).get_meta(geo)\n",
    "for sample, geo, run_acc, fastq_sample in labeler.fastq_iter(data):\n",
    "    cl = LabelSample(sample)\n",
    "    print(sample['sample_id'], cl.filter(name))\n",
    "    if cl.filter(name):\n",
    "        keys = [cl.cell_line(), geo, run_acc,]\n",
    "        Utils.key_update(sample_sheet, [geo,], fastq_sample['sample_sheet'])\n",
    "# export\n",
    "if sample_sheet:\n",
    "    print(\"Number of samples in samplesheet.csv: \", len(sample_sheet[geo]))\n",
    "    labeler.to_sample_sheet(sample_sheet, 'paired')\n",
    "    labeler.nf_cmd()\n",
    "else:\n",
    "    print(f'No samples meet creteria {name}')"
   ]
  }
 ],
 "metadata": {
  "kernelspec": {
   "display_name": "Python 3 (ipykernel)",
   "language": "python",
   "name": "python3"
  },
  "language_info": {
   "codemirror_mode": {
    "name": "ipython",
    "version": 3
   },
   "file_extension": ".py",
   "mimetype": "text/x-python",
   "name": "python",
   "nbconvert_exporter": "python",
   "pygments_lexer": "ipython3",
   "version": "3.11.0"
  }
 },
 "nbformat": 4,
 "nbformat_minor": 5
}
