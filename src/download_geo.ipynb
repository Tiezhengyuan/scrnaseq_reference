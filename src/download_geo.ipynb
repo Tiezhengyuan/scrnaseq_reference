{
 "cells": [
  {
   "cell_type": "code",
   "execution_count": 6,
   "id": "b08a64d2-81fd-47b2-ab28-08ff432c03bc",
   "metadata": {},
   "outputs": [
    {
     "name": "stdout",
     "output_type": "stream",
     "text": [
      "The autoreload extension is already loaded. To reload it, use:\n",
      "  %reload_ext autoreload\n"
     ]
    }
   ],
   "source": [
    "import os\n",
    "import numpy as np\n",
    "import pandas as pd\n",
    "import matplotlib.pyplot as plt\n",
    "import Bio\n",
    "import json\n",
    "\n",
    "%load_ext autoreload\n",
    "%autoreload 2"
   ]
  },
  {
   "cell_type": "code",
   "execution_count": null,
   "id": "ada92834-0d1c-4861-86a3-468c8f1eb7de",
   "metadata": {},
   "outputs": [],
   "source": []
  },
  {
   "cell_type": "markdown",
   "id": "1cb41470-cddd-4fd1-96a2-912a7745f647",
   "metadata": {},
   "source": [
    "## download data:\n",
    "- download soft data, read counts data\n",
    "- use python scripts\n",
    "- download geo using nextflow. That is recommended"
   ]
  },
  {
   "cell_type": "code",
   "execution_count": 20,
   "id": "f3c58839-ae46-4d0e-bed5-da761149d4b9",
   "metadata": {},
   "outputs": [],
   "source": [
    "acc_no = 287800\n",
    "url = 'ftp.ncbi.nlm.nih.gov/geo/series'\n",
    "geo_local_dir = '/home/yuan/data/'"
   ]
  },
  {
   "cell_type": "code",
   "execution_count": 21,
   "id": "b1052fba-322e-4482-87fb-b41ada4a93f8",
   "metadata": {},
   "outputs": [
    {
     "name": "stdout",
     "output_type": "stream",
     "text": [
      "Total 287799 soft are downloaded\n"
     ]
    }
   ],
   "source": [
    "# prepare soft_urls.txt consumed by nextflow\n",
    "n = 0\n",
    "with open('../results/soft_urls.txt', 'w') as f:\n",
    "    for i in range(1, acc_no):\n",
    "        i = str(i)\n",
    "        k1 = \"GSE\" + i\n",
    "        k2 = i[:-3] if len(i) > 3 else ''\n",
    "        k2 = \"GSE\" + k2 + 'nnn'\n",
    "        f.write(f\"ftp://{url}/{k2}/{k1}/soft\"+ \"\\n\")\n",
    "        n += 1\n",
    "print(f\"Total {n} soft are downloaded\")"
   ]
  },
  {
   "cell_type": "code",
   "execution_count": 26,
   "id": "cadd7411-907f-4e70-926e-dade9301306e",
   "metadata": {},
   "outputs": [
    {
     "name": "stdout",
     "output_type": "stream",
     "text": [
      "223645-100, 266166-200, 282650-300, Among287799, the number of 366 soft are downloaded\n"
     ]
    }
   ],
   "source": [
    "# download through Python if that *.gz doesn't exist\n",
    "import subprocess\n",
    "\n",
    "n = m = 0\n",
    "with open('../results/download_soft.log', 'w') as log, \\\n",
    "    open('../results/download_soft.err', 'w') as err, \\\n",
    "    open('../results/download_soft_skip.log', 'w') as skip:\n",
    "    for i in range(1, acc_no):\n",
    "        n += 1\n",
    "        i = str(i)\n",
    "        k1 = \"GSE\" + i\n",
    "        k2 = i[:-3] if len(i) > 3 else ''\n",
    "        k2 = \"GSE\" + k2 + 'nnn'\n",
    "        # check if gz exists\n",
    "        local_path = os.path.join(geo_local_dir, f\"{url}/{k2}/{k1}/soft\")\n",
    "        tag = 1\n",
    "        if os.path.isdir(local_path):\n",
    "            for name in os.listdir(local_path):\n",
    "                if name.endswith('.soft.gz'):\n",
    "                    tag = 0\n",
    "                    skip.write(name + '\\n')\n",
    "                    break\n",
    "        # download\n",
    "        if tag == 1:\n",
    "            try:\n",
    "                cmd = ['wget', '-c', '-r', '-q',  f\"ftp://{url}/{k2}/{k1}/soft\" , '-P',  geo_local_dir]\n",
    "                # print(cmd)\n",
    "                subprocess.run(cmd, check=True)\n",
    "                log.write(' '.join(cmd) + '\\n')\n",
    "                m += 1\n",
    "                if m % 100 == 0:\n",
    "                    print(f\"{n}-{m}\", end=', ')\n",
    "            except Exception as e:\n",
    "                line = f\"record={i}, command=\" + ' '.join(cmd) + f\", error=str(e)\\n\"\n",
    "                err.write(line)\n",
    "print(f\"Among{n}, the number of {m} soft are downloaded\")"
   ]
  },
  {
   "cell_type": "code",
   "execution_count": null,
   "id": "2a8bfbba-28d0-449a-931f-663bdde4836f",
   "metadata": {},
   "outputs": [],
   "source": [
    "# validate soft download\n",
    "from parse_soft import ParseSoft\n",
    "\n",
    "local_dir = '/home/yuan/data/'\n",
    "pcl = ParseSoft(local_dir)\n",
    "pcl.validate_soft('../data/validate_soft.bash')"
   ]
  },
  {
   "cell_type": "code",
   "execution_count": null,
   "id": "5521bdbe-2ad5-41ba-9aa7-f5192bbf21da",
   "metadata": {},
   "outputs": [],
   "source": []
  },
  {
   "cell_type": "markdown",
   "id": "8e48ade0-879e-460e-a35b-07d88eefd100",
   "metadata": {},
   "source": [
    "## parse data based on soft"
   ]
  },
  {
   "cell_type": "code",
   "execution_count": 40,
   "id": "cf1c9395-a99e-425c-80fb-4fb94cba2f5c",
   "metadata": {},
   "outputs": [],
   "source": [
    "local_dir = '/home/yuan/data/'\n",
    "outdir = '../results'"
   ]
  },
  {
   "cell_type": "code",
   "execution_count": null,
   "id": "624826e0-4ea6-4449-9d77-1d8abe288390",
   "metadata": {},
   "outputs": [],
   "source": [
    "from parse_soft import ParseSoft\n",
    "# GEO~pubmed_id into geo_pmid.json\n",
    "pcl = ParseSoft(local_dir, outdir)\n",
    "pcl.geo_pmid()"
   ]
  },
  {
   "cell_type": "code",
   "execution_count": null,
   "id": "25444022-56ac-47d2-bb25-517bdf1ec918",
   "metadata": {},
   "outputs": [],
   "source": [
    "# PMID~sample_id into pmid_samples.json\n",
    "pcl = ParseSoft(local_dir, outdir)\n",
    "pcl.pmid_samples()"
   ]
  },
  {
   "cell_type": "code",
   "execution_count": null,
   "id": "52f5dab0-0830-4fe2-af0e-d6d29faee1b3",
   "metadata": {},
   "outputs": [],
   "source": [
    "# GEO~sample_id into geo_sample_id.json\n",
    "pcl = ParseSoft(local_dir, outdir)\n",
    "pcl.geo_sample_id()"
   ]
  },
  {
   "cell_type": "code",
   "execution_count": 34,
   "id": "b0ccdb06-3b1a-4a07-8fab-529bafcd0ca6",
   "metadata": {},
   "outputs": [
    {
     "name": "stdout",
     "output_type": "stream",
     "text": [
      "5000, 10000, 15000, 20000, 25000, 30000, 35000, 40000, 45000, 50000, 55000, 60000, 65000, 70000, 75000, 80000, 85000, 90000, 95000, 100000, 105000, 110000, 115000, 120000, 125000, 130000, 135000, 140000, 145000, 150000, 155000, 160000, 165000, 170000, 175000, 180000, 185000, 190000, 195000, 200000, 205000, 210000, 215000, 220000, 225000, 230000, 235000, 240000, 245000, "
     ]
    },
    {
     "data": {
      "text/plain": [
       "'../data/geo_samples.json'"
      ]
     },
     "execution_count": 34,
     "metadata": {},
     "output_type": "execute_result"
    }
   ],
   "source": [
    "# GEO~sample_id into geo_samples.json\n",
    "pcl = ParseSoft(local_dir, outdir)\n",
    "pcl.geo_samples()"
   ]
  },
  {
   "cell_type": "markdown",
   "id": "59de7c95-039e-4958-9217-b54353396f2a",
   "metadata": {},
   "source": [
    "## parse data based on SRA data"
   ]
  },
  {
   "cell_type": "code",
   "execution_count": 62,
   "id": "540ec070-88c1-49c6-a83c-b9b494c24a31",
   "metadata": {},
   "outputs": [
    {
     "data": {
      "text/plain": [
       "('../results/srx_samn.json', '../results/samn_srx.json')"
      ]
     },
     "execution_count": 62,
     "metadata": {},
     "output_type": "execute_result"
    }
   ],
   "source": [
    "from parse_sra import ParseSra\n",
    "\n",
    "ps = ParseSra(local_dir, outdir)\n",
    "ps.srx_samn()"
   ]
  },
  {
   "cell_type": "code",
   "execution_count": 63,
   "id": "00a6421f-b1da-49f2-8112-3e6fd33ebde9",
   "metadata": {},
   "outputs": [
    {
     "data": {
      "text/plain": [
       "('../results/srr_samn.json', '../results/samn_srr.json')"
      ]
     },
     "execution_count": 63,
     "metadata": {},
     "output_type": "execute_result"
    }
   ],
   "source": [
    "ps = ParseSra(local_dir, outdir)\n",
    "ps.srr_samn()"
   ]
  },
  {
   "cell_type": "code",
   "execution_count": 57,
   "id": "72e9e296-a1db-44bf-8987-3c7ab11f7e4d",
   "metadata": {},
   "outputs": [],
   "source": [
    "ps.search(17, 'GSM4088789')"
   ]
  },
  {
   "cell_type": "code",
   "execution_count": null,
   "id": "a8e2961f-3ba5-4e37-bfac-8d0667016c4b",
   "metadata": {},
   "outputs": [],
   "source": []
  },
  {
   "cell_type": "markdown",
   "id": "39a9b8be-f6b7-4e91-ae82-48b98fd27a10",
   "metadata": {},
   "source": [
    "## process fastq\n",
    "\n",
    "fastq files downloaded from SRA are stored in ~/data/SRA"
   ]
  },
  {
   "cell_type": "code",
   "execution_count": 75,
   "id": "c96a5075-6e2c-41d6-96a3-c8b851d0b350",
   "metadata": {},
   "outputs": [
    {
     "name": "stdout",
     "output_type": "stream",
     "text": [
      "0 files are moved to /home/yuan/data/SRA/.\n"
     ]
    }
   ],
   "source": [
    "# collect fastq into another direcotry for organization\n",
    "local_dir = '/home/yuan/data/scRNAseq'\n",
    "outdir = '/home/yuan/data/SRA/'\n",
    "ps = ParseSra(local_dir, outdir)\n",
    "ps.move_srr_fastq()"
   ]
  },
  {
   "cell_type": "code",
   "execution_count": null,
   "id": "d0970c3e-ffe5-4b33-b29a-e5ad554dcdab",
   "metadata": {},
   "outputs": [],
   "source": []
  }
 ],
 "metadata": {
  "kernelspec": {
   "display_name": "Python 3 (ipykernel)",
   "language": "python",
   "name": "python3"
  },
  "language_info": {
   "codemirror_mode": {
    "name": "ipython",
    "version": 3
   },
   "file_extension": ".py",
   "mimetype": "text/x-python",
   "name": "python",
   "nbconvert_exporter": "python",
   "pygments_lexer": "ipython3",
   "version": "3.11.11"
  }
 },
 "nbformat": 4,
 "nbformat_minor": 5
}
