{
 "cells": [
  {
   "cell_type": "code",
   "execution_count": null,
   "id": "346d4148-d6ac-4112-b1d1-a5754011d3c5",
   "metadata": {},
   "outputs": [],
   "source": []
  },
  {
   "cell_type": "code",
   "execution_count": 1,
   "id": "2329e228-0535-4d49-aa6b-b14cdce4415a",
   "metadata": {},
   "outputs": [],
   "source": [
    "import os\n",
    "import gzip\n",
    "from Bio import SeqIO"
   ]
  },
  {
   "cell_type": "code",
   "execution_count": 2,
   "id": "6bcaa9d4-4f28-4603-8f45-5cd9ed043f5f",
   "metadata": {},
   "outputs": [
    {
     "name": "stdout",
     "output_type": "stream",
     "text": [
      "ID: SRR17134445.1\n",
      "Name: SRR17134445.1\n",
      "Description: SRR17134445.1 1/1\n",
      "Number of features: 0\n",
      "Per letter annotation for: phred_quality\n",
      "Seq('NGAGATTCGACGGCATTTTTTTTTTTTTTTTTTTTTTAAGATTATTAGTATAAA...GGG')\n"
     ]
    }
   ],
   "source": [
    "# correct paired-end\n",
    "path = '/home/yuan/rawdata/SRR/GSE190202/fastq/SRX13318877_SRR17134445_1.fastq.gz'\n",
    "with gzip.open(path, 'rt') as f:\n",
    "    for rec in SeqIO.parse(f, 'fastq'):\n",
    "        print(rec)\n",
    "        break"
   ]
  },
  {
   "cell_type": "code",
   "execution_count": 3,
   "id": "a7c50067-6b84-466a-88ce-994ef70d1abd",
   "metadata": {},
   "outputs": [
    {
     "name": "stdout",
     "output_type": "stream",
     "text": [
      "@SRR17134445.1 1/2\n",
      "ATAGCCAGCATCACCCTCCTTAACCTCTACTTCTACCTACGCCTAATCTACTCCACCTCAATCACACTACTCCCCATATCTAACAACGTCAAAATAAAATG\n",
      "+\n",
      "//<<B//BF/F//BB/FFFF/<<///FFFFBBBF<B//F<BFFFFFFF/FFF<FFB/BFF/F/F/F<FFFFF//7/<///F//F</<FF//7///F///<<\n"
     ]
    }
   ],
   "source": [
    "path = '/home/yuan/rawdata/SRR/GSE190202/fastq/SRX13318877_SRR17134445_2.fastq.gz'\n",
    "with gzip.open(path, 'rt') as f:\n",
    "    n = 0\n",
    "    for line in f:\n",
    "        line = line.rstrip()\n",
    "        print(line)\n",
    "        n += 1\n",
    "        if n>=4:\n",
    "            break"
   ]
  },
  {
   "cell_type": "code",
   "execution_count": null,
   "id": "e5c92d6a-d938-479c-a8f3-9deba0f53c65",
   "metadata": {},
   "outputs": [],
   "source": []
  },
  {
   "cell_type": "code",
   "execution_count": null,
   "id": "a505045c-bffd-4757-ada6-c8ca45d6b0c2",
   "metadata": {},
   "outputs": [],
   "source": []
  },
  {
   "cell_type": "code",
   "execution_count": null,
   "id": "17baa6d3-a98a-47dc-8e42-3ba469156251",
   "metadata": {},
   "outputs": [],
   "source": []
  },
  {
   "cell_type": "code",
   "execution_count": 13,
   "id": "b044d3fb-f2fc-4d38-8953-a70218c16651",
   "metadata": {},
   "outputs": [
    {
     "name": "stdout",
     "output_type": "stream",
     "text": [
      "\n",
      " /home/yuan/rawdata/SRR/GSE168410/fastq/SRR13873714_1.fastq.gz\n",
      "ID: SRR13873714.1.1\n",
      "Name: SRR13873714.1.1\n",
      "Description: SRR13873714.1.1 1 length=75\n",
      "Number of features: 0\n",
      "Per letter annotation for: phred_quality\n",
      "Seq('TAGACNATCCAATTTTTTTTTTTTTTTTTATTTATAAATAGAAAAAAAAANNNN...NNA') 75\n",
      "\n",
      " /home/yuan/rawdata/SRR/GSE168410/fastq/SRR13873714_2.fastq.gz\n",
      "ID: SRR13873714.1.2\n",
      "Name: SRR13873714.1.2\n",
      "Description: SRR13873714.1.2 1 length=76\n",
      "Number of features: 0\n",
      "Per letter annotation for: phred_quality\n",
      "Seq('CTGCGCCTCAGAGACGCACCAAAACCAGCTGGGCTGCGCTCAGCTCCAGGGGGA...ACT') 76\n"
     ]
    }
   ],
   "source": [
    "# other\n",
    "import gzip\n",
    "from Bio import SeqIO\n",
    "\n",
    "def view_seq(fastq_file, num:int=1):\n",
    "    print('\\n', fastq_file)\n",
    "    n = 0\n",
    "    with gzip.open(fastq_file, 'rt') as f:\n",
    "        for rec in SeqIO.parse(f, 'fastq'):\n",
    "            print(rec, len(rec.seq))\n",
    "            n += 1\n",
    "            if n>=num:\n",
    "                break\n",
    "\n",
    "fq1 = '/home/yuan/rawdata/SRR/GSE168410/fastq/SRR13873714_1.fastq.gz'\n",
    "fq2 = fq1.replace('_1', '_2')\n",
    "view_seq(fq1)\n",
    "view_seq(fq2)"
   ]
  },
  {
   "cell_type": "code",
   "execution_count": 17,
   "id": "0d3ff76b-b149-4fe5-97cc-f4e028c82774",
   "metadata": {},
   "outputs": [
    {
     "name": "stdout",
     "output_type": "stream",
     "text": [
      "\n",
      " ['SRR15180334']\n",
      "150,150,\n",
      " ['SRR15180332']\n",
      "150,150,\n",
      " ['SRR15180331']\n",
      "150,150,\n",
      " ['SRR15180322']\n",
      "150,150,\n",
      " ['SRR15180329']\n",
      "150,\n",
      " ['SRR15180325']\n",
      "150,150,\n",
      " ['SRR15180326']\n",
      "150,150,\n",
      " ['SRR15180327']\n",
      "150,150,\n",
      " ['SRR15180333']\n",
      "150,150,\n",
      " ['SRR15180328']\n",
      "150,150,\n",
      " ['SRR15180324']\n",
      "150,150,\n",
      " ['SRR15180336']\n",
      "150,150,\n",
      " ['SRR15180330']\n",
      "150,"
     ]
    }
   ],
   "source": [
    "# other\n",
    "import os\n",
    "import re\n",
    "import gzip\n",
    "from Bio import SeqIO\n",
    "from utils import Utils\n",
    "\n",
    "def view_seq(fastq_file, num:int=1):\n",
    "    if os.path.isfile (fastq_file):\n",
    "        n = 0\n",
    "        with gzip.open(fastq_file, 'rt') as f:\n",
    "            for rec in SeqIO.parse(f, 'fastq'):\n",
    "                print(len(rec.seq), end=',')\n",
    "                n += 1\n",
    "                if n>=num:\n",
    "                    break\n",
    "indir = '/home/yuan/rawdata/SRR/GSE180286/fastq'\n",
    "for fq1 in Utils.file_pattern_iter(indir, '_1.fastq.gz'):\n",
    "    srr = re.findall(r'SRR\\d+', fq1)\n",
    "    print('\\n', srr)\n",
    "    fq2 = fq1.replace('_1', '_2')\n",
    "    view_seq(fq1)\n",
    "    view_seq(fq2)"
   ]
  },
  {
   "cell_type": "code",
   "execution_count": null,
   "id": "33a84e89-c779-4ed1-8f87-4f977aade0fb",
   "metadata": {},
   "outputs": [],
   "source": []
  },
  {
   "cell_type": "code",
   "execution_count": null,
   "id": "c22178c3-1c5b-4a02-9c87-f56e3e53c2cf",
   "metadata": {},
   "outputs": [],
   "source": []
  }
 ],
 "metadata": {
  "kernelspec": {
   "display_name": "Python 3 (ipykernel)",
   "language": "python",
   "name": "python3"
  },
  "language_info": {
   "codemirror_mode": {
    "name": "ipython",
    "version": 3
   },
   "file_extension": ".py",
   "mimetype": "text/x-python",
   "name": "python",
   "nbconvert_exporter": "python",
   "pygments_lexer": "ipython3",
   "version": "3.11.0"
  }
 },
 "nbformat": 4,
 "nbformat_minor": 5
}
