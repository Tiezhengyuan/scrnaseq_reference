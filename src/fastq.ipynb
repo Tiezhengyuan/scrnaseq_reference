{
 "cells": [
  {
   "cell_type": "code",
   "execution_count": 3,
   "id": "2329e228-0535-4d49-aa6b-b14cdce4415a",
   "metadata": {},
   "outputs": [],
   "source": [
    "import os\n",
    "import gzip\n",
    "from Bio import SeqIO"
   ]
  },
  {
   "cell_type": "code",
   "execution_count": 27,
   "id": "6bcaa9d4-4f28-4603-8f45-5cd9ed043f5f",
   "metadata": {},
   "outputs": [
    {
     "name": "stdout",
     "output_type": "stream",
     "text": [
      "ID: SRR9985347.1\n",
      "Name: SRR9985347.1\n",
      "Description: SRR9985347.1 1/1\n",
      "Number of features: 0\n",
      "Per letter annotation for: phred_quality\n",
      "Seq('AGCATACTCTTGGGTATAGTCTTGGTTTTCTTATATGGGATTTGTGTGGCCTTT...CCA')\n"
     ]
    }
   ],
   "source": [
    "# correct paired-end\n",
    "path = '/home/yuan/rawdata/SRR/GSE135893/fastq/SRR9985347_1.fastq.gz'\n",
    "with gzip.open(path, 'rt') as f:\n",
    "    for rec in SeqIO.parse(f, 'fastq'):\n",
    "        print(rec)\n",
    "        break"
   ]
  },
  {
   "cell_type": "code",
   "execution_count": 28,
   "id": "a7c50067-6b84-466a-88ce-994ef70d1abd",
   "metadata": {},
   "outputs": [
    {
     "name": "stdout",
     "output_type": "stream",
     "text": [
      "@SRR9985347.1 1/2\n",
      "TTTTTTGTTGTCCTTCCTACTTAGTTTGCAATTTTTGCCACTCCTTTTGAAATAGCTCATCCTCCTGTCTTCTACATAGGTGGTGCAGAAAGTATTTTAAAAATCAATGTAGCATTCTTTACTACTTGCTATATGAAACACTACTGGCAT\n",
      "+\n",
      "FF,FFFFFFFFFFFFFFFF:FFFFFFFFFFFFFFFFFFFFFFF:FFFFF:FFFFFFFFFFFFFFFFFFFFF,FFFF:FFFFFFFFFFF:FFFFFFFFFFFF:FFFFFFFFF:FFFFFFFFF:FFFFFFFFFFFFFF:FFFFFFFFFF:FF\n"
     ]
    }
   ],
   "source": [
    "path = '/home/yuan/rawdata/SRR/GSE135893/fastq/SRR9985347_2.fastq.gz'\n",
    "with gzip.open(path, 'rt') as f:\n",
    "    n = 0\n",
    "    for line in f:\n",
    "        line = line.rstrip()\n",
    "        print(line)\n",
    "        n += 1\n",
    "        if n>=4:\n",
    "            break"
   ]
  },
  {
   "cell_type": "code",
   "execution_count": null,
   "id": "e5c92d6a-d938-479c-a8f3-9deba0f53c65",
   "metadata": {},
   "outputs": [],
   "source": []
  },
  {
   "cell_type": "code",
   "execution_count": null,
   "id": "a505045c-bffd-4757-ada6-c8ca45d6b0c2",
   "metadata": {},
   "outputs": [],
   "source": []
  },
  {
   "cell_type": "code",
   "execution_count": null,
   "id": "17baa6d3-a98a-47dc-8e42-3ba469156251",
   "metadata": {},
   "outputs": [],
   "source": []
  },
  {
   "cell_type": "code",
   "execution_count": 7,
   "id": "b044d3fb-f2fc-4d38-8953-a70218c16651",
   "metadata": {},
   "outputs": [
    {
     "name": "stdout",
     "output_type": "stream",
     "text": [
      "ID: SRR11550090.1\n",
      "Name: SRR11550090.1\n",
      "Description: SRR11550090.1 1/1\n",
      "Number of features: 0\n",
      "Per letter annotation for: phred_quality\n",
      "Seq('TNAATAACCAACCCGAGGCGG') 21\n",
      "ID: SRR11550090.2\n",
      "Name: SRR11550090.2\n",
      "Description: SRR11550090.2 2/1\n",
      "Number of features: 0\n",
      "Per letter annotation for: phred_quality\n",
      "Seq('CNCCGCTTACACGCTCCCCCA') 21\n"
     ]
    }
   ],
   "source": [
    "# other\n",
    "n = 0\n",
    "path = '/home/yuan/rawdata/SRR/GSE148729/fastq/SRR11550059_1.fastq.gz'\n",
    "with gzip.open(path, 'rt') as f:\n",
    "    for rec in SeqIO.parse(f, 'fastq'):\n",
    "        print(rec, len(rec.seq))\n",
    "        n += 1\n",
    "        if n>=2:\n",
    "            break"
   ]
  },
  {
   "cell_type": "code",
   "execution_count": 39,
   "id": "0d3ff76b-b149-4fe5-97cc-f4e028c82774",
   "metadata": {},
   "outputs": [
    {
     "data": {
      "text/plain": [
       "15"
      ]
     },
     "execution_count": 39,
     "metadata": {},
     "output_type": "execute_result"
    }
   ],
   "source": [
    "len(rec.seq)"
   ]
  },
  {
   "cell_type": "code",
   "execution_count": 44,
   "id": "33a84e89-c779-4ed1-8f87-4f977aade0fb",
   "metadata": {},
   "outputs": [
    {
     "name": "stdout",
     "output_type": "stream",
     "text": [
      "@SRR31072097.1 A01102:509:HJ7GYDSX5:4:1101:3079:1000/1\n",
      "NTCCTGAGCTCGCCTTAGGACACCTGCGTTACCGTTTGACAGGTGTACCGCCCCAGTCAAACTCCCCACCTGGCACTGTCCCCGGAGCGGGTCGCGGGCGC\n",
      "+\n",
      "#FFFFFFFFFFFFFFFFFFFFFFFFFFFFFFFFFFFFFFFFFFFFFFFFFFFFFFFFFFFFFFFFFFFFF,FFF:FFFFFFFFFFFFFFFFFFFFFF,:,,\n"
     ]
    }
   ],
   "source": [
    "path = '/home/yuan/rawdata/SRR/GSE280041/fastq/SRX26455643_SRR31072097_1.fastq.gz'\n",
    "with gzip.open(path, 'rt') as f:\n",
    "    n = 0\n",
    "    for line in f:\n",
    "        line = line.rstrip()\n",
    "        print(line)\n",
    "        n += 1\n",
    "        if n>=4:\n",
    "            break"
   ]
  },
  {
   "cell_type": "code",
   "execution_count": null,
   "id": "c22178c3-1c5b-4a02-9c87-f56e3e53c2cf",
   "metadata": {},
   "outputs": [],
   "source": []
  }
 ],
 "metadata": {
  "kernelspec": {
   "display_name": "Python 3 (ipykernel)",
   "language": "python",
   "name": "python3"
  },
  "language_info": {
   "codemirror_mode": {
    "name": "ipython",
    "version": 3
   },
   "file_extension": ".py",
   "mimetype": "text/x-python",
   "name": "python",
   "nbconvert_exporter": "python",
   "pygments_lexer": "ipython3",
   "version": "3.11.0"
  }
 },
 "nbformat": 4,
 "nbformat_minor": 5
}
