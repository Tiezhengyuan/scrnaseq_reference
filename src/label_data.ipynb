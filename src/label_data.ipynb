{
 "cells": [
  {
   "cell_type": "code",
   "execution_count": null,
   "id": "905503ba-60ce-4281-8053-9a331b03c929",
   "metadata": {},
   "outputs": [],
   "source": []
  },
  {
   "cell_type": "code",
   "execution_count": 125,
   "id": "be972f75-e10f-47e3-96ea-ccdfbe64d688",
   "metadata": {},
   "outputs": [],
   "source": [
    "import json\n",
    "import os\n",
    "import numpy as np\n",
    "import pandas as pd\n",
    "\n",
    "from utils import Utils\n",
    "from label_data import LabelData\n",
    "from parse_soft import ParseSoft\n",
    "from search_soft import SearchSoft\n",
    "from enrich_soft import EnrichSoft\n",
    "from parse_sra import ParseSra\n",
    "\n",
    "%reload_ext autoreload\n",
    "%autoreload 2\n"
   ]
  },
  {
   "cell_type": "code",
   "execution_count": 143,
   "id": "f08a3385-65ac-4a61-ac44-9c5543da6ff8",
   "metadata": {},
   "outputs": [],
   "source": [
    "# load pairwising data\n",
    "pmid_samples = Utils.from_json('../results/pmid_samples.json')\n",
    "pmid_geo = Utils.from_json('../results/pmid_geo.json')\n",
    "geo_sampleid = Utils.from_json('../results/geo_sampleid.json')\n",
    "samn_srr = Utils.from_json('../results/samn_srr.json')"
   ]
  },
  {
   "cell_type": "code",
   "execution_count": 148,
   "id": "a841377e-1789-417c-93d8-18ad152580dc",
   "metadata": {},
   "outputs": [],
   "source": [
    "# set direcotry\n",
    "\n",
    "# \n",
    "data_dir = '/home/yuan/data'\n",
    "\n",
    "# \n",
    "label_dir = '../data/labels'\n",
    "if not os.path.isdir(label_dir):\n",
    "    os.mkdir(label_dir)\n",
    "#\n",
    "fastq_dir = '/home/yuan/data/SRA'"
   ]
  },
  {
   "cell_type": "code",
   "execution_count": null,
   "id": "501500fd-285d-4cc6-9f24-9de771a5d043",
   "metadata": {},
   "outputs": [],
   "source": []
  },
  {
   "cell_type": "code",
   "execution_count": null,
   "id": "e19e7455-73f8-494c-89bd-e3755de4877d",
   "metadata": {},
   "outputs": [],
   "source": [
    "\n"
   ]
  },
  {
   "cell_type": "code",
   "execution_count": null,
   "id": "e70e9abc-99b7-4fb4-9c0e-2ba040f6e9d7",
   "metadata": {},
   "outputs": [],
   "source": [
    "attr = ['disease', 'tissue', 'cell_type', 'cell_line', 'treated', 'cultivation']"
   ]
  },
  {
   "cell_type": "code",
   "execution_count": 100,
   "id": "00814f51-68c8-4dc7-9c66-b7477471db3e",
   "metadata": {},
   "outputs": [
    {
     "data": {
      "text/plain": [
       "{'GEO': 'GSE286399',\n",
       " 'geo_http': 'https://www.ncbi.nlm.nih.gov/geo/query/acc.cgi?acc=GSE286399',\n",
       " 'PMID': None,\n",
       " 'taxid': '9606',\n",
       " 'platform': [{'platform_id': 'GPL24676',\n",
       "   'platform_title': 'Illumina NovaSeq 6000 (Homo sapiens)',\n",
       "   'platform_technology': 'high-throughput sequencing'}],\n",
       " 'samples': {'GSM8726430': {'sample_id': 'GSM8726430',\n",
       "   'tissue': 'Lung cancer cell line',\n",
       "   'cell line': 'NCI-H1299',\n",
       "   'cell type': 'Lung cancer cell line',\n",
       "   'treatment': 'DMSO',\n",
       "   'Sample_description': ['Library name: sample1'],\n",
       "   'BioSample': 'https://www.ncbi.nlm.nih.gov/biosample/SAMN46202173',\n",
       "   'SRA': 'SRX27313887',\n",
       "   'SRA_url': 'https://www.ncbi.nlm.nih.gov/sra?term=SRX27313887'},\n",
       "  'GSM8726431': {'sample_id': 'GSM8726431',\n",
       "   'tissue': 'Lung cancer cell line',\n",
       "   'cell line': 'NCI-H1299',\n",
       "   'cell type': 'Lung cancer cell line',\n",
       "   'treatment': 'JTE-607',\n",
       "   'Sample_description': ['Library name: sample2'],\n",
       "   'BioSample': 'https://www.ncbi.nlm.nih.gov/biosample/SAMN46202172',\n",
       "   'SRA': 'SRX27313888',\n",
       "   'SRA_url': 'https://www.ncbi.nlm.nih.gov/sra?term=SRX27313888'},\n",
       "  'GSM8726432': {'sample_id': 'GSM8726432',\n",
       "   'tissue': 'Lung cancer cell line',\n",
       "   'cell line': 'NCI-H226',\n",
       "   'cell type': 'Lung cancer cell line',\n",
       "   'treatment': 'DMSO',\n",
       "   'Sample_description': ['Library name: sample3'],\n",
       "   'BioSample': 'https://www.ncbi.nlm.nih.gov/biosample/SAMN46202171',\n",
       "   'SRA': 'SRX27313889',\n",
       "   'SRA_url': 'https://www.ncbi.nlm.nih.gov/sra?term=SRX27313889'}}}"
      ]
     },
     "execution_count": 100,
     "metadata": {},
     "output_type": "execute_result"
    }
   ],
   "source": [
    "# test parse, and enrich\n",
    "geo ='GSE286399'\n",
    "parser = ParseSoft(data_dir)\n",
    "soft_path = parser.soft_local_path(geo)\n",
    "softer = SearchSoft(soft_path)\n",
    "data = softer.filter_data(softer.parse_rows)\n",
    "enriched = EnrichSoft(data)()\n",
    "enriched"
   ]
  },
  {
   "cell_type": "markdown",
   "id": "3beb7f9d-3ac0-4b90-a30c-211747efb905",
   "metadata": {},
   "source": [
    "## H1299"
   ]
  },
  {
   "cell_type": "code",
   "execution_count": 167,
   "id": "f7b0aa1b-5858-4923-a205-8f75d742c680",
   "metadata": {},
   "outputs": [
    {
     "name": "stdout",
     "output_type": "stream",
     "text": [
      "GSE286399, GSE280041, GSE144357, GSE121309, GSE183590, GSE148729, "
     ]
    }
   ],
   "source": [
    "parser = ParseSoft(data_dir)\n",
    "cl = LabelData(label_dir)\n",
    "\n",
    "geo_h1299 = ['GSE286399', 'GSE280041', 'GSE144357', 'GSE121309', 'GSE183590', 'GSE148729']\n",
    "for geo in geo_h1299:\n",
    "    print(geo, end=', ')\n",
    "    soft_path = parser.soft_local_path(geo)\n",
    "    softer = SearchSoft(soft_path)\n",
    "    data = softer.filter_data(softer.parse_rows)\n",
    "    enriched = EnrichSoft(data)()\n",
    "    cl.save(enriched)"
   ]
  },
  {
   "cell_type": "markdown",
   "id": "616c871e-2ab5-4e1e-91ea-f7b8ec2d615f",
   "metadata": {},
   "source": [
    "## cell marker"
   ]
  },
  {
   "cell_type": "code",
   "execution_count": 95,
   "id": "a73f1df0-9d82-4c08-9f3a-4a600dbf9a56",
   "metadata": {},
   "outputs": [],
   "source": [
    "cellmarker = pd.ExcelFile('../results/Cell_marker_Seq.xlsx')\n",
    "cm = cellmarker.parse('seq')"
   ]
  },
  {
   "cell_type": "code",
   "execution_count": 96,
   "id": "783809fe-efc3-4fcf-bb94-ed4dd0d234ca",
   "metadata": {},
   "outputs": [
    {
     "name": "stdout",
     "output_type": "stream",
     "text": [
      "[30259978 30523199 30554520 30650190 30784054 31221805 31233341 31289132\n",
      " 31299246 31333652 31405848 31834999 31840053 31892341 31996486 32004478\n",
      " 32072637 32109386 32112047 32122885 32203281 32246845 32317009 32317643\n",
      " 32373206 32398875 32405060 32497778 32580738 32603599 32810439 32822576\n",
      " 32832598 32832599 32849643 32882007 32968798 32973742 33057196 33083004\n",
      " 33123174 33144684 33178221 33377642 33382972 33500718 33514641 33571124\n",
      " 33598101 33657410 33705361 33717172 33822772 33879239 33953163 33972311\n",
      " 34017124 34030460 34049947 34247147 34313733 34330889 34475869 34504485\n",
      " 34603282 34624218 34663877 34715018 34764257 34780851 34804043 34876692\n",
      " 34914922 34916290 35078977 35108060 35126365 35184398 35213222 35216676\n",
      " 35354645 35430336]\n"
     ]
    }
   ],
   "source": [
    "# get PMID\n",
    "lung_cm = cm[(cm['species']=='Human') & cm['tissue_type'].str.contains('Lung')]\n",
    "pmid_list= np.unique(lung_cm['PMID'])\n",
    "print(pmid_list)"
   ]
  },
  {
   "cell_type": "code",
   "execution_count": 168,
   "id": "4849cbd7-43a8-43c2-84b3-caba0f416981",
   "metadata": {},
   "outputs": [
    {
     "name": "stdout",
     "output_type": "stream",
     "text": [
      "GSE112274, GSE121611, GSE122960, GSE128033, GSE128169, GSE133747, GSE137799, GSE137805, GSE137811, GSE124885, GSE132771, GSE147066, GSE145926, GSE140819, GSE135851, GSE135893, GSE136831, GSE217722, GSE162936, GSE162498, GSE162499, GSE162500, GSE158055, GSE166033, GSE166034, GSE166035, GSE166036, GSE166037, GSE166059, GSE168710, GSE148071, GSE164829, GSE156311, GSE168299, "
     ]
    }
   ],
   "source": [
    "# retrieve soft data\n",
    "parser = ParseSoft(data_dir)\n",
    "cl = LabelData(label_dir)\n",
    "\n",
    "for pmid in pmid_list:\n",
    "    geo_pool = Utils.pmid_get(pmid_geo, pmid)\n",
    "    for geo in geo_pool:\n",
    "        print(geo, end=', ')\n",
    "        soft_path = parser.soft_local_path(geo)\n",
    "        softer = SearchSoft(soft_path)\n",
    "        data = softer.filter_data(softer.parse_rows)\n",
    "        enriched = EnrichSoft(data)()\n",
    "        cl.save(enriched)"
   ]
  },
  {
   "cell_type": "code",
   "execution_count": 112,
   "id": "3eda05c7-a953-4fbb-8226-dd23c1ff3412",
   "metadata": {},
   "outputs": [],
   "source": []
  },
  {
   "cell_type": "code",
   "execution_count": 169,
   "id": "4847497a-3d54-484a-98f5-2fd782ab17ba",
   "metadata": {},
   "outputs": [],
   "source": [
    "# Given BioSample, parse SRR accessions and local fastq.gz if that exists\n",
    "cl = LabelData(label_dir)\n",
    "for data in cl.json_iter():\n",
    "    data = ParseSra.parse_srr(data, samn_srr, fastq_dir)\n",
    "    cl.save(data)"
   ]
  },
  {
   "cell_type": "code",
   "execution_count": 177,
   "id": "d391c1c5-0eba-48a5-a308-c1169920320a",
   "metadata": {},
   "outputs": [
    {
     "name": "stdout",
     "output_type": "stream",
     "text": [
      "fastq-dump SRR9970044 -O /home/yuan/results/fastq --gzip\n",
      "fastq-dump SRR9970045 -O /home/yuan/results/fastq --gzip\n",
      "fastq-dump SRR9970046 -O /home/yuan/results/fastq --gzip\n",
      "fastq-dump SRR9970047 -O /home/yuan/results/fastq --gzip\n",
      "fastq-dump SRR9970048 -O /home/yuan/results/fastq --gzip\n",
      "fastq-dump SRR9970049 -O /home/yuan/results/fastq --gzip\n",
      "fastq-dump SRR9970050 -O /home/yuan/results/fastq --gzip\n",
      "fastq-dump SRR10974768 -O /home/yuan/results/fastq --gzip\n",
      "fastq-dump SRR10975280 -O /home/yuan/results/fastq --gzip\n",
      "fastq-dump SRR10975281 -O /home/yuan/results/fastq --gzip\n",
      "fastq-dump SRR10975282 -O /home/yuan/results/fastq --gzip\n",
      "fastq-dump SRR10975283 -O /home/yuan/results/fastq --gzip\n",
      "fastq-dump SRR10975284 -O /home/yuan/results/fastq --gzip\n",
      "fastq-dump SRR10975286 -O /home/yuan/results/fastq --gzip\n",
      "fastq-dump SRR10975290 -O /home/yuan/results/fastq --gzip\n",
      "fastq-dump SRR11549937 -O /home/yuan/results/fastq --gzip\n",
      "fastq-dump SRR11549945 -O /home/yuan/results/fastq --gzip\n",
      "fastq-dump SRR11549947 -O /home/yuan/results/fastq --gzip\n",
      "fastq-dump SRR11549952 -O /home/yuan/results/fastq --gzip\n",
      "fastq-dump SRR11549953 -O /home/yuan/results/fastq --gzip\n",
      "fastq-dump SRR11549958 -O /home/yuan/results/fastq --gzip\n",
      "fastq-dump SRR11549963 -O /home/yuan/results/fastq --gzip\n",
      "fastq-dump SRR11549965 -O /home/yuan/results/fastq --gzip\n",
      "fastq-dump SRR11549967 -O /home/yuan/results/fastq --gzip\n",
      "fastq-dump SRR11549968 -O /home/yuan/results/fastq --gzip\n",
      "fastq-dump SRR11549970 -O /home/yuan/results/fastq --gzip\n",
      "fastq-dump SRR11549972 -O /home/yuan/results/fastq --gzip\n",
      "fastq-dump SRR11549974 -O /home/yuan/results/fastq --gzip\n",
      "fastq-dump SRR11549975 -O /home/yuan/results/fastq --gzip\n",
      "fastq-dump SRR11549977 -O /home/yuan/results/fastq --gzip\n",
      "fastq-dump SRR11549978 -O /home/yuan/results/fastq --gzip\n",
      "fastq-dump SRR11549982 -O /home/yuan/results/fastq --gzip\n",
      "fastq-dump SRR11549983 -O /home/yuan/results/fastq --gzip\n",
      "fastq-dump SRR11549984 -O /home/yuan/results/fastq --gzip\n",
      "fastq-dump SRR11549986 -O /home/yuan/results/fastq --gzip\n",
      "fastq-dump SRR11549987 -O /home/yuan/results/fastq --gzip\n",
      "fastq-dump SRR11549989 -O /home/yuan/results/fastq --gzip\n",
      "fastq-dump SRR11549990 -O /home/yuan/results/fastq --gzip\n",
      "fastq-dump SRR11549991 -O /home/yuan/results/fastq --gzip\n",
      "fastq-dump SRR11549992 -O /home/yuan/results/fastq --gzip\n",
      "fastq-dump SRR11549993 -O /home/yuan/results/fastq --gzip\n",
      "fastq-dump SRR11549994 -O /home/yuan/results/fastq --gzip\n",
      "fastq-dump SRR11549995 -O /home/yuan/results/fastq --gzip\n",
      "fastq-dump SRR11549996 -O /home/yuan/results/fastq --gzip\n",
      "fastq-dump SRR11549998 -O /home/yuan/results/fastq --gzip\n",
      "fastq-dump SRR12304304 -O /home/yuan/results/fastq --gzip\n",
      "fastq-dump SRR11550001 -O /home/yuan/results/fastq --gzip\n",
      "fastq-dump SRR11550002 -O /home/yuan/results/fastq --gzip\n",
      "fastq-dump SRR11550003 -O /home/yuan/results/fastq --gzip\n",
      "fastq-dump SRR11550004 -O /home/yuan/results/fastq --gzip\n",
      "fastq-dump SRR11550005 -O /home/yuan/results/fastq --gzip\n",
      "fastq-dump SRR11550006 -O /home/yuan/results/fastq --gzip\n",
      "fastq-dump SRR11550007 -O /home/yuan/results/fastq --gzip\n",
      "fastq-dump SRR11550008 -O /home/yuan/results/fastq --gzip\n",
      "fastq-dump SRR11550009 -O /home/yuan/results/fastq --gzip\n",
      "fastq-dump SRR11550010 -O /home/yuan/results/fastq --gzip\n",
      "fastq-dump SRR11550011 -O /home/yuan/results/fastq --gzip\n",
      "fastq-dump SRR11550012 -O /home/yuan/results/fastq --gzip\n",
      "fastq-dump SRR11550013 -O /home/yuan/results/fastq --gzip\n",
      "fastq-dump SRR11550014 -O /home/yuan/results/fastq --gzip\n",
      "fastq-dump SRR11550015 -O /home/yuan/results/fastq --gzip\n",
      "fastq-dump SRR11550016 -O /home/yuan/results/fastq --gzip\n",
      "fastq-dump SRR11550017 -O /home/yuan/results/fastq --gzip\n",
      "fastq-dump SRR11550018 -O /home/yuan/results/fastq --gzip\n",
      "fastq-dump SRR11550019 -O /home/yuan/results/fastq --gzip\n",
      "fastq-dump SRR11550020 -O /home/yuan/results/fastq --gzip\n",
      "fastq-dump SRR11550021 -O /home/yuan/results/fastq --gzip\n",
      "fastq-dump SRR11550022 -O /home/yuan/results/fastq --gzip\n",
      "fastq-dump SRR11550023 -O /home/yuan/results/fastq --gzip\n",
      "fastq-dump SRR11550024 -O /home/yuan/results/fastq --gzip\n",
      "fastq-dump SRR11550025 -O /home/yuan/results/fastq --gzip\n",
      "fastq-dump SRR11550026 -O /home/yuan/results/fastq --gzip\n",
      "fastq-dump SRR11550027 -O /home/yuan/results/fastq --gzip\n",
      "fastq-dump SRR11550028 -O /home/yuan/results/fastq --gzip\n",
      "fastq-dump SRR11550029 -O /home/yuan/results/fastq --gzip\n",
      "fastq-dump SRR11550030 -O /home/yuan/results/fastq --gzip\n",
      "fastq-dump SRR11550031 -O /home/yuan/results/fastq --gzip\n",
      "fastq-dump SRR11550032 -O /home/yuan/results/fastq --gzip\n",
      "fastq-dump SRR11550033 -O /home/yuan/results/fastq --gzip\n",
      "fastq-dump SRR11550034 -O /home/yuan/results/fastq --gzip\n",
      "fastq-dump SRR11550035 -O /home/yuan/results/fastq --gzip\n",
      "fastq-dump SRR11550036 -O /home/yuan/results/fastq --gzip\n",
      "fastq-dump SRR11550037 -O /home/yuan/results/fastq --gzip\n",
      "fastq-dump SRR11550038 -O /home/yuan/results/fastq --gzip\n",
      "fastq-dump SRR11550039 -O /home/yuan/results/fastq --gzip\n",
      "fastq-dump SRR11550040 -O /home/yuan/results/fastq --gzip\n",
      "fastq-dump SRR11550041 -O /home/yuan/results/fastq --gzip\n",
      "fastq-dump SRR11550042 -O /home/yuan/results/fastq --gzip\n",
      "fastq-dump SRR11550043 -O /home/yuan/results/fastq --gzip\n",
      "fastq-dump SRR11550044 -O /home/yuan/results/fastq --gzip\n",
      "fastq-dump SRR11550045 -O /home/yuan/results/fastq --gzip\n",
      "fastq-dump SRR11550046 -O /home/yuan/results/fastq --gzip\n",
      "fastq-dump SRR11550047 -O /home/yuan/results/fastq --gzip\n",
      "fastq-dump SRR11550048 -O /home/yuan/results/fastq --gzip\n",
      "fastq-dump SRR11550049 -O /home/yuan/results/fastq --gzip\n",
      "fastq-dump SRR11550050 -O /home/yuan/results/fastq --gzip\n",
      "fastq-dump SRR11550051 -O /home/yuan/results/fastq --gzip\n",
      "fastq-dump SRR11550052 -O /home/yuan/results/fastq --gzip\n",
      "fastq-dump SRR11550053 -O /home/yuan/results/fastq --gzip\n",
      "fastq-dump SRR11550054 -O /home/yuan/results/fastq --gzip\n",
      "fastq-dump SRR11550055 -O /home/yuan/results/fastq --gzip\n",
      "fastq-dump SRR11550056 -O /home/yuan/results/fastq --gzip\n",
      "fastq-dump SRR11550057 -O /home/yuan/results/fastq --gzip\n",
      "fastq-dump SRR11550058 -O /home/yuan/results/fastq --gzip\n",
      "fastq-dump SRR11550059 -O /home/yuan/results/fastq --gzip\n",
      "fastq-dump SRR11550060 -O /home/yuan/results/fastq --gzip\n",
      "fastq-dump SRR11550061 -O /home/yuan/results/fastq --gzip\n",
      "fastq-dump SRR11550062 -O /home/yuan/results/fastq --gzip\n",
      "fastq-dump SRR11550063 -O /home/yuan/results/fastq --gzip\n",
      "fastq-dump SRR11550064 -O /home/yuan/results/fastq --gzip\n",
      "fastq-dump SRR11550065 -O /home/yuan/results/fastq --gzip\n",
      "fastq-dump SRR11550066 -O /home/yuan/results/fastq --gzip\n",
      "fastq-dump SRR11550067 -O /home/yuan/results/fastq --gzip\n",
      "fastq-dump SRR11550068 -O /home/yuan/results/fastq --gzip\n",
      "fastq-dump SRR11550069 -O /home/yuan/results/fastq --gzip\n",
      "fastq-dump SRR11550070 -O /home/yuan/results/fastq --gzip\n",
      "fastq-dump SRR11550071 -O /home/yuan/results/fastq --gzip\n",
      "fastq-dump SRR11550072 -O /home/yuan/results/fastq --gzip\n",
      "fastq-dump SRR11550073 -O /home/yuan/results/fastq --gzip\n",
      "fastq-dump SRR11550074 -O /home/yuan/results/fastq --gzip\n",
      "fastq-dump SRR11550075 -O /home/yuan/results/fastq --gzip\n",
      "fastq-dump SRR11550076 -O /home/yuan/results/fastq --gzip\n",
      "fastq-dump SRR11550077 -O /home/yuan/results/fastq --gzip\n",
      "fastq-dump SRR11550078 -O /home/yuan/results/fastq --gzip\n",
      "fastq-dump SRR11550079 -O /home/yuan/results/fastq --gzip\n",
      "fastq-dump SRR11550080 -O /home/yuan/results/fastq --gzip\n",
      "fastq-dump SRR11550081 -O /home/yuan/results/fastq --gzip\n",
      "fastq-dump SRR11550082 -O /home/yuan/results/fastq --gzip\n",
      "fastq-dump SRR11550083 -O /home/yuan/results/fastq --gzip\n",
      "fastq-dump SRR11550084 -O /home/yuan/results/fastq --gzip\n",
      "fastq-dump SRR11550085 -O /home/yuan/results/fastq --gzip\n",
      "fastq-dump SRR11550086 -O /home/yuan/results/fastq --gzip\n",
      "fastq-dump SRR11550087 -O /home/yuan/results/fastq --gzip\n",
      "fastq-dump SRR11550088 -O /home/yuan/results/fastq --gzip\n",
      "fastq-dump SRR11550089 -O /home/yuan/results/fastq --gzip\n",
      "fastq-dump SRR11550090 -O /home/yuan/results/fastq --gzip\n",
      "fastq-dump SRR12280849 -O /home/yuan/results/fastq --gzip\n",
      "fastq-dump SRR12280850 -O /home/yuan/results/fastq --gzip\n",
      "fastq-dump SRR12280851 -O /home/yuan/results/fastq --gzip\n",
      "fastq-dump SRR12280852 -O /home/yuan/results/fastq --gzip\n",
      "fastq-dump SRR12280853 -O /home/yuan/results/fastq --gzip\n",
      "fastq-dump SRR12280854 -O /home/yuan/results/fastq --gzip\n",
      "fastq-dump SRR12280855 -O /home/yuan/results/fastq --gzip\n",
      "fastq-dump SRR12280856 -O /home/yuan/results/fastq --gzip\n",
      "fastq-dump SRR12280857 -O /home/yuan/results/fastq --gzip\n",
      "fastq-dump SRR12280858 -O /home/yuan/results/fastq --gzip\n",
      "fastq-dump SRR12280859 -O /home/yuan/results/fastq --gzip\n",
      "fastq-dump SRR12280860 -O /home/yuan/results/fastq --gzip\n",
      "fastq-dump SRR12280861 -O /home/yuan/results/fastq --gzip\n",
      "fastq-dump SRR12280862 -O /home/yuan/results/fastq --gzip\n",
      "fastq-dump SRR12280863 -O /home/yuan/results/fastq --gzip\n",
      "fastq-dump SRR12280864 -O /home/yuan/results/fastq --gzip\n",
      "fastq-dump SRR12280865 -O /home/yuan/results/fastq --gzip\n",
      "fastq-dump SRR12280866 -O /home/yuan/results/fastq --gzip\n",
      "fastq-dump SRR12280867 -O /home/yuan/results/fastq --gzip\n",
      "fastq-dump SRR12280868 -O /home/yuan/results/fastq --gzip\n",
      "fastq-dump SRR12280869 -O /home/yuan/results/fastq --gzip\n",
      "fastq-dump SRR13228929 -O /home/yuan/results/fastq --gzip\n",
      "fastq-dump SRR13228930 -O /home/yuan/results/fastq --gzip\n",
      "fastq-dump SRR8428755 -O /home/yuan/results/fastq --gzip\n",
      "fastq-dump SRR8428756 -O /home/yuan/results/fastq --gzip\n",
      "fastq-dump SRR8428757 -O /home/yuan/results/fastq --gzip\n",
      "fastq-dump SRR11181954 -O /home/yuan/results/fastq --gzip\n",
      "fastq-dump SRR11181955 -O /home/yuan/results/fastq --gzip\n",
      "fastq-dump SRR11181956 -O /home/yuan/results/fastq --gzip\n",
      "fastq-dump SRR11181957 -O /home/yuan/results/fastq --gzip\n",
      "fastq-dump SRR11181958 -O /home/yuan/results/fastq --gzip\n",
      "fastq-dump SRR11181959 -O /home/yuan/results/fastq --gzip\n",
      "fastq-dump SRR11245351 -O /home/yuan/results/fastq --gzip\n",
      "fastq-dump SRR11245352 -O /home/yuan/results/fastq --gzip\n",
      "fastq-dump SRR11245353 -O /home/yuan/results/fastq --gzip\n",
      "fastq-dump SRR11245354 -O /home/yuan/results/fastq --gzip\n",
      "fastq-dump SRR11245355 -O /home/yuan/results/fastq --gzip\n",
      "fastq-dump SRR11245356 -O /home/yuan/results/fastq --gzip\n",
      "fastq-dump SRR11537946 -O /home/yuan/results/fastq --gzip\n",
      "fastq-dump SRR11537947 -O /home/yuan/results/fastq --gzip\n",
      "fastq-dump SRR11537948 -O /home/yuan/results/fastq --gzip\n",
      "fastq-dump SRR11537949 -O /home/yuan/results/fastq --gzip\n",
      "fastq-dump SRR11537950 -O /home/yuan/results/fastq --gzip\n",
      "fastq-dump SRR11537951 -O /home/yuan/results/fastq --gzip\n",
      "fastq-dump SRR11537952 -O /home/yuan/results/fastq --gzip\n",
      "fastq-dump SRR11537953 -O /home/yuan/results/fastq --gzip\n",
      "fastq-dump SRR9637289 -O /home/yuan/results/fastq --gzip\n",
      "fastq-dump SRR9637290 -O /home/yuan/results/fastq --gzip\n",
      "fastq-dump SRR9637291 -O /home/yuan/results/fastq --gzip\n",
      "fastq-dump SRR9637292 -O /home/yuan/results/fastq --gzip\n",
      "fastq-dump SRR9637293 -O /home/yuan/results/fastq --gzip\n",
      "fastq-dump SRR9637294 -O /home/yuan/results/fastq --gzip\n",
      "fastq-dump SRR9637295 -O /home/yuan/results/fastq --gzip\n",
      "fastq-dump SRR9835575 -O /home/yuan/results/fastq --gzip\n",
      "37 230\n"
     ]
    }
   ],
   "source": [
    "# prepare SRR id list for download\n",
    "num_geo = num_sample = 0\n",
    "cl = LabelData(label_dir)\n",
    "for data in cl.json_iter():\n",
    "    if data['taxid'] == '9606':\n",
    "        num_geo += 1\n",
    "        for sample_id, sample in data['samples'].items():\n",
    "            if sample['scrnaseq'] and sample['SRR']:\n",
    "                #print(data['GEO'], sample_id)\n",
    "                num_sample += 1\n",
    "                for srr_acc, local_path in sample['SRR'].items():\n",
    "                    if not local_path:\n",
    "                        print(f\"fastq-dump {srr_acc} -O /home/yuan/results/fastq --gzip\")\n",
    "print(num_geo, num_sample)"
   ]
  },
  {
   "cell_type": "code",
   "execution_count": null,
   "id": "c1b1f07b-5fb5-4994-bc3c-6bb469d60ea3",
   "metadata": {},
   "outputs": [],
   "source": []
  }
 ],
 "metadata": {
  "kernelspec": {
   "display_name": "Python 3 (ipykernel)",
   "language": "python",
   "name": "python3"
  },
  "language_info": {
   "codemirror_mode": {
    "name": "ipython",
    "version": 3
   },
   "file_extension": ".py",
   "mimetype": "text/x-python",
   "name": "python",
   "nbconvert_exporter": "python",
   "pygments_lexer": "ipython3",
   "version": "3.11.11"
  }
 },
 "nbformat": 4,
 "nbformat_minor": 5
}
