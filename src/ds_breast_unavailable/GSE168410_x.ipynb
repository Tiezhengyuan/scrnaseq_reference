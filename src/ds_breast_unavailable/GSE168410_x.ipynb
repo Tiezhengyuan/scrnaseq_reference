{
 "cells": [
  {
   "cell_type": "code",
   "execution_count": null,
   "id": "f20321c2-9277-42b1-ba66-5482ad3fc472",
   "metadata": {},
   "outputs": [],
   "source": [
    "# raw data is incomplete. only biological data r1=~75-76 r2=~73-76\n",
    "# breat cancer"
   ]
  },
  {
   "cell_type": "code",
   "execution_count": 1,
   "id": "fac75a50-b52e-48d8-9beb-46c79f4a81aa",
   "metadata": {},
   "outputs": [],
   "source": [
    "import os\n",
    "from parse_soft import ParseSoft\n",
    "from search_soft import SearchSoft\n",
    "from enrich_soft import EnrichSoft\n",
    "from label_data import LabelData\n",
    "\n",
    "%load_ext autoreload\n",
    "%autoreload 2"
   ]
  },
  {
   "cell_type": "code",
   "execution_count": 3,
   "id": "3f2bab8d-724a-440f-89a1-a3f5c38f68da",
   "metadata": {},
   "outputs": [],
   "source": [
    "# step 1: set defaults\n",
    "geo = \"GSE168410\"\n",
    "soft_dir = '/home/yuan/data'\n",
    "meta_dir = '../data'\n",
    "download_dir = '/home/yuan/rawdata/SRR'"
   ]
  },
  {
   "cell_type": "code",
   "execution_count": 4,
   "id": "276637df-e3ea-46c6-8e2e-275b1f8f749c",
   "metadata": {},
   "outputs": [
    {
     "name": "stdout",
     "output_type": "stream",
     "text": [
      "Retrieve meta data from soft file:  /home/yuan/data/ftp.ncbi.nlm.nih.gov/geo/series/GSE168nnn/GSE168410/soft/GSE168410_family.soft.gz\n",
      "Save meta data into json:  /home/yuan/bio/scrnaseq_reference/data/labels/GSE168nnn/GSE168410/metadata.json\n"
     ]
    }
   ],
   "source": [
    "# step 2: parse soft, and enrich\n",
    "\n",
    "# analyze soft file\n",
    "parser = ParseSoft(soft_dir)\n",
    "soft_path = parser.soft_local_path(geo)\n",
    "print('Retrieve meta data from soft file: ', soft_path)\n",
    "softer = SearchSoft(soft_path)\n",
    "data = softer.filter_data(softer.parse_rows)\n",
    "\n",
    "# save to json\n",
    "LabelData(meta_dir).save(data)"
   ]
  },
  {
   "cell_type": "code",
   "execution_count": 5,
   "id": "e973223f-d6e0-4973-a282-898aa5775ebb",
   "metadata": {},
   "outputs": [
    {
     "name": "stdout",
     "output_type": "stream",
     "text": [
      "Save meta data into json:  /home/yuan/bio/scrnaseq_reference/data/labels/GSE168nnn/GSE168410/metadata.json\n"
     ]
    }
   ],
   "source": [
    "# step 3a: enrich data\n",
    "data = LabelData(meta_dir).get_meta(geo)\n",
    "enriched = EnrichSoft(data)()\n",
    "LabelData(meta_dir).save(enriched)"
   ]
  },
  {
   "cell_type": "code",
   "execution_count": 9,
   "id": "f02acd96-5be7-4ddf-9d1a-dc35e70da5dd",
   "metadata": {},
   "outputs": [
    {
     "name": "stdout",
     "output_type": "stream",
     "text": [
      "Save meta data into json:  /home/yuan/bio/scrnaseq_reference/data/labels/GSE168nnn/GSE168410/metadata.json\n"
     ]
    }
   ],
   "source": [
    "# step 3b: label samples manually\n",
    "from label_sample import LabelSample\n",
    "\n",
    "def collator(sample):\n",
    "    ch = sample['characteristics']\n",
    "    c = LabelSample(sample)\n",
    "    c._protocol('scrna-seq', \"10x3v2\")\n",
    "    c._disease_patient('breast cancer')\n",
    "    c._update('tissue', 'breast, tumor')\n",
    "    c._update('cell_type', ch['molecular_subtype'])\n",
    "    if ch['neoadjuvant_treatment'] == 'yes':\n",
    "        c._update('treatment', 'neoadjuvant')\n",
    "\n",
    "data = LabelData(meta_dir).get_meta(geo)\n",
    "for sample_id, sample in data['samples'].items():\n",
    "    collator(sample)\n",
    "LabelData(meta_dir).save(data)"
   ]
  },
  {
   "cell_type": "code",
   "execution_count": 11,
   "id": "10053b6a-4376-44ea-a529-998444c7d7d8",
   "metadata": {},
   "outputs": [
    {
     "name": "stdout",
     "output_type": "stream",
     "text": [
      "Patient1P1L1 {'disease': 'breast cancer', 'group': 'patient', 'tissue': 'breast, tumor', 'cell_type': 'triple negative', 'treatment': 'neoadjuvant'}\n",
      "Patient1P1L2 {'disease': 'breast cancer', 'group': 'patient', 'tissue': 'breast, tumor', 'cell_type': 'triple negative', 'treatment': 'neoadjuvant'}\n",
      "Patient1P1L3 {'disease': 'breast cancer', 'group': 'patient', 'tissue': 'breast, tumor', 'cell_type': 'triple negative', 'treatment': 'neoadjuvant'}\n",
      "Patient1P1L4 {'disease': 'breast cancer', 'group': 'patient', 'tissue': 'breast, tumor', 'cell_type': 'triple negative', 'treatment': 'neoadjuvant'}\n",
      "Patient1P2L1 {'disease': 'breast cancer', 'group': 'patient', 'tissue': 'breast, tumor', 'cell_type': 'triple negative', 'treatment': 'neoadjuvant'}\n",
      "Patient1P2L2 {'disease': 'breast cancer', 'group': 'patient', 'tissue': 'breast, tumor', 'cell_type': 'triple negative', 'treatment': 'neoadjuvant'}\n",
      "Patient1P2L3 {'disease': 'breast cancer', 'group': 'patient', 'tissue': 'breast, tumor', 'cell_type': 'triple negative', 'treatment': 'neoadjuvant'}\n",
      "Patient1P2L4 {'disease': 'breast cancer', 'group': 'patient', 'tissue': 'breast, tumor', 'cell_type': 'triple negative', 'treatment': 'neoadjuvant'}\n",
      "Patient2P2L1 {'disease': 'breast cancer', 'group': 'patient', 'tissue': 'breast, tumor', 'cell_type': 'er/pr positive'}\n",
      "Patient2P2L2 {'disease': 'breast cancer', 'group': 'patient', 'tissue': 'breast, tumor', 'cell_type': 'er/pr positive'}\n",
      "Patient2P2L3 {'disease': 'breast cancer', 'group': 'patient', 'tissue': 'breast, tumor', 'cell_type': 'er/pr positive'}\n",
      "Patient2P2L4 {'disease': 'breast cancer', 'group': 'patient', 'tissue': 'breast, tumor', 'cell_type': 'er/pr positive'}\n",
      "Patient2P3 {'disease': 'breast cancer', 'group': 'patient', 'tissue': 'breast, tumor', 'cell_type': 'er/pr positive'}\n",
      "Patient2P4 {'disease': 'breast cancer', 'group': 'patient', 'tissue': 'breast, tumor', 'cell_type': 'er/pr positive'}\n",
      "Patient3P1 {'disease': 'breast cancer', 'group': 'patient', 'tissue': 'breast, tumor', 'cell_type': 'er positive', 'treatment': 'neoadjuvant'}\n",
      "Patient3P2 {'disease': 'breast cancer', 'group': 'patient', 'tissue': 'breast, tumor', 'cell_type': 'er positive', 'treatment': 'neoadjuvant'}\n",
      "Patient3P3 {'disease': 'breast cancer', 'group': 'patient', 'tissue': 'breast, tumor', 'cell_type': 'er positive', 'treatment': 'neoadjuvant'}\n",
      "Patient4P1 {'disease': 'breast cancer', 'group': 'patient', 'tissue': 'breast, tumor', 'cell_type': 'er/pr positive'}\n",
      "Patient4P2 {'disease': 'breast cancer', 'group': 'patient', 'tissue': 'breast, tumor', 'cell_type': 'er/pr positive'}\n",
      "Patient4P3 {'disease': 'breast cancer', 'group': 'patient', 'tissue': 'breast, tumor', 'cell_type': 'er/pr positive'}\n",
      "Patient5P1 {'disease': 'breast cancer', 'group': 'patient', 'tissue': 'breast, tumor', 'cell_type': 'er/pr positive', 'treatment': 'neoadjuvant'}\n",
      "Patient5P2 {'disease': 'breast cancer', 'group': 'patient', 'tissue': 'breast, tumor', 'cell_type': 'er/pr positive', 'treatment': 'neoadjuvant'}\n",
      "Patient5P3 {'disease': 'breast cancer', 'group': 'patient', 'tissue': 'breast, tumor', 'cell_type': 'er/pr positive', 'treatment': 'neoadjuvant'}\n",
      "Patient6P1 {'disease': 'breast cancer', 'group': 'patient', 'tissue': 'breast, tumor', 'cell_type': 'na'}\n",
      "Patient6P2 {'disease': 'breast cancer', 'group': 'patient', 'tissue': 'breast, tumor', 'cell_type': 'na'}\n",
      "Patient6P3 {'disease': 'breast cancer', 'group': 'patient', 'tissue': 'breast, tumor', 'cell_type': 'na'}\n",
      "Patient7P1 {'disease': 'breast cancer', 'group': 'patient', 'tissue': 'breast, tumor', 'cell_type': 'er/pr positive'}\n",
      "Patient7P2 {'disease': 'breast cancer', 'group': 'patient', 'tissue': 'breast, tumor', 'cell_type': 'er/pr positive'}\n",
      "Patient7P3 {'disease': 'breast cancer', 'group': 'patient', 'tissue': 'breast, tumor', 'cell_type': 'er/pr positive'}\n",
      "Patient7P4 {'disease': 'breast cancer', 'group': 'patient', 'tissue': 'breast, tumor', 'cell_type': 'er/pr positive'}\n",
      "Patient8P1 {'disease': 'breast cancer', 'group': 'patient', 'tissue': 'breast, tumor', 'cell_type': 'er positive', 'treatment': 'neoadjuvant'}\n",
      "Patient8P2 {'disease': 'breast cancer', 'group': 'patient', 'tissue': 'breast, tumor', 'cell_type': 'er positive', 'treatment': 'neoadjuvant'}\n",
      "Patient8P3 {'disease': 'breast cancer', 'group': 'patient', 'tissue': 'breast, tumor', 'cell_type': 'er positive', 'treatment': 'neoadjuvant'}\n",
      "Patient8P4 {'disease': 'breast cancer', 'group': 'patient', 'tissue': 'breast, tumor', 'cell_type': 'er positive', 'treatment': 'neoadjuvant'}\n",
      "Patient9P1 {'disease': 'breast cancer', 'group': 'patient', 'tissue': 'breast, tumor', 'cell_type': 'er/pr positive'}\n",
      "Patient9P2 {'disease': 'breast cancer', 'group': 'patient', 'tissue': 'breast, tumor', 'cell_type': 'er/pr positive'}\n",
      "Patient9P3 {'disease': 'breast cancer', 'group': 'patient', 'tissue': 'breast, tumor', 'cell_type': 'er/pr positive'}\n",
      "Patient9P4 {'disease': 'breast cancer', 'group': 'patient', 'tissue': 'breast, tumor', 'cell_type': 'er/pr positive'}\n",
      "Patient9P5 {'disease': 'breast cancer', 'group': 'patient', 'tissue': 'breast, tumor', 'cell_type': 'er/pr positive'}\n",
      "Patient10P4 {'disease': 'breast cancer', 'group': 'patient', 'tissue': 'breast, tumor', 'cell_type': 'er/pr positive', 'treatment': 'neoadjuvant'}\n",
      "Patient11P1 {'disease': 'breast cancer', 'group': 'patient', 'tissue': 'breast, tumor', 'cell_type': 'triple negative', 'treatment': 'neoadjuvant'}\n",
      "Patient11P2 {'disease': 'breast cancer', 'group': 'patient', 'tissue': 'breast, tumor', 'cell_type': 'triple negative', 'treatment': 'neoadjuvant'}\n",
      "Patient11P3 {'disease': 'breast cancer', 'group': 'patient', 'tissue': 'breast, tumor', 'cell_type': 'triple negative', 'treatment': 'neoadjuvant'}\n",
      "Patient12P1 {'disease': 'breast cancer', 'group': 'patient', 'tissue': 'breast, tumor', 'cell_type': 'triple negative', 'treatment': 'neoadjuvant'}\n",
      "Patient12P2 {'disease': 'breast cancer', 'group': 'patient', 'tissue': 'breast, tumor', 'cell_type': 'triple negative', 'treatment': 'neoadjuvant'}\n",
      "Patient12P3 {'disease': 'breast cancer', 'group': 'patient', 'tissue': 'breast, tumor', 'cell_type': 'triple negative', 'treatment': 'neoadjuvant'}\n",
      "Patient12P4 {'disease': 'breast cancer', 'group': 'patient', 'tissue': 'breast, tumor', 'cell_type': 'triple negative', 'treatment': 'neoadjuvant'}\n"
     ]
    }
   ],
   "source": [
    "for sample_id, sample in data['samples'].items():\n",
    "    # print(sample['characteristics'])\n",
    "    print(sample['sample_title'], sample['labels'])"
   ]
  },
  {
   "cell_type": "code",
   "execution_count": 12,
   "id": "41e32732-21e0-46ea-89c8-b6f48e3dac93",
   "metadata": {},
   "outputs": [
    {
     "name": "stdout",
     "output_type": "stream",
     "text": [
      "47\n"
     ]
    }
   ],
   "source": [
    "# step 4a: load some data\n",
    "from utils import Utils\n",
    "\n",
    "# data are determined previously\n",
    "samn_srr = Utils.from_json('../results/samn_srr.json')\n",
    "print(len(samn_srr))"
   ]
  },
  {
   "cell_type": "code",
   "execution_count": 13,
   "id": "217da242-01fa-4900-b067-2fd0370bdff6",
   "metadata": {},
   "outputs": [
    {
     "name": "stdout",
     "output_type": "stream",
     "text": [
      "biosamples = 47, SRR accessions = 47.\n",
      "Save meta data into json:  /home/yuan/bio/scrnaseq_reference/data/labels/GSE168nnn/GSE168410/metadata.json\n"
     ]
    }
   ],
   "source": [
    "# step 4b: Given BioSample, parse SRR accessions into samples\n",
    "from parse_sra import ParseSra\n",
    "from label_data import LabelData\n",
    "\n",
    "data = LabelData(meta_dir).get_meta(geo)\n",
    "enriched = ParseSra.parse_srr(data, samn_srr)\n",
    "LabelData(meta_dir).save(enriched)"
   ]
  },
  {
   "cell_type": "code",
   "execution_count": 14,
   "id": "0a149640-1b03-4701-832e-ab83b76ccaf5",
   "metadata": {},
   "outputs": [
    {
     "name": "stdout",
     "output_type": "stream",
     "text": [
      "{'srr': 47, 'available': 0, 'unknown': 47, 'updated': 0}\n",
      "Save meta data into json:  /home/yuan/bio/scrnaseq_reference/data/labels/GSE168nnn/GSE168410/metadata.json\n"
     ]
    }
   ],
   "source": [
    "# step 5: merge srr_urls into data\n",
    "\n",
    "# sample.<sample_id>.SRR.<SRR accession>.\"ftp.sra.ebi.ac.uk\"\n",
    "file_name = 'srr_fastq_urls_simple.json'\n",
    "urls_json = os.path.join('../results', file_name)\n",
    "urls = Utils.from_json(urls_json)\n",
    "\n",
    "# parse urls\n",
    "data = LabelData(meta_dir).get_meta(geo)\n",
    "enriched = ParseSra.parse_srr_urls(data, urls)\n",
    "LabelData(meta_dir).save(enriched)"
   ]
  },
  {
   "cell_type": "markdown",
   "id": "619ab4aa-4c58-4291-819d-8821465eea81",
   "metadata": {},
   "source": [
    "## download fastq.gz"
   ]
  },
  {
   "cell_type": "code",
   "execution_count": 15,
   "id": "4ae321c1-ed1b-4387-a94e-a90473e6d273",
   "metadata": {},
   "outputs": [
    {
     "name": "stdout",
     "output_type": "stream",
     "text": [
      "Number of biosamples:  47\n",
      "Number of biosamples with SRR:  47\n",
      "bash /home/yuan/rawdata/SRR/GSE168410/fetch1.sh\n"
     ]
    }
   ],
   "source": [
    "# step 6a: download raw data using biosample accession using nextflow\n",
    "from create_config import CreateConfig\n",
    "from label_data import LabelData\n",
    "\n",
    "sample_iter = LabelData(meta_dir).geo_sample_iter(geo)\n",
    "# create bash script for downloading\n",
    "CreateConfig(download_dir, geo).fetch_biosample(sample_iter)\n",
    "# run the bash script showed here\n",
    "# Outcome: nf download failed"
   ]
  },
  {
   "cell_type": "code",
   "execution_count": 40,
   "id": "a4b92552-a4bc-497a-bce8-6a7db7ffb0b8",
   "metadata": {},
   "outputs": [
    {
     "name": "stdout",
     "output_type": "stream",
     "text": [
      "unparsed data:  GSE168410 2 ['SRR13873714', 'SRR13873720']\n",
      "Save meta data into json:  /home/yuan/bio/scrnaseq_reference/data/labels/GSE168nnn/GSE168410/metadata.json\n"
     ]
    }
   ],
   "source": [
    "# step 6b: parse path of local fastq.gz with SRR in GEO data\n",
    "# Note: run the process multiple times to make sure all SRRs are accessed\n",
    "# print all samples if not any local *.fastq.gz is parsed\n",
    "from parse_sra import ParseSra\n",
    "from label_data import LabelData\n",
    "\n",
    "data = LabelData(meta_dir).get_meta(geo)\n",
    "data, unparsing = ParseSra.parse_local_fastq(data, download_dir)\n",
    "if unparsing:\n",
    "    print('unparsed data: ', geo, len(unparsing), unparsing[:6])\n",
    "LabelData(meta_dir).save(data)"
   ]
  },
  {
   "cell_type": "code",
   "execution_count": 41,
   "id": "275527b0-1e9f-4a8e-b383-193dbff93ccf",
   "metadata": {},
   "outputs": [
    {
     "name": "stdout",
     "output_type": "stream",
     "text": [
      "Number of SRR:  2\n",
      "cd /home/yuan/rawdata/SRR/GSE168410 && bash fetch2.sh\n"
     ]
    }
   ],
   "source": [
    "#Step 7a: collect all SRR without local_fastq then execute bash run2.sh\n",
    "from create_config import CreateConfig\n",
    "from label_data import LabelData\n",
    "\n",
    "sample_iter = LabelData(meta_dir).geo_sample_iter(geo)\n",
    "# create bash script for downloading\n",
    "CreateConfig(download_dir, geo).fetch_ebi_srr(sample_iter)\n",
    "# run the bash script showed here"
   ]
  },
  {
   "cell_type": "code",
   "execution_count": 43,
   "id": "c91a7238-0259-4297-bf7e-29e55db5cbc4",
   "metadata": {},
   "outputs": [
    {
     "name": "stdout",
     "output_type": "stream",
     "text": [
      "Save meta data into json:  /home/yuan/bio/scrnaseq_reference/data/labels/GSE168nnn/GSE168410/metadata.json\n"
     ]
    }
   ],
   "source": [
    "# step 7b: parse path of local fastq.gz with SRR in GEO data\n",
    "# Note: run the process multiple times to make sure all SRRs are accessed\n",
    "# print all samples if not any local *.fastq.gz is parsed\n",
    "from parse_sra import ParseSra\n",
    "from label_data import LabelData\n",
    "\n",
    "data = LabelData(meta_dir).get_meta(geo)\n",
    "data, unparsing = ParseSra.parse_local_fastq(data, download_dir)\n",
    "if unparsing:\n",
    "    print('unparsed data: ', geo, len(unparsing), unparsing[:6])\n",
    "LabelData(meta_dir).save(data)"
   ]
  },
  {
   "cell_type": "code",
   "execution_count": 44,
   "id": "1f3404eb-7aa3-491b-9036-94d19478a747",
   "metadata": {},
   "outputs": [
    {
     "name": "stdout",
     "output_type": "stream",
     "text": [
      "Number of SRR:  0\n",
      "cd /home/yuan/rawdata/SRR/GSE168410 && bash fetch3.sh\n"
     ]
    }
   ],
   "source": [
    "#Step 8a: collect all SRR without local_fastq then execute bash run3.sh\n",
    "from create_config import CreateConfig\n",
    "from label_data import LabelData\n",
    "\n",
    "sample_iter = LabelData(meta_dir).geo_sample_iter(geo)\n",
    "# create bash script for downloading\n",
    "CreateConfig(download_dir, geo).fetch_srr(sample_iter)\n",
    "# run the bash script showed here"
   ]
  },
  {
   "cell_type": "code",
   "execution_count": null,
   "id": "519e33b7-7efc-4ebc-b572-21ac72f93fc9",
   "metadata": {},
   "outputs": [],
   "source": []
  },
  {
   "cell_type": "code",
   "execution_count": null,
   "id": "8bebb402-743e-4183-921b-a6d717606a9b",
   "metadata": {},
   "outputs": [],
   "source": []
  },
  {
   "cell_type": "markdown",
   "id": "8c9607d1-5353-450d-b2fc-573610b0173d",
   "metadata": {},
   "source": [
    "## nf-core/scrnaseq pipeline\n",
    "create samplehseet.csv and params.config"
   ]
  },
  {
   "cell_type": "code",
   "execution_count": 45,
   "id": "c19c4507-b10e-46d5-bf8e-5377738f2c44",
   "metadata": {},
   "outputs": [
    {
     "name": "stdout",
     "output_type": "stream",
     "text": [
      "GSM5138670 True\n",
      "GSM5138671 True\n",
      "GSM5138672 True\n",
      "GSM5138673 True\n",
      "GSM5138674 True\n",
      "GSM5138675 True\n",
      "GSM5138676 True\n",
      "GSM5138677 True\n",
      "GSM5138678 True\n",
      "GSM5138679 True\n",
      "GSM5138680 True\n",
      "GSM5138681 True\n",
      "GSM5138682 True\n",
      "GSM5138683 True\n",
      "GSM5138684 True\n",
      "GSM5138685 True\n",
      "GSM5138686 True\n",
      "GSM5138687 True\n",
      "GSM5138688 True\n",
      "GSM5138689 True\n",
      "GSM5138690 True\n",
      "GSM5138691 True\n",
      "GSM5138692 True\n",
      "GSM5138693 True\n",
      "GSM5138694 True\n",
      "GSM5138695 True\n",
      "GSM5138696 True\n",
      "GSM5138697 True\n",
      "GSM5138698 True\n",
      "GSM5138699 True\n",
      "GSM5138700 True\n",
      "GSM5138701 True\n",
      "GSM5138702 True\n",
      "GSM5138703 True\n",
      "GSM5138704 True\n",
      "GSM5138705 True\n",
      "GSM5138706 True\n",
      "GSM5138707 True\n",
      "GSM5138708 True\n",
      "GSM5138709 True\n",
      "GSM5138710 True\n",
      "GSM5138711 True\n",
      "GSM5138712 True\n",
      "GSM5138713 True\n",
      "GSM5138714 True\n",
      "GSM5138715 True\n",
      "GSM5138716 True\n",
      "Number of samples in samplesheet.csv:  47\n",
      "cd /home/yuan/output/scrnaseq_breast_tissue_patient/paired_GSE168410 && nextflow run nf-core/scrnaseq -r 3.0.0 -c params.config\n"
     ]
    }
   ],
   "source": [
    "name = 'scrnaseq_breast_tissue_patient'\n",
    "output_dir = '/home/yuan/output'\n",
    "labeler = LabelData(meta_dir, name, output_dir, True)\n",
    "\n",
    "sample_sheet = {}\n",
    "data = LabelData(meta_dir).get_meta(geo)\n",
    "for sample, geo, run_acc, fastq_sample in labeler.fastq_iter(data):\n",
    "    cl = LabelSample(sample)\n",
    "    print(sample['sample_id'], cl.filter(name))\n",
    "    if cl.filter(name):\n",
    "        keys = [cl.disease, geo, run_acc,]\n",
    "        Utils.key_update(sample_sheet, [geo,], fastq_sample['sample_sheet'])\n",
    "# export\n",
    "if sample_sheet:\n",
    "    print(\"Number of samples in samplesheet.csv: \", len(sample_sheet[geo]))\n",
    "    labeler.to_sample_sheet(sample_sheet, 'paired')\n",
    "    labeler.nf_cmd()\n",
    "else:\n",
    "    print(f'No samples meet creteria {name}')"
   ]
  }
 ],
 "metadata": {
  "kernelspec": {
   "display_name": "Python 3 (ipykernel)",
   "language": "python",
   "name": "python3"
  },
  "language_info": {
   "codemirror_mode": {
    "name": "ipython",
    "version": 3
   },
   "file_extension": ".py",
   "mimetype": "text/x-python",
   "name": "python",
   "nbconvert_exporter": "python",
   "pygments_lexer": "ipython3",
   "version": "3.11.0"
  }
 },
 "nbformat": 4,
 "nbformat_minor": 5
}
