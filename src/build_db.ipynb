{
 "cells": [
  {
   "cell_type": "markdown",
   "id": "de72992a-8edf-47e5-80f1-66c16904e9d3",
   "metadata": {},
   "source": [
    "# scRNA-seq-lung cancer"
   ]
  },
  {
   "cell_type": "code",
   "execution_count": 7,
   "id": "eedf670b-cb65-4595-9791-de78af7d4209",
   "metadata": {},
   "outputs": [],
   "source": [
    "from utils import Utils\n",
    "from geo_db import GeoDb\n",
    "\n",
    "%reload_ext autoreload\n",
    "%autoreload 2"
   ]
  },
  {
   "cell_type": "code",
   "execution_count": 8,
   "id": "7558d22f-be56-4dab-ae98-317b204d396b",
   "metadata": {},
   "outputs": [],
   "source": [
    "# \n",
    "pmid_samples = Utils.from_json('../data/pmid_samples.json')\n",
    "pmid_geo = Utils.from_json('../data/pmid_geo.json')\n",
    "geo_sampleid = Utils.from_json('../data/geo_sampleid.json')"
   ]
  },
  {
   "cell_type": "code",
   "execution_count": 63,
   "id": "f628f22e-b1e2-429b-b4de-c344a8ce69bf",
   "metadata": {},
   "outputs": [],
   "source": [
    "# \n",
    "indir = '../data'\n",
    "db_name = 'scrnaseq_lung'\n",
    "db = GeoDb(indir, db_name)"
   ]
  },
  {
   "cell_type": "code",
   "execution_count": 128,
   "id": "49e950f1-bbfd-4fe9-a76c-9ffa78ccc702",
   "metadata": {},
   "outputs": [],
   "source": [
    "# drop table\n",
    "db.drop_table('geo')\n",
    "# db.drop_table('sample')\n",
    "# db.drop_table('rawdata')"
   ]
  },
  {
   "cell_type": "code",
   "execution_count": 129,
   "id": "bd5f9980-5b86-4f23-8c68-d517799c0463",
   "metadata": {},
   "outputs": [
    {
     "name": "stdout",
     "output_type": "stream",
     "text": [
      "Create a new table geo\n",
      "Failed in creating the table: error=table sample already exists\n",
      "Failed in creating the table: error=table rawdata already exists\n"
     ]
    }
   ],
   "source": [
    "# create tables\n",
    "db.create_table_geo()\n",
    "db.create_table_sample()\n",
    "db.create_table_rawdata()"
   ]
  },
  {
   "cell_type": "markdown",
   "id": "55763c07-afb6-466a-a213-40eea27c8638",
   "metadata": {},
   "source": [
    "<!-- sqlite3 command -->\n",
    "sqlite\n",
    ".open /home/yuan/bio/scrnaseq_reference/data/scrnaseq_lung.db\n",
    ".tables"
   ]
  },
  {
   "cell_type": "markdown",
   "id": "8e883ab8-135d-41b8-a614-77e079f83961",
   "metadata": {},
   "source": [
    "## data cell line H1299"
   ]
  },
  {
   "cell_type": "code",
   "execution_count": 152,
   "id": "c2d54c73-9d02-40ff-84de-7d33beab4a07",
   "metadata": {},
   "outputs": [
    {
     "name": "stdout",
     "output_type": "stream",
     "text": [
      "UNIQUE constraint failed: geo.sample_id\n",
      "UNIQUE constraint failed: geo.sample_id\n",
      "UNIQUE constraint failed: geo.sample_id\n",
      "1 are inserted. 3 failed.\n",
      "None\n"
     ]
    }
   ],
   "source": [
    "sql_pool = []\n",
    "geo_h1299 = ['GSE286399', 'GSE280041', 'GSE144357', 'GSE121309', 'GSE183590', 'GSE148729']\n",
    "for geo in geo_h1299:\n",
    "    samples = Utils.geo_get(geo_sampleid, geo)\n",
    "    for sample in samples:\n",
    "        val = str((sample, geo))\n",
    "        sql = f\"INSERT INTO geo VALUES ('4', '4')\"\n",
    "        sql_pool.append(sql)\n",
    "        # print(sql)\n",
    "    break\n",
    "# insert into table geo\n",
    "db.load(sql_pool)\n",
    "res = db.count_rows('geo')\n",
    "print(res)"
   ]
  },
  {
   "cell_type": "code",
   "execution_count": 95,
   "id": "30d526ea-f326-45de-8b61-f272970292d1",
   "metadata": {},
   "outputs": [
    {
     "data": {
      "text/plain": [
       "\"('GSE286399', 'GSM8726433')\""
      ]
     },
     "execution_count": 95,
     "metadata": {},
     "output_type": "execute_result"
    }
   ],
   "source": [
    "a =(geo, sample)\n",
    "str(a)"
   ]
  },
  {
   "cell_type": "code",
   "execution_count": 143,
   "id": "d8e7e28e-97a6-4500-95dc-3a716f8f269a",
   "metadata": {},
   "outputs": [],
   "source": [
    "import sqlite3\n",
    "db_file = '/home/yuan/bio/scrnaseq_reference/data/scrnaseq_lung.db'\n",
    "conn = sqlite3.connect(db_file)"
   ]
  },
  {
   "cell_type": "code",
   "execution_count": 144,
   "id": "0457ea28-d376-4956-8d4e-d2e321ed55c2",
   "metadata": {},
   "outputs": [
    {
     "name": "stdout",
     "output_type": "stream",
     "text": [
      "[]\n"
     ]
    }
   ],
   "source": [
    "res = conn.execute(f\"SELECT * FROM geo\").fetchall()\n",
    "print(res)"
   ]
  },
  {
   "cell_type": "code",
   "execution_count": null,
   "id": "d8d42e4e-59e7-477f-b6cf-bcccb7dfb0e2",
   "metadata": {},
   "outputs": [],
   "source": []
  },
  {
   "cell_type": "code",
   "execution_count": 148,
   "id": "fba3b367-457f-4ee0-982d-bb831efab003",
   "metadata": {},
   "outputs": [
    {
     "ename": "OperationalError",
     "evalue": "database is locked",
     "output_type": "error",
     "traceback": [
      "\u001b[0;31m---------------------------------------------------------------------------\u001b[0m",
      "\u001b[0;31mOperationalError\u001b[0m                          Traceback (most recent call last)",
      "Cell \u001b[0;32mIn[148], line 8\u001b[0m\n\u001b[1;32m      4\u001b[0m conn \u001b[38;5;241m=\u001b[39m sqlite3\u001b[38;5;241m.\u001b[39mconnect(db_file)\n\u001b[1;32m      6\u001b[0m \u001b[38;5;66;03m# conn.execute(\"CREATE TABLE t (id int, name TEXT)\")\u001b[39;00m\n\u001b[0;32m----> 8\u001b[0m \u001b[43mconn\u001b[49m\u001b[38;5;241;43m.\u001b[39;49m\u001b[43mexecute\u001b[49m\u001b[43m(\u001b[49m\u001b[38;5;124;43m\"\u001b[39;49m\u001b[38;5;124;43mINSERT INTO t VALUES (1, \u001b[39;49m\u001b[38;5;124;43m'\u001b[39;49m\u001b[38;5;124;43mrow1\u001b[39;49m\u001b[38;5;124;43m'\u001b[39;49m\u001b[38;5;124;43m)\u001b[39;49m\u001b[38;5;124;43m\"\u001b[39;49m\u001b[43m)\u001b[49m\n\u001b[1;32m      9\u001b[0m conn\u001b[38;5;241m.\u001b[39mexecute(\u001b[38;5;124m\"\u001b[39m\u001b[38;5;124mINSERT INTO t VALUES (2, \u001b[39m\u001b[38;5;124m'\u001b[39m\u001b[38;5;124mrow2\u001b[39m\u001b[38;5;124m'\u001b[39m\u001b[38;5;124m)\u001b[39m\u001b[38;5;124m\"\u001b[39m)\n\u001b[1;32m     11\u001b[0m \u001b[38;5;28mprint\u001b[39m(conn\u001b[38;5;241m.\u001b[39mexecute(\u001b[38;5;124m\"\u001b[39m\u001b[38;5;124mSELECT * FROM t\u001b[39m\u001b[38;5;124m\"\u001b[39m)\u001b[38;5;241m.\u001b[39mfetchall())\n",
      "\u001b[0;31mOperationalError\u001b[0m: database is locked"
     ]
    }
   ],
   "source": [
    "import sqlite3\n",
    "\n",
    "# conn = sqlite3.connect(\":memory:\")\n",
    "conn = sqlite3.connect(db_file)\n",
    "\n",
    "# conn.execute(\"CREATE TABLE t (id int, name TEXT)\")\n",
    "\n",
    "conn.execute(\"INSERT INTO t VALUES (1, 'row1')\")\n",
    "conn.execute(\"INSERT INTO t VALUES (2, 'row2')\")\n",
    "\n",
    "print(conn.execute(\"SELECT * FROM t\").fetchall())\n",
    "\n",
    "conn.execute(\"\"\"\n",
    "CREATE VIEW view_t as\n",
    "SELECT * FROM t \"\"\")\n",
    "\n",
    "print(conn.execute(\"SELECT * FROM view_t\").fetchall())"
   ]
  }
 ],
 "metadata": {
  "kernelspec": {
   "display_name": "Python 3 (ipykernel)",
   "language": "python",
   "name": "python3"
  },
  "language_info": {
   "codemirror_mode": {
    "name": "ipython",
    "version": 3
   },
   "file_extension": ".py",
   "mimetype": "text/x-python",
   "name": "python",
   "nbconvert_exporter": "python",
   "pygments_lexer": "ipython3",
   "version": "3.11.11"
  }
 },
 "nbformat": 4,
 "nbformat_minor": 5
}
