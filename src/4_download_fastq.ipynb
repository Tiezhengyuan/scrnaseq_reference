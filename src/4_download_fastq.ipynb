{
 "cells": [
  {
   "cell_type": "markdown",
   "id": "ad4bf454-2d01-42b2-a919-2b4d230e2b6f",
   "metadata": {},
   "source": [
    "# download fastq\n",
    "lung cancer, cell line H1299\n",
    "https://www.cytion.com/NCI-H1299-Cells/300485"
   ]
  },
  {
   "cell_type": "code",
   "execution_count": 2,
   "id": "13bd57ec-4213-418c-80c7-971ad0c8ad9b",
   "metadata": {},
   "outputs": [],
   "source": [
    "import os\n",
    "import json\n",
    "import Bio\n",
    "import numpy as np\n",
    "import pandas as pd\n",
    "\n",
    "%reload_ext autoreload\n",
    "%autoreload 2"
   ]
  },
  {
   "cell_type": "code",
   "execution_count": 1,
   "id": "02c92cb8-3448-4744-9fd9-5c372be40066",
   "metadata": {},
   "outputs": [],
   "source": [
    "from utils import Utils\n",
    "from create_config import CreateConfig\n",
    "from label_data import LabelData\n",
    "from parse_sra import ParseSra\n",
    "from retrieve_url import RetrieveUrl\n",
    "\n",
    "# soft files\n",
    "soft_data_dir = '/home/yuan/data'\n",
    "# meta data: directory \"ids\", \"lables\"\n",
    "meta_dir = '../data'\n",
    "\n",
    "#\n",
    "download_dir = '/home/yuan/rawdata/SRR'"
   ]
  },
  {
   "cell_type": "code",
   "execution_count": null,
   "id": "af3198c2-ee70-4fca-802c-71d3a37f6aa5",
   "metadata": {},
   "outputs": [],
   "source": []
  },
  {
   "cell_type": "code",
   "execution_count": null,
   "id": "abe64dbc-f924-4bea-8d8f-a2caa3b7e1a7",
   "metadata": {},
   "outputs": [],
   "source": []
  },
  {
   "cell_type": "markdown",
   "id": "98c8dcc4-3ac9-487e-b56c-94b1e594ca8b",
   "metadata": {},
   "source": [
    "## prepare config files\n",
    "employ nf-core/fetchngs to download fastq"
   ]
  },
  {
   "cell_type": "code",
   "execution_count": 12,
   "id": "803b3597-bf25-4705-a2ab-15253b40e0b9",
   "metadata": {},
   "outputs": [
    {
     "name": "stdout",
     "output_type": "stream",
     "text": [
      "/home/yuan/rawdata/nextflow/GSE133747/run.sh\n",
      "/home/yuan/rawdata/nextflow/GSE154826/run.sh\n",
      "/home/yuan/rawdata/nextflow/GSE112274/run.sh\n",
      "/home/yuan/rawdata/nextflow/GSE280041/run.sh\n",
      "/home/yuan/rawdata/nextflow/GSE168299/run.sh\n",
      "/home/yuan/rawdata/nextflow/GSE166059/run.sh\n",
      "/home/yuan/rawdata/nextflow/GSE166034/run.sh\n",
      "/home/yuan/rawdata/nextflow/GSE166033/run.sh\n",
      "/home/yuan/rawdata/nextflow/GSE166037/run.sh\n",
      "/home/yuan/rawdata/nextflow/GSE166035/run.sh\n",
      "/home/yuan/rawdata/nextflow/GSE166036/run.sh\n",
      "/home/yuan/rawdata/nextflow/GSE145926/run.sh\n",
      "/home/yuan/rawdata/nextflow/GSE183590/run.sh\n",
      "/home/yuan/rawdata/nextflow/GSE125188/run.sh\n",
      "/home/yuan/rawdata/nextflow/GSE135851/run.sh\n",
      "/home/yuan/rawdata/nextflow/GSE135893/run.sh\n",
      "/home/yuan/rawdata/nextflow/GSE286399/run.sh\n",
      "/home/yuan/rawdata/nextflow/GSE148729/run.sh\n",
      "/home/yuan/rawdata/nextflow/GSE190510/run.sh\n",
      "/home/yuan/rawdata/nextflow/GSE121309/run.sh\n",
      "/home/yuan/rawdata/nextflow/GSE121611/run.sh\n",
      "/home/yuan/rawdata/nextflow/GSE132771/run.sh\n",
      "/home/yuan/rawdata/nextflow/GSE180063/run.sh\n",
      "/home/yuan/rawdata/nextflow/GSE180908/run.sh\n",
      "/home/yuan/rawdata/nextflow/GSE144357/run.sh\n",
      "/home/yuan/rawdata/nextflow/GSE155515/run.sh\n",
      "/home/yuan/rawdata/nextflow/GSE161089/run.sh\n",
      "/home/yuan/rawdata/nextflow/GSE137811/run.sh\n",
      "/home/yuan/rawdata/nextflow/GSE137805/run.sh\n",
      "/home/yuan/rawdata/nextflow/GSE164829/run.sh\n",
      "/home/yuan/rawdata/nextflow/GSE185044/run.sh\n",
      "/home/yuan/rawdata/nextflow/GSE185045/run.sh\n",
      "/home/yuan/rawdata/nextflow/GSE185043/run.sh\n",
      "/home/yuan/rawdata/nextflow/GSE124885/run.sh\n",
      "/home/yuan/rawdata/nextflow/GSE136831/run.sh\n",
      "/home/yuan/rawdata/nextflow/GSE162499/run.sh\n",
      "/home/yuan/rawdata/nextflow/GSE162936/run.sh\n",
      "/home/yuan/rawdata/nextflow/GSE162498/run.sh\n",
      "/home/yuan/rawdata/nextflow/GSE162500/run.sh\n"
     ]
    }
   ],
   "source": [
    "# prepare ids.csv and params.config.\n",
    "#Here, keyword=human, stored in meta_dir\n",
    "sample_iter = CreateConfig.get_biosamples(meta_dir)\n",
    "for geo, biosamples in sample_iter:\n",
    "    # print(geo, biosamples)\n",
    "    bash_file = CreateConfig.fetch_geo(geo, biosamples, download_dir)\n",
    "    print(bash_file)"
   ]
  },
  {
   "cell_type": "code",
   "execution_count": null,
   "id": "dd9a8961-12cc-4695-8e4e-407686a08414",
   "metadata": {},
   "outputs": [],
   "source": []
  },
  {
   "cell_type": "code",
   "execution_count": 29,
   "id": "d6d6f9dc-bac9-4160-a915-6b9ae2e4be0b",
   "metadata": {},
   "outputs": [],
   "source": []
  },
  {
   "cell_type": "code",
   "execution_count": null,
   "id": "191b09f6-b6bb-4ab7-8e3a-d8c41354f767",
   "metadata": {},
   "outputs": [],
   "source": [
    "https://ftp.sra.ebi.ac.uk/vol1/fastq/SRR668/006/SRR6685936/"
   ]
  },
  {
   "cell_type": "code",
   "execution_count": 138,
   "id": "d226ee13-b54c-403e-939c-d8917220619f",
   "metadata": {},
   "outputs": [
    {
     "name": "stdout",
     "output_type": "stream",
     "text": [
      "['SRR15130367.fastq.gz']\n"
     ]
    }
   ],
   "source": [
    "import ftplib\n",
    "\n",
    "url = 'ftp.sra.ebi.ac.uk'\n",
    "ftp = ftplib.FTP(url, encoding='utf-8', user='anonymous', passwd='anonymous')\n",
    "ftp.cwd('/vol1/fastq/SRR151/067/SRR15130367')\n",
    "res = ftp.nlst()\n",
    "print(res)"
   ]
  },
  {
   "cell_type": "code",
   "execution_count": null,
   "id": "77c9e80b-335b-4bf6-9007-ccb4a7e68a84",
   "metadata": {},
   "outputs": [],
   "source": []
  },
  {
   "cell_type": "code",
   "execution_count": 70,
   "id": "b3f7e9ac-441b-4e7f-ac38-1ab8203e80b7",
   "metadata": {},
   "outputs": [
    {
     "name": "stdout",
     "output_type": "stream",
     "text": [
      "992\n"
     ]
    }
   ],
   "source": [
    "data = Utils.from_json('../results/srr_fastq_urls.json')\n",
    "root_pool = RetrieveUrl.scan(['/vol1/fastq',], 'SRR')\n",
    "RetrieveUrl.merge(data, root_pool)\n",
    "print(len(data['vol1']['fastq']))"
   ]
  },
  {
   "cell_type": "code",
   "execution_count": 75,
   "id": "ee1ca7ec-bc33-4dd9-ac10-49a8c91ad79c",
   "metadata": {},
   "outputs": [],
   "source": [
    "# deprecated\n",
    "# for _ in range(100):\n",
    "#     sub_pool = []\n",
    "#     Utils.depth_first_scan(data, '', sub_pool)\n",
    "#     if not sub_pool:\n",
    "#         break\n",
    "#     # update\n",
    "#     next_pool = RetrieveUrl.scan(sub_pool)\n",
    "#     RetrieveUrl.merge(data, next_pool)\n",
    "#     print(len(next_pool), end=', ')"
   ]
  },
  {
   "cell_type": "code",
   "execution_count": null,
   "id": "b5129a58-9ba9-4e34-b2f7-b4ff40cad6d5",
   "metadata": {},
   "outputs": [],
   "source": []
  },
  {
   "cell_type": "code",
   "execution_count": 74,
   "id": "b77c113b-6413-4404-bcb7-1f6455d8a298",
   "metadata": {},
   "outputs": [],
   "source": [
    "#save\n",
    "outfile = Utils.to_json(data, '../results', 'srr_fastq_urls.json')"
   ]
  },
  {
   "cell_type": "code",
   "execution_count": null,
   "id": "499f0e35-a82a-402f-8709-9425ee0f2b56",
   "metadata": {},
   "outputs": [],
   "source": []
  },
  {
   "cell_type": "code",
   "execution_count": null,
   "id": "912816e0-8d61-4bba-8d05-333a82b2589c",
   "metadata": {},
   "outputs": [],
   "source": []
  },
  {
   "cell_type": "code",
   "execution_count": 103,
   "id": "6dbed1da-c834-4f38-82d3-c976ce0abd9c",
   "metadata": {},
   "outputs": [
    {
     "name": "stdout",
     "output_type": "stream",
     "text": [
      "['ftp.sra.ebi.ac.uk/vol1/fastq/SRR151/067/SRR15130367/SRR15130367.fastq.gz']\n"
     ]
    }
   ],
   "source": [
    "res = RetrieveUrl.ftp_sra_ebi(\"SRR15130367\")\n",
    "print(res)"
   ]
  },
  {
   "cell_type": "code",
   "execution_count": null,
   "id": "90f7394c-ea07-446d-8af0-61db427a3769",
   "metadata": {},
   "outputs": [],
   "source": []
  },
  {
   "cell_type": "code",
   "execution_count": null,
   "id": "1c275a96-18b8-4000-9dfc-0b3b03b72427",
   "metadata": {},
   "outputs": [],
   "source": []
  },
  {
   "cell_type": "code",
   "execution_count": null,
   "id": "883fb16c-f119-4007-bd36-a113b7958990",
   "metadata": {},
   "outputs": [],
   "source": []
  },
  {
   "cell_type": "code",
   "execution_count": null,
   "id": "55a929c9-5640-40dd-8390-0d43cb46d030",
   "metadata": {},
   "outputs": [],
   "source": []
  },
  {
   "cell_type": "markdown",
   "id": "efe1fa41-63b6-4772-a786-257525e850a3",
   "metadata": {},
   "source": [
    "## raw data"
   ]
  },
  {
   "cell_type": "markdown",
   "id": "274df579-d6a2-49ee-ab57-9948139b268e",
   "metadata": {},
   "source": [
    "Prepare GEO accesions, and put them into the file data/GEO_H1299.csv. Those datasets are from scRNA-seq, \n",
    "- Non-small cell lung cancer (NSCLC) cell line: H1299\n",
    "GSE286399: SRR31958404 SRR31958403\t\n",
    "GSE280041: SRR31072090\tSRR31072089\tSRR31072128\tSRR31072129 SRR31072127 SRR31072132\t\n",
    "GSE144357: GSM4286770\n",
    "GSE121309: SRR8064284 SRR8064285 SRR8064286 SRR8064287\n",
    "GSE183590 : GSM5562430-GSM5562449\n",
    "GSE148729: GSM4477968-GSM4477983\t\n",
    "\n",
    "- control:\n"
   ]
  },
  {
   "cell_type": "markdown",
   "id": "a9cea948-be30-46da-8ee3-3789abb8253a",
   "metadata": {},
   "source": [
    "download raw data from GEO\n",
    "```\n",
    "cd ~/bio/nextflow\n",
    "nextflow run nf-core/fetchngs -r 1.12.0 -profile docker --input ~/bio/scrnaseq_reference/data/GEO_H1299.csv --outdir ~/data/test\n",
    "```"
   ]
  },
  {
   "cell_type": "code",
   "execution_count": 2,
   "id": "4b18e5bd-38e2-4f73-bcea-65204c1ab5c9",
   "metadata": {},
   "outputs": [
    {
     "name": "stdout",
     "output_type": "stream",
     "text": [
      "289\n",
      "290\n",
      "290\n"
     ]
    }
   ],
   "source": [
    "\n",
    "\n",
    "pmid_samples = Utils.from_json('../data/pmid_samples.json')\n",
    "print(len(pmid_samples))\n",
    "pmid_geo = Utils.from_json('../data/pmid_geo.json')\n",
    "print(len(pmid_geo))\n",
    "geo_sampleid = Utils.from_json('../data/geo_sampleid.json')\n",
    "print(len(geo_sampleid))\n",
    "\n"
   ]
  },
  {
   "cell_type": "code",
   "execution_count": 25,
   "id": "5560b953-17d8-4fba-b995-8f531a4e33f8",
   "metadata": {},
   "outputs": [
    {
     "name": "stdout",
     "output_type": "stream",
     "text": [
      "GSE286399 ['GSM8726430', 'GSM8726431', 'GSM8726432', 'GSM8726433']\n",
      "nextflow run nf-core/fetchngs -r 1.12.0 -profile docker -resume -c /home/yuan/bio/scrnaseq_reference/data/ids/GSE286399.config\n",
      "GSE280041 ['GSM8586275', 'GSM8586276', 'GSM8586277', 'GSM8586278', 'GSM8586279', 'GSM8586280', 'GSM8586281', 'GSM8586282', 'GSM8586283', 'GSM8586284', 'GSM8586285', 'GSM8586286', 'GSM8586287', 'GSM8586288', 'GSM8586289', 'GSM8586290', 'GSM8586291', 'GSM8586292', 'GSM8586293', 'GSM8586294', 'GSM8586295', 'GSM8586296', 'GSM8586297', 'GSM8586298', 'GSM8586299', 'GSM8586300', 'GSM8586301', 'GSM8586302', 'GSM8586303', 'GSM8586304', 'GSM8586305', 'GSM8586306', 'GSM8586307', 'GSM8586308', 'GSM8586309', 'GSM8586310', 'GSM8586311', 'GSM8586312', 'GSM8586313', 'GSM8586314', 'GSM8586315', 'GSM8586316', 'GSM8586317', 'GSM8586318', 'GSM8586319', 'GSM8586320', 'GSM8586321', 'GSM8586322', 'GSM8586323', 'GSM8586324', 'GSM8586325', 'GSM8586326', 'GSM8586327', 'GSM8586328', 'GSM8586329', 'GSM8586330', 'GSM8586331', 'GSM8586332', 'GSM8586333', 'GSM8586334', 'GSM8586335', 'GSM8586336', 'GSM8586337', 'GSM8586338', 'GSM8586339', 'GSM8586340', 'GSM8586341', 'GSM8586342', 'GSM8586343', 'GSM8586344', 'GSM8586345', 'GSM8586346', 'GSM8586347', 'GSM8586348', 'GSM8586349', 'GSM8586350', 'GSM8586351', 'GSM8586352', 'GSM8586353', 'GSM8586354', 'GSM8586355', 'GSM8586356', 'GSM8586357', 'GSM8586358', 'GSM8586359', 'GSM8586360', 'GSM8586361', 'GSM8586362', 'GSM8586363', 'GSM8586364', 'GSM8586365', 'GSM8586366', 'GSM8586367', 'GSM8586368', 'GSM8586369', 'GSM8586370', 'GSM8586371', 'GSM8586372', 'GSM8586373', 'GSM8586374', 'GSM8586375', 'GSM8586376', 'GSM8586377', 'GSM8586378']\n",
      "nextflow run nf-core/fetchngs -r 1.12.0 -profile docker -resume -c /home/yuan/bio/scrnaseq_reference/data/ids/GSE280041.config\n",
      "GSE144357 ['GSM4286760', 'GSM4286761', 'GSM4286762', 'GSM4286763', 'GSM4286764', 'GSM4286765', 'GSM4286766', 'GSM4286767', 'GSM4286768', 'GSM4286769', 'GSM4286770', 'GSM4286771', 'GSM4286772', 'GSM4286773', 'GSM4286774', 'GSM4286775', 'GSM4286776', 'GSM4286777', 'GSM4286778', 'GSM4286779']\n",
      "nextflow run nf-core/fetchngs -r 1.12.0 -profile docker -resume -c /home/yuan/bio/scrnaseq_reference/data/ids/GSE144357.config\n",
      "GSE121309 ['GSM3431173', 'GSM3431174', 'GSM3431175', 'GSM3431176']\n",
      "nextflow run nf-core/fetchngs -r 1.12.0 -profile docker -resume -c /home/yuan/bio/scrnaseq_reference/data/ids/GSE121309.config\n",
      "GSE183590 ['GSM5561685', 'GSM5561686', 'GSM5561687', 'GSM5561688', 'GSM5561689', 'GSM5561690', 'GSM5561691', 'GSM5561692', 'GSM5561693', 'GSM5561694', 'GSM5561695', 'GSM5561696', 'GSM5561697', 'GSM5561698', 'GSM5561699', 'GSM5561700', 'GSM5561701', 'GSM5561702', 'GSM5561703', 'GSM5561704', 'GSM5561705', 'GSM5561706', 'GSM5561707', 'GSM5561708', 'GSM5561709', 'GSM5561710', 'GSM5561711', 'GSM5561712', 'GSM5561713', 'GSM5561714', 'GSM5561715', 'GSM5561716', 'GSM5561717', 'GSM5561718', 'GSM5561719', 'GSM5561720', 'GSM5561721', 'GSM5561722', 'GSM5561723', 'GSM5561724', 'GSM5561725', 'GSM5561726', 'GSM5561727', 'GSM5561728', 'GSM5561729', 'GSM5561730', 'GSM5561731', 'GSM5561732', 'GSM5561733', 'GSM5561734', 'GSM5561735', 'GSM5561736', 'GSM5561737', 'GSM5561738', 'GSM5561739', 'GSM5561740', 'GSM5561741', 'GSM5561742', 'GSM5561743', 'GSM5561744', 'GSM5561745', 'GSM5561746', 'GSM5561747', 'GSM5561748', 'GSM5561749', 'GSM5561750', 'GSM5561751', 'GSM5561752', 'GSM5561753', 'GSM5561754', 'GSM5561755', 'GSM5561756', 'GSM5561757', 'GSM5561758', 'GSM5561759', 'GSM5561760', 'GSM5561761', 'GSM5561762', 'GSM5561763', 'GSM5561764', 'GSM5561765', 'GSM5561766', 'GSM5561767', 'GSM5561768', 'GSM5561769', 'GSM5561770', 'GSM5561771', 'GSM5561772', 'GSM5561773', 'GSM5561774', 'GSM5561775', 'GSM5561776', 'GSM5561777', 'GSM5561778', 'GSM5561779', 'GSM5561780', 'GSM5561781', 'GSM5561782', 'GSM5561783', 'GSM5561784', 'GSM5561785', 'GSM5561786', 'GSM5561787', 'GSM5561788', 'GSM5561789', 'GSM5561790', 'GSM5561791', 'GSM5561792', 'GSM5561793', 'GSM5561794', 'GSM5561795', 'GSM5561796', 'GSM5561797', 'GSM5561798', 'GSM5561799', 'GSM5561800', 'GSM5561801', 'GSM5561802', 'GSM5561803', 'GSM5561804', 'GSM5561805', 'GSM5561806', 'GSM5561807', 'GSM5561808', 'GSM5561809', 'GSM5561810', 'GSM5561811', 'GSM5561812', 'GSM5561813', 'GSM5561814', 'GSM5561815', 'GSM5561816', 'GSM5561817', 'GSM5561818', 'GSM5561819', 'GSM5561820', 'GSM5561821', 'GSM5561822', 'GSM5561823', 'GSM5561824', 'GSM5561825', 'GSM5561826', 'GSM5561827', 'GSM5561828', 'GSM5561829', 'GSM5561830', 'GSM5561831', 'GSM5561832', 'GSM5561833', 'GSM5561834', 'GSM5561835', 'GSM5561836', 'GSM5561837', 'GSM5561838', 'GSM5561839', 'GSM5561840', 'GSM5561841', 'GSM5561842', 'GSM5561843', 'GSM5561844', 'GSM5561845', 'GSM5561846', 'GSM5561847', 'GSM5561848', 'GSM5561849', 'GSM5561850', 'GSM5561851', 'GSM5561852', 'GSM5561853', 'GSM5561854', 'GSM5561855', 'GSM5561856', 'GSM5561857', 'GSM5561858', 'GSM5561859', 'GSM5561860', 'GSM5561861', 'GSM5561862', 'GSM5561863', 'GSM5561864', 'GSM5561865', 'GSM5561866', 'GSM5561867', 'GSM5561868', 'GSM5561869', 'GSM5561870', 'GSM5561871', 'GSM5561872', 'GSM5561873', 'GSM5561874', 'GSM5561875', 'GSM5561876', 'GSM5561877', 'GSM5561878', 'GSM5561879', 'GSM5561880', 'GSM5561881', 'GSM5561882', 'GSM5561883', 'GSM5561884', 'GSM5561885', 'GSM5561886', 'GSM5561887', 'GSM5561888', 'GSM5561889', 'GSM5561890', 'GSM5561891', 'GSM5561892', 'GSM5561893', 'GSM5561894', 'GSM5561895', 'GSM5561896', 'GSM5561897', 'GSM5561898', 'GSM5561899', 'GSM5561900', 'GSM5561901', 'GSM5561902', 'GSM5561903', 'GSM5561904', 'GSM5561905', 'GSM5561906', 'GSM5561907', 'GSM5561908', 'GSM5561909', 'GSM5561910', 'GSM5561911', 'GSM5561912', 'GSM5561913', 'GSM5561914', 'GSM5561915', 'GSM5561916', 'GSM5561917', 'GSM5561918', 'GSM5561919', 'GSM5561920', 'GSM5561921', 'GSM5561922', 'GSM5561923', 'GSM5561924', 'GSM5561925', 'GSM5561926', 'GSM5561927', 'GSM5561928', 'GSM5561929', 'GSM5561930', 'GSM5561931', 'GSM5561932', 'GSM5561933', 'GSM5561934', 'GSM5561935', 'GSM5561936', 'GSM5561937', 'GSM5561938', 'GSM5561939', 'GSM5561940', 'GSM5561941', 'GSM5561942', 'GSM5561943', 'GSM5561944', 'GSM5561945', 'GSM5561946', 'GSM5561947', 'GSM5561948', 'GSM5561949', 'GSM5561950', 'GSM5561951', 'GSM5561952', 'GSM5561953', 'GSM5561954', 'GSM5561955', 'GSM5561956', 'GSM5561957', 'GSM5561958', 'GSM5561959', 'GSM5561960', 'GSM5561961', 'GSM5561962', 'GSM5561963', 'GSM5561964', 'GSM5561965', 'GSM5561966', 'GSM5561967', 'GSM5561968', 'GSM5561969', 'GSM5561970', 'GSM5561971', 'GSM5561972', 'GSM5561973', 'GSM5561974', 'GSM5561975', 'GSM5561976', 'GSM5561977', 'GSM5561978', 'GSM5561979', 'GSM5561980', 'GSM5561981', 'GSM5561982', 'GSM5561983', 'GSM5561984', 'GSM5561985', 'GSM5561986', 'GSM5561987', 'GSM5561988', 'GSM5561989', 'GSM5561990', 'GSM5561991', 'GSM5561992', 'GSM5561993', 'GSM5561994', 'GSM5561995', 'GSM5561996', 'GSM5561997', 'GSM5561998', 'GSM5561999', 'GSM5562000', 'GSM5562001', 'GSM5562002', 'GSM5562003', 'GSM5562004', 'GSM5562005', 'GSM5562006', 'GSM5562007', 'GSM5562008', 'GSM5562009', 'GSM5562010', 'GSM5562011', 'GSM5562012', 'GSM5562013', 'GSM5562014', 'GSM5562015', 'GSM5562016', 'GSM5562017', 'GSM5562018', 'GSM5562019', 'GSM5562020', 'GSM5562021', 'GSM5562022', 'GSM5562023', 'GSM5562024', 'GSM5562025', 'GSM5562026', 'GSM5562027', 'GSM5562028', 'GSM5562029', 'GSM5562030', 'GSM5562031', 'GSM5562032', 'GSM5562033', 'GSM5562034', 'GSM5562035', 'GSM5562036', 'GSM5562037', 'GSM5562038', 'GSM5562039', 'GSM5562040', 'GSM5562041', 'GSM5562042', 'GSM5562043', 'GSM5562044', 'GSM5562045', 'GSM5562046', 'GSM5562047', 'GSM5562048', 'GSM5562049', 'GSM5562050', 'GSM5562051', 'GSM5562052', 'GSM5562053', 'GSM5562054', 'GSM5562055', 'GSM5562056', 'GSM5562057', 'GSM5562058', 'GSM5562059', 'GSM5562060', 'GSM5562061', 'GSM5562062', 'GSM5562063', 'GSM5562064', 'GSM5562065', 'GSM5562066', 'GSM5562067', 'GSM5562068', 'GSM5562069', 'GSM5562070', 'GSM5562071', 'GSM5562072', 'GSM5562073', 'GSM5562074', 'GSM5562075', 'GSM5562076', 'GSM5562077', 'GSM5562078', 'GSM5562079', 'GSM5562080', 'GSM5562081', 'GSM5562082', 'GSM5562083', 'GSM5562084', 'GSM5562085', 'GSM5562086', 'GSM5562087', 'GSM5562088', 'GSM5562089', 'GSM5562090', 'GSM5562091', 'GSM5562092', 'GSM5562093', 'GSM5562094', 'GSM5562095', 'GSM5562096', 'GSM5562097', 'GSM5562098', 'GSM5562099', 'GSM5562100', 'GSM5562101', 'GSM5562102', 'GSM5562103', 'GSM5562104', 'GSM5562105', 'GSM5562106', 'GSM5562107', 'GSM5562108', 'GSM5562109', 'GSM5562110', 'GSM5562111', 'GSM5562112', 'GSM5562113', 'GSM5562114', 'GSM5562115', 'GSM5562116', 'GSM5562117', 'GSM5562118', 'GSM5562119', 'GSM5562120', 'GSM5562121', 'GSM5562122', 'GSM5562123', 'GSM5562124', 'GSM5562125', 'GSM5562126', 'GSM5562127', 'GSM5562128', 'GSM5562129', 'GSM5562130', 'GSM5562131', 'GSM5562132', 'GSM5562133', 'GSM5562134', 'GSM5562135', 'GSM5562136', 'GSM5562137', 'GSM5562138', 'GSM5562139', 'GSM5562140', 'GSM5562141', 'GSM5562142', 'GSM5562143', 'GSM5562144', 'GSM5562145', 'GSM5562146', 'GSM5562147', 'GSM5562148', 'GSM5562149', 'GSM5562150', 'GSM5562151', 'GSM5562152', 'GSM5562153', 'GSM5562154', 'GSM5562155', 'GSM5562156', 'GSM5562157', 'GSM5562158', 'GSM5562159', 'GSM5562160', 'GSM5562161', 'GSM5562162', 'GSM5562163', 'GSM5562164', 'GSM5562165', 'GSM5562166', 'GSM5562167', 'GSM5562168', 'GSM5562169', 'GSM5562170', 'GSM5562171', 'GSM5562172', 'GSM5562173', 'GSM5562174', 'GSM5562175', 'GSM5562176', 'GSM5562177', 'GSM5562178', 'GSM5562179', 'GSM5562180', 'GSM5562181', 'GSM5562182', 'GSM5562183', 'GSM5562184', 'GSM5562185', 'GSM5562186', 'GSM5562187', 'GSM5562188', 'GSM5562189', 'GSM5562190', 'GSM5562191', 'GSM5562192', 'GSM5562193', 'GSM5562194', 'GSM5562195', 'GSM5562196', 'GSM5562197', 'GSM5562198', 'GSM5562199', 'GSM5562200', 'GSM5562201', 'GSM5562202', 'GSM5562203', 'GSM5562204', 'GSM5562205', 'GSM5562206', 'GSM5562207', 'GSM5562208', 'GSM5562209', 'GSM5562210', 'GSM5562211', 'GSM5562212', 'GSM5562213', 'GSM5562214', 'GSM5562215', 'GSM5562216', 'GSM5562217', 'GSM5562218', 'GSM5562219', 'GSM5562220', 'GSM5562221', 'GSM5562222', 'GSM5562223', 'GSM5562224', 'GSM5562225', 'GSM5562226', 'GSM5562227', 'GSM5562228', 'GSM5562229', 'GSM5562230', 'GSM5562231', 'GSM5562232', 'GSM5562233', 'GSM5562234', 'GSM5562235', 'GSM5562236', 'GSM5562237', 'GSM5562238', 'GSM5562239', 'GSM5562240', 'GSM5562241', 'GSM5562242', 'GSM5562243', 'GSM5562244', 'GSM5562245', 'GSM5562246', 'GSM5562247', 'GSM5562248', 'GSM5562249', 'GSM5562250', 'GSM5562251', 'GSM5562252', 'GSM5562253', 'GSM5562254', 'GSM5562255', 'GSM5562256', 'GSM5562257', 'GSM5562258', 'GSM5562259', 'GSM5562260', 'GSM5562261', 'GSM5562262', 'GSM5562263', 'GSM5562264', 'GSM5562265', 'GSM5562266', 'GSM5562267', 'GSM5562268', 'GSM5562269', 'GSM5562270', 'GSM5562271', 'GSM5562272', 'GSM5562273', 'GSM5562274', 'GSM5562275', 'GSM5562276', 'GSM5562277', 'GSM5562278', 'GSM5562279', 'GSM5562280', 'GSM5562281', 'GSM5562282', 'GSM5562283', 'GSM5562284', 'GSM5562285', 'GSM5562286', 'GSM5562287', 'GSM5562288', 'GSM5562289', 'GSM5562290', 'GSM5562291', 'GSM5562292', 'GSM5562293', 'GSM5562294', 'GSM5562295', 'GSM5562296', 'GSM5562297', 'GSM5562298', 'GSM5562299', 'GSM5562300', 'GSM5562301', 'GSM5562302', 'GSM5562303', 'GSM5562304', 'GSM5562305', 'GSM5562306', 'GSM5562307', 'GSM5562308', 'GSM5562309', 'GSM5562310', 'GSM5562311', 'GSM5562312', 'GSM5562313', 'GSM5562314', 'GSM5562315', 'GSM5562316', 'GSM5562317', 'GSM5562318', 'GSM5562319', 'GSM5562320', 'GSM5562321', 'GSM5562322', 'GSM5562323', 'GSM5562324', 'GSM5562325', 'GSM5562326', 'GSM5562327', 'GSM5562328', 'GSM5562329', 'GSM5562330', 'GSM5562331', 'GSM5562332', 'GSM5562333', 'GSM5562334', 'GSM5562335', 'GSM5562336', 'GSM5562337', 'GSM5562338', 'GSM5562339', 'GSM5562340', 'GSM5562341', 'GSM5562342', 'GSM5562343', 'GSM5562344', 'GSM5562345', 'GSM5562346', 'GSM5562347', 'GSM5562348', 'GSM5562349', 'GSM5562350', 'GSM5562351', 'GSM5562352', 'GSM5562353', 'GSM5562354', 'GSM5562355', 'GSM5562356', 'GSM5562357', 'GSM5562358', 'GSM5562359', 'GSM5562360', 'GSM5562361', 'GSM5562362', 'GSM5562363', 'GSM5562364', 'GSM5562365', 'GSM5562366', 'GSM5562367', 'GSM5562368', 'GSM5562369', 'GSM5562370', 'GSM5562371', 'GSM5562372', 'GSM5562373', 'GSM5562374', 'GSM5562375', 'GSM5562376', 'GSM5562377', 'GSM5562378', 'GSM5562379', 'GSM5562380', 'GSM5562381', 'GSM5562382', 'GSM5562383', 'GSM5562384', 'GSM5562385', 'GSM5562386', 'GSM5562387', 'GSM5562388', 'GSM5562389', 'GSM5562390', 'GSM5562391', 'GSM5562392', 'GSM5562393', 'GSM5562394', 'GSM5562395', 'GSM5562396', 'GSM5562397', 'GSM5562398', 'GSM5562399', 'GSM5562400', 'GSM5562401', 'GSM5562402', 'GSM5562403', 'GSM5562404', 'GSM5562405', 'GSM5562406', 'GSM5562407', 'GSM5562408', 'GSM5562409', 'GSM5562410', 'GSM5562411', 'GSM5562412', 'GSM5562413', 'GSM5562414', 'GSM5562415', 'GSM5562416', 'GSM5562417', 'GSM5562418', 'GSM5562419', 'GSM5562420', 'GSM5562421', 'GSM5562422', 'GSM5562423', 'GSM5562424', 'GSM5562425', 'GSM5562426', 'GSM5562427', 'GSM5562428', 'GSM5562429', 'GSM5562430', 'GSM5562431', 'GSM5562432', 'GSM5562433', 'GSM5562434', 'GSM5562435', 'GSM5562436', 'GSM5562437', 'GSM5562438', 'GSM5562439', 'GSM5562440', 'GSM5562441', 'GSM5562442', 'GSM5562443', 'GSM5562444', 'GSM5562445', 'GSM5562446', 'GSM5562447', 'GSM5562448', 'GSM5562449', 'GSM5562450', 'GSM5562451', 'GSM5562452', 'GSM5562453', 'GSM5562454', 'GSM5562455', 'GSM5562456', 'GSM5562457', 'GSM5562458', 'GSM5562459', 'GSM5562460', 'GSM5562461', 'GSM5562462', 'GSM5562463', 'GSM5562464', 'GSM5562465', 'GSM5562466', 'GSM5562467', 'GSM5562468', 'GSM5562469', 'GSM5562470', 'GSM5562471', 'GSM5562472', 'GSM5562473', 'GSM5562474', 'GSM5562475', 'GSM5562476', 'GSM5562477', 'GSM5562478', 'GSM5562479', 'GSM5562480', 'GSM5562481', 'GSM5562482', 'GSM5562483', 'GSM5562484', 'GSM5562485', 'GSM5562486', 'GSM5562487', 'GSM5562488', 'GSM5562489', 'GSM5562490', 'GSM5562491', 'GSM5562492', 'GSM5562493', 'GSM5562494', 'GSM5562495', 'GSM5562496', 'GSM5562497', 'GSM5562498', 'GSM5562499', 'GSM5562500', 'GSM5562501', 'GSM5562502', 'GSM5562503', 'GSM5562504', 'GSM5562505', 'GSM5562506', 'GSM5562507', 'GSM5562508', 'GSM5562509', 'GSM5562510', 'GSM5562511', 'GSM5562512', 'GSM5562513', 'GSM5562514', 'GSM5562515', 'GSM5562516', 'GSM5562517', 'GSM5562518', 'GSM5562519', 'GSM5562520', 'GSM5562521', 'GSM5562522', 'GSM5562523', 'GSM5562524', 'GSM5562525', 'GSM5562526', 'GSM5562527', 'GSM5562528', 'GSM5562529', 'GSM5562530', 'GSM5562531', 'GSM5562532', 'GSM5562533', 'GSM5562534', 'GSM5562535', 'GSM5562536', 'GSM5562537', 'GSM5562538', 'GSM5562539', 'GSM5562540', 'GSM5562541', 'GSM5562542', 'GSM5562543', 'GSM5562544', 'GSM5562545', 'GSM5562546', 'GSM5562547', 'GSM5562548', 'GSM5562549', 'GSM5562550', 'GSM5562551', 'GSM5562552', 'GSM5562553', 'GSM5562554', 'GSM5562555', 'GSM5562556', 'GSM5562557', 'GSM5562558', 'GSM5562559', 'GSM5562560', 'GSM5562561', 'GSM5562562', 'GSM5562563', 'GSM5562564', 'GSM5562565', 'GSM5562566', 'GSM5562567', 'GSM5562568', 'GSM5562569', 'GSM5562570', 'GSM5562571', 'GSM5562572', 'GSM5562573', 'GSM5562574', 'GSM5562575', 'GSM5562576', 'GSM5562577', 'GSM5562578', 'GSM5562579', 'GSM5562580', 'GSM5562581', 'GSM5562582', 'GSM5562583', 'GSM5562584', 'GSM5562585', 'GSM5562586', 'GSM5562587', 'GSM5562588', 'GSM5562589', 'GSM5562590', 'GSM5562591', 'GSM5562592', 'GSM5562593', 'GSM5562594', 'GSM5562595', 'GSM5562596', 'GSM5562597', 'GSM5562598', 'GSM5562599', 'GSM5562600', 'GSM5562601', 'GSM5562602', 'GSM5562603', 'GSM5562604', 'GSM5562605', 'GSM5562606', 'GSM5562607', 'GSM5562608', 'GSM5562609', 'GSM5562610', 'GSM5562611', 'GSM5562612', 'GSM5562613', 'GSM5562614', 'GSM5562615', 'GSM5562616', 'GSM5562617', 'GSM5562618', 'GSM5562619', 'GSM5562620', 'GSM5562621', 'GSM5562622', 'GSM5562623', 'GSM5562624', 'GSM5562625', 'GSM5562626', 'GSM5562627', 'GSM5562628', 'GSM5562629', 'GSM5562630', 'GSM5562631', 'GSM5562632', 'GSM5562633', 'GSM5562634', 'GSM5562635', 'GSM5562636', 'GSM5562637', 'GSM5562638', 'GSM5562639', 'GSM5562640', 'GSM5562641', 'GSM5562642', 'GSM5562643', 'GSM5562644', 'GSM5562645', 'GSM5562646', 'GSM5562647', 'GSM5562648', 'GSM5562649', 'GSM5562650', 'GSM5562651', 'GSM5562652', 'GSM5562653', 'GSM5562654', 'GSM5562655', 'GSM5562656', 'GSM5562657', 'GSM5562658', 'GSM5562659', 'GSM5562660', 'GSM5562661', 'GSM5562662', 'GSM5562663', 'GSM5562664', 'GSM5562665', 'GSM5562666', 'GSM5562667', 'GSM5562668', 'GSM5562669', 'GSM5562670', 'GSM5562671', 'GSM5562672', 'GSM5562673', 'GSM5562674', 'GSM5562675', 'GSM5562676', 'GSM5562677', 'GSM5562678', 'GSM5562679', 'GSM5562680', 'GSM5562681', 'GSM5562682', 'GSM5562683', 'GSM5562684', 'GSM5562685', 'GSM5562686', 'GSM5562687', 'GSM5562688', 'GSM5562689', 'GSM5562690', 'GSM5562691', 'GSM5562692', 'GSM5562693', 'GSM5562694', 'GSM5562695', 'GSM5562696', 'GSM5562697', 'GSM5562698', 'GSM5562699', 'GSM5562700', 'GSM5562701', 'GSM5562702', 'GSM5562703', 'GSM5562704', 'GSM5562705', 'GSM5562706', 'GSM5562707', 'GSM5562708', 'GSM5562709', 'GSM5562710', 'GSM5562711', 'GSM5562712', 'GSM5562713', 'GSM5562714', 'GSM5562715', 'GSM5562716', 'GSM5562717', 'GSM5562718', 'GSM5562719', 'GSM5562720', 'GSM5562721', 'GSM5562722', 'GSM5562723', 'GSM5562724', 'GSM5562725', 'GSM5562726', 'GSM5562727', 'GSM5562728', 'GSM5562729', 'GSM5562730', 'GSM5562731', 'GSM5562732', 'GSM5562733', 'GSM5562734', 'GSM5562735', 'GSM5562736', 'GSM5562737', 'GSM5562738', 'GSM5562739', 'GSM5562740', 'GSM5562741', 'GSM5562742', 'GSM5562743', 'GSM5562744', 'GSM5562745', 'GSM5562746', 'GSM5562747', 'GSM5562748', 'GSM5562749', 'GSM5562750', 'GSM5562751', 'GSM5562752', 'GSM5562753', 'GSM5562754', 'GSM5562755', 'GSM5562756', 'GSM5562757', 'GSM5562758', 'GSM5562759', 'GSM5562760', 'GSM5562761', 'GSM5562762', 'GSM5562763', 'GSM5562764', 'GSM5562765', 'GSM5562766', 'GSM5562767', 'GSM5562768', 'GSM5562769', 'GSM5562770', 'GSM5562771', 'GSM5562772', 'GSM5562773', 'GSM5562774', 'GSM5562775', 'GSM5562776', 'GSM5562777', 'GSM5562778', 'GSM5562779', 'GSM5562780', 'GSM5562781', 'GSM5562782', 'GSM5562783', 'GSM5562784', 'GSM5562785', 'GSM5562786', 'GSM5562787', 'GSM5562788', 'GSM5562789', 'GSM5562790', 'GSM5562791', 'GSM5562792', 'GSM5562793', 'GSM5562794', 'GSM5562795', 'GSM5562796', 'GSM5562797', 'GSM5562798', 'GSM5562799', 'GSM5562800', 'GSM5562801', 'GSM5562802', 'GSM5562803', 'GSM5562804', 'GSM5562805', 'GSM5562806', 'GSM5562807', 'GSM5562808', 'GSM5562809', 'GSM5562810', 'GSM5562811', 'GSM5562812', 'GSM5562813', 'GSM5562814', 'GSM5562815', 'GSM5562816', 'GSM5562817', 'GSM5562818', 'GSM5562819', 'GSM5562820', 'GSM5562821', 'GSM5562822', 'GSM5562823', 'GSM5562824', 'GSM5562825', 'GSM5562826', 'GSM5562827', 'GSM5562828', 'GSM5562829', 'GSM5562830', 'GSM5562831', 'GSM5562832', 'GSM5562833', 'GSM5562834', 'GSM5562835', 'GSM5562836', 'GSM5562837', 'GSM5562838', 'GSM5562839', 'GSM5562840', 'GSM5562841', 'GSM5562842', 'GSM5562843', 'GSM5562844', 'GSM5562845', 'GSM5562846', 'GSM5562847', 'GSM5562848', 'GSM5562849', 'GSM5562850', 'GSM5562851', 'GSM5562852', 'GSM5562853', 'GSM5562854', 'GSM5562855', 'GSM5562856', 'GSM5562857', 'GSM5562858', 'GSM5562859', 'GSM5562860', 'GSM5562861', 'GSM5562862', 'GSM5562863', 'GSM5562864', 'GSM5562865', 'GSM5562866', 'GSM5562867', 'GSM5562868', 'GSM5562869', 'GSM5562870', 'GSM5562871', 'GSM5562872', 'GSM5562873', 'GSM5562874', 'GSM5562875', 'GSM5562876', 'GSM5562877', 'GSM5562878', 'GSM5562879', 'GSM5562880', 'GSM5562881', 'GSM5562882', 'GSM5562883', 'GSM5562884', 'GSM5562885', 'GSM5562886', 'GSM5562887', 'GSM5562888', 'GSM5562889', 'GSM5562890', 'GSM5562891', 'GSM5562892', 'GSM5562893', 'GSM5562894', 'GSM5562895', 'GSM5562896', 'GSM5562897', 'GSM5562898', 'GSM5562899', 'GSM5562900', 'GSM5562901', 'GSM5562902', 'GSM5562903', 'GSM5562904', 'GSM5562905', 'GSM5562906', 'GSM5562907', 'GSM5562908', 'GSM5562909', 'GSM5562910', 'GSM5562911', 'GSM5562912', 'GSM5562913', 'GSM5562914', 'GSM5562915', 'GSM5562916', 'GSM5562917', 'GSM5562918', 'GSM5562919', 'GSM5562920', 'GSM5562921', 'GSM5562922', 'GSM5562923', 'GSM5562924', 'GSM5562925', 'GSM5562926', 'GSM5562927', 'GSM5562928', 'GSM5562929', 'GSM5562930', 'GSM5562931', 'GSM5562932', 'GSM5562933', 'GSM5562934', 'GSM5562935', 'GSM5562936', 'GSM5562937', 'GSM5562938', 'GSM5562939', 'GSM5562940', 'GSM5562941', 'GSM5562942', 'GSM5562943', 'GSM5562944', 'GSM5562945', 'GSM5562946', 'GSM5562947', 'GSM5562948', 'GSM5562949', 'GSM5562950', 'GSM5562951', 'GSM5562952', 'GSM5562953', 'GSM5562954', 'GSM5562955', 'GSM5562956', 'GSM5562957', 'GSM5562958', 'GSM5562959', 'GSM5562960', 'GSM5562961', 'GSM5562962', 'GSM5562963', 'GSM5562964', 'GSM5562965', 'GSM5562966', 'GSM5562967', 'GSM5562968', 'GSM5562969', 'GSM5562970', 'GSM5562971', 'GSM5562972', 'GSM5562973', 'GSM5562974', 'GSM5562975', 'GSM5562976', 'GSM5562977', 'GSM5562978', 'GSM5562979', 'GSM5562980', 'GSM5562981', 'GSM5562982', 'GSM5562983', 'GSM5562984', 'GSM5562985', 'GSM5562986', 'GSM5562987', 'GSM5562988', 'GSM5562989', 'GSM5562990', 'GSM5562991', 'GSM5562992', 'GSM5562993', 'GSM5562994', 'GSM5562995', 'GSM5562996', 'GSM5562997', 'GSM5562998', 'GSM5562999', 'GSM5563000', 'GSM5563001', 'GSM5563002', 'GSM5563003', 'GSM5563004', 'GSM5563005', 'GSM5563006', 'GSM5563007', 'GSM5563008', 'GSM5563009', 'GSM5563010', 'GSM5563011', 'GSM5563012', 'GSM5563013', 'GSM5563014', 'GSM5563015', 'GSM5563016', 'GSM5563017', 'GSM5563018', 'GSM5563019', 'GSM5563020', 'GSM5563021', 'GSM5563022', 'GSM5563023', 'GSM5563024', 'GSM5563025', 'GSM5563026', 'GSM5563027', 'GSM5563028', 'GSM5563029', 'GSM5563030', 'GSM5563031', 'GSM5563032', 'GSM5563033', 'GSM5563034', 'GSM5563035', 'GSM5563036', 'GSM5563037', 'GSM5563038', 'GSM5563039', 'GSM5563040', 'GSM5563041', 'GSM5563042', 'GSM5563043', 'GSM5563044', 'GSM5563045', 'GSM5563046', 'GSM5563047', 'GSM5563048', 'GSM5563049', 'GSM5563050', 'GSM5563051', 'GSM5563052', 'GSM5563053', 'GSM5563054', 'GSM5563055', 'GSM5563056', 'GSM5563057', 'GSM5563058', 'GSM5563059', 'GSM5563060', 'GSM5563061', 'GSM5563062', 'GSM5563063', 'GSM5563064', 'GSM5563065', 'GSM5563066', 'GSM5563067', 'GSM5563068', 'GSM5563069', 'GSM5563070', 'GSM5563071', 'GSM5563072', 'GSM5563073', 'GSM5563074', 'GSM5563075', 'GSM5563076', 'GSM5563077', 'GSM5563078', 'GSM5563079', 'GSM5563080', 'GSM5563081', 'GSM5563082', 'GSM5563083', 'GSM5563084', 'GSM5563085', 'GSM5563086', 'GSM5563087', 'GSM5563088', 'GSM5563089', 'GSM5563090', 'GSM5563091', 'GSM5563092', 'GSM5563093', 'GSM5563094', 'GSM5563095', 'GSM5563096', 'GSM5563097', 'GSM5563098', 'GSM5563099', 'GSM5563100', 'GSM5563101', 'GSM5563102', 'GSM5563103', 'GSM5563104', 'GSM5563105', 'GSM5563106', 'GSM5563107', 'GSM5563108', 'GSM5563109', 'GSM5563110', 'GSM5563111', 'GSM5563112', 'GSM5563113', 'GSM5563114', 'GSM5563115', 'GSM5563116', 'GSM5563117', 'GSM5563118', 'GSM5563119', 'GSM5563120', 'GSM5563121', 'GSM5563122', 'GSM5563123', 'GSM5563124', 'GSM5563125', 'GSM5563126', 'GSM5563127', 'GSM5563128', 'GSM5563129', 'GSM5563130', 'GSM5563131', 'GSM5563132', 'GSM5563133', 'GSM5563134', 'GSM5563135', 'GSM5563136', 'GSM5563137', 'GSM5563138', 'GSM5563139', 'GSM5563140']\n",
      "nextflow run nf-core/fetchngs -r 1.12.0 -profile docker -resume -c /home/yuan/bio/scrnaseq_reference/data/ids/GSE183590.config\n",
      "GSE148729 ['GSM4477854', 'GSM4477855', 'GSM4477856', 'GSM4477857', 'GSM4477858', 'GSM4477859', 'GSM4477860', 'GSM4477861', 'GSM4477862', 'GSM4477863', 'GSM4477864', 'GSM4477865', 'GSM4477866', 'GSM4477867', 'GSM4477868', 'GSM4477869', 'GSM4477870', 'GSM4477871', 'GSM4477872', 'GSM4477873', 'GSM4477874', 'GSM4477875', 'GSM4477876', 'GSM4477877', 'GSM4477878', 'GSM4477879', 'GSM4477880', 'GSM4477881', 'GSM4477882', 'GSM4477883', 'GSM4477884', 'GSM4477885', 'GSM4477886', 'GSM4477887', 'GSM4477888', 'GSM4477889', 'GSM4477890', 'GSM4477891', 'GSM4477892', 'GSM4477893', 'GSM4477894', 'GSM4477895', 'GSM4477896', 'GSM4477897', 'GSM4477898', 'GSM4477899', 'GSM4477900', 'GSM4477901', 'GSM4477902', 'GSM4477903', 'GSM4477904', 'GSM4477905', 'GSM4477906', 'GSM4477907', 'GSM4477908', 'GSM4477909', 'GSM4477910', 'GSM4477911', 'GSM4477912', 'GSM4477913', 'GSM4477914', 'GSM4477915', 'GSM4477916', 'GSM4477917', 'GSM4477918', 'GSM4477919', 'GSM4477920', 'GSM4477921', 'GSM4477922', 'GSM4477923', 'GSM4477924', 'GSM4477925', 'GSM4477926', 'GSM4477927', 'GSM4477928', 'GSM4477929', 'GSM4477930', 'GSM4477931', 'GSM4477932', 'GSM4477933', 'GSM4477934', 'GSM4477935', 'GSM4477936', 'GSM4477937', 'GSM4477938', 'GSM4477939', 'GSM4477940', 'GSM4477941', 'GSM4477942', 'GSM4477943', 'GSM4477944', 'GSM4477945', 'GSM4477946', 'GSM4477947', 'GSM4477948', 'GSM4477949', 'GSM4477950', 'GSM4477951', 'GSM4477952', 'GSM4477953', 'GSM4477954', 'GSM4477955', 'GSM4477956', 'GSM4477957', 'GSM4477958', 'GSM4477959', 'GSM4477960', 'GSM4477961', 'GSM4477962', 'GSM4477963', 'GSM4477964', 'GSM4477965', 'GSM4477966', 'GSM4477967', 'GSM4477968', 'GSM4477969', 'GSM4477970', 'GSM4477971', 'GSM4477972', 'GSM4477973', 'GSM4477974', 'GSM4477975', 'GSM4477976', 'GSM4477977', 'GSM4477978', 'GSM4477979', 'GSM4477980', 'GSM4477981', 'GSM4477982', 'GSM4477983', 'GSM4477984', 'GSM4477985', 'GSM4477986', 'GSM4477987', 'GSM4477988', 'GSM4477989', 'GSM4477990', 'GSM4477991', 'GSM4477992', 'GSM4477993', 'GSM4477994', 'GSM4477995', 'GSM4477996', 'GSM4477997', 'GSM4477998', 'GSM4477999', 'GSM4681394', 'GSM4681395', 'GSM4681396', 'GSM4681397', 'GSM4681398', 'GSM4681399', 'GSM4681400', 'GSM4681401', 'GSM4681402', 'GSM4681403', 'GSM4681404', 'GSM4681405', 'GSM4681406', 'GSM4681407', 'GSM4681408', 'GSM4681409', 'GSM4681410', 'GSM4681411', 'GSM4681412', 'GSM4681413', 'GSM4681414', 'GSM5022796', 'GSM5022797', 'GSM5022798', 'GSM5022799', 'GSM5022800', 'GSM5022801', 'GSM5022802', 'GSM5022803', 'GSM5022804', 'GSM5022805', 'GSM5022806', 'GSM5022807', 'GSM5022808', 'GSM5022809', 'GSM5022810', 'GSM5022811', 'GSM5022812', 'GSM5022813', 'GSM5022814', 'GSM5022815', 'GSM5022816', 'GSM5022817', 'GSM5022818', 'GSM5022819', 'GSM5022820', 'GSM5022821', 'GSM5022822', 'GSM5022823', 'GSM5022824', 'GSM5022825', 'GSM5022826', 'GSM5022827', 'GSM5022828', 'GSM5022829', 'GSM5022830', 'GSM5022831']\n",
      "nextflow run nf-core/fetchngs -r 1.12.0 -profile docker -resume -c /home/yuan/bio/scrnaseq_reference/data/ids/GSE148729.config\n"
     ]
    }
   ],
   "source": [
    "from create_config import CreateConfig\n",
    "configer = CreateConfig(config_dir)\n",
    "\n",
    "raw_dir = '/home/yuan/data/lung_cancer'\n",
    "# 'GSE286399': failed\n",
    "geo_h1299 = ['GSE286399', 'GSE280041', 'GSE144357', 'GSE121309', 'GSE183590', 'GSE148729']\n",
    "geo_pool += geo_h1299\n",
    "for geo in geo_h1299:\n",
    "    samples = Utils.geo_get(geo_sampleid, geo)\n",
    "    print(geo, samples)\n",
    "    cmd = configer.fetch_geo(geo, samples, raw_dir)\n",
    "    print(cmd)    "
   ]
  },
  {
   "cell_type": "markdown",
   "id": "6f2a1d06-1443-4c4a-b703-418b6cc08825",
   "metadata": {},
   "source": [
    "### analyze Cell Marker 2.0"
   ]
  },
  {
   "cell_type": "code",
   "execution_count": 29,
   "id": "11a0d57d-d61b-4b4a-9e41-095e4edb8205",
   "metadata": {},
   "outputs": [
    {
     "data": {
      "text/html": [
       "<div>\n",
       "<style scoped>\n",
       "    .dataframe tbody tr th:only-of-type {\n",
       "        vertical-align: middle;\n",
       "    }\n",
       "\n",
       "    .dataframe tbody tr th {\n",
       "        vertical-align: top;\n",
       "    }\n",
       "\n",
       "    .dataframe thead th {\n",
       "        text-align: right;\n",
       "    }\n",
       "</style>\n",
       "<table border=\"1\" class=\"dataframe\">\n",
       "  <thead>\n",
       "    <tr style=\"text-align: right;\">\n",
       "      <th></th>\n",
       "      <th>species</th>\n",
       "      <th>tissue_class</th>\n",
       "      <th>tissue_type</th>\n",
       "      <th>uberonongology_id</th>\n",
       "      <th>cancer_type</th>\n",
       "      <th>cell_type</th>\n",
       "      <th>cell_name</th>\n",
       "      <th>cellontology_id</th>\n",
       "      <th>marker</th>\n",
       "      <th>Symbol</th>\n",
       "      <th>GeneID</th>\n",
       "      <th>Genetype</th>\n",
       "      <th>Genename</th>\n",
       "      <th>UNIPROTID</th>\n",
       "      <th>technology_seq</th>\n",
       "      <th>marker_source</th>\n",
       "      <th>PMID</th>\n",
       "      <th>Title</th>\n",
       "      <th>journal</th>\n",
       "      <th>year</th>\n",
       "    </tr>\n",
       "  </thead>\n",
       "  <tbody>\n",
       "    <tr>\n",
       "      <th>0</th>\n",
       "      <td>Human</td>\n",
       "      <td>Abdomen</td>\n",
       "      <td>Abdominal fat pad</td>\n",
       "      <td>NaN</td>\n",
       "      <td>Normal</td>\n",
       "      <td>Normal cell</td>\n",
       "      <td>Brown adipocyte</td>\n",
       "      <td>CL_0000449</td>\n",
       "      <td>FABP4</td>\n",
       "      <td>FABP4</td>\n",
       "      <td>2167.0</td>\n",
       "      <td>protein_coding</td>\n",
       "      <td>fatty acid binding protein 4</td>\n",
       "      <td>E7DVW4</td>\n",
       "      <td>sci-RNA-seq</td>\n",
       "      <td>Experiment</td>\n",
       "      <td>32355218</td>\n",
       "      <td>Single-cell transcriptional networks in differ...</td>\n",
       "      <td>Nature communications</td>\n",
       "      <td>2020</td>\n",
       "    </tr>\n",
       "    <tr>\n",
       "      <th>1</th>\n",
       "      <td>Human</td>\n",
       "      <td>Abdomen</td>\n",
       "      <td>Abdominal fat pad</td>\n",
       "      <td>NaN</td>\n",
       "      <td>Normal</td>\n",
       "      <td>Normal cell</td>\n",
       "      <td>Brown adipocyte</td>\n",
       "      <td>CL_0000449</td>\n",
       "      <td>PDGFRα</td>\n",
       "      <td>NaN</td>\n",
       "      <td>NaN</td>\n",
       "      <td>NaN</td>\n",
       "      <td>NaN</td>\n",
       "      <td>NaN</td>\n",
       "      <td>sci-RNA-seq</td>\n",
       "      <td>Experiment</td>\n",
       "      <td>32355218</td>\n",
       "      <td>Single-cell transcriptional networks in differ...</td>\n",
       "      <td>Nature communications</td>\n",
       "      <td>2020</td>\n",
       "    </tr>\n",
       "    <tr>\n",
       "      <th>2</th>\n",
       "      <td>Human</td>\n",
       "      <td>Abdomen</td>\n",
       "      <td>Abdominal fat pad</td>\n",
       "      <td>NaN</td>\n",
       "      <td>Normal</td>\n",
       "      <td>Normal cell</td>\n",
       "      <td>Brown adipocyte</td>\n",
       "      <td>CL_0000449</td>\n",
       "      <td>UCP1</td>\n",
       "      <td>UCP1</td>\n",
       "      <td>7350.0</td>\n",
       "      <td>protein_coding</td>\n",
       "      <td>uncoupling protein 1</td>\n",
       "      <td>P25874</td>\n",
       "      <td>sci-RNA-seq</td>\n",
       "      <td>Experiment</td>\n",
       "      <td>32355218</td>\n",
       "      <td>Single-cell transcriptional networks in differ...</td>\n",
       "      <td>Nature communications</td>\n",
       "      <td>2020</td>\n",
       "    </tr>\n",
       "    <tr>\n",
       "      <th>3</th>\n",
       "      <td>Mouse</td>\n",
       "      <td>Abdomen</td>\n",
       "      <td>Muscle</td>\n",
       "      <td>UBERON_0001630</td>\n",
       "      <td>Normal</td>\n",
       "      <td>Normal cell</td>\n",
       "      <td>Fibro-adipogenic progenitor cell</td>\n",
       "      <td>NaN</td>\n",
       "      <td>Wisp1</td>\n",
       "      <td>Ccn4</td>\n",
       "      <td>22402.0</td>\n",
       "      <td>protein_coding</td>\n",
       "      <td>cellular communication network factor 4</td>\n",
       "      <td>O54775</td>\n",
       "      <td>10x Chromium</td>\n",
       "      <td>Experiment</td>\n",
       "      <td>35439171</td>\n",
       "      <td>An estrogen-sensitive fibroblast population dr...</td>\n",
       "      <td>JCI insight</td>\n",
       "      <td>2022</td>\n",
       "    </tr>\n",
       "    <tr>\n",
       "      <th>4</th>\n",
       "      <td>Mouse</td>\n",
       "      <td>Abdomen</td>\n",
       "      <td>Muscle</td>\n",
       "      <td>UBERON_0001630</td>\n",
       "      <td>Normal</td>\n",
       "      <td>Normal cell</td>\n",
       "      <td>Myoblast</td>\n",
       "      <td>CL_0000056</td>\n",
       "      <td>Myod1</td>\n",
       "      <td>Myod1</td>\n",
       "      <td>17927.0</td>\n",
       "      <td>protein_coding</td>\n",
       "      <td>myogenic differentiation 1</td>\n",
       "      <td>P10085</td>\n",
       "      <td>10x Chromium</td>\n",
       "      <td>Experiment</td>\n",
       "      <td>35439171</td>\n",
       "      <td>An estrogen-sensitive fibroblast population dr...</td>\n",
       "      <td>JCI insight</td>\n",
       "      <td>2022</td>\n",
       "    </tr>\n",
       "  </tbody>\n",
       "</table>\n",
       "</div>"
      ],
      "text/plain": [
       "  species tissue_class        tissue_type uberonongology_id cancer_type  \\\n",
       "0   Human      Abdomen  Abdominal fat pad               NaN      Normal   \n",
       "1   Human      Abdomen  Abdominal fat pad               NaN      Normal   \n",
       "2   Human      Abdomen  Abdominal fat pad               NaN      Normal   \n",
       "3   Mouse      Abdomen             Muscle    UBERON_0001630      Normal   \n",
       "4   Mouse      Abdomen             Muscle    UBERON_0001630      Normal   \n",
       "\n",
       "     cell_type                         cell_name cellontology_id   marker  \\\n",
       "0  Normal cell                   Brown adipocyte      CL_0000449    FABP4   \n",
       "1  Normal cell                   Brown adipocyte      CL_0000449  PDGFRα    \n",
       "2  Normal cell                   Brown adipocyte      CL_0000449     UCP1   \n",
       "3  Normal cell  Fibro-adipogenic progenitor cell             NaN    Wisp1   \n",
       "4  Normal cell                          Myoblast      CL_0000056    Myod1   \n",
       "\n",
       "  Symbol   GeneID        Genetype                                 Genename  \\\n",
       "0  FABP4   2167.0  protein_coding             fatty acid binding protein 4   \n",
       "1    NaN      NaN             NaN                                      NaN   \n",
       "2   UCP1   7350.0  protein_coding                     uncoupling protein 1   \n",
       "3   Ccn4  22402.0  protein_coding  cellular communication network factor 4   \n",
       "4  Myod1  17927.0  protein_coding               myogenic differentiation 1   \n",
       "\n",
       "  UNIPROTID technology_seq marker_source      PMID  \\\n",
       "0    E7DVW4    sci-RNA-seq    Experiment  32355218   \n",
       "1       NaN    sci-RNA-seq    Experiment  32355218   \n",
       "2    P25874    sci-RNA-seq    Experiment  32355218   \n",
       "3    O54775   10x Chromium    Experiment  35439171   \n",
       "4    P10085   10x Chromium    Experiment  35439171   \n",
       "\n",
       "                                               Title                journal  \\\n",
       "0  Single-cell transcriptional networks in differ...  Nature communications   \n",
       "1  Single-cell transcriptional networks in differ...  Nature communications   \n",
       "2  Single-cell transcriptional networks in differ...  Nature communications   \n",
       "3  An estrogen-sensitive fibroblast population dr...            JCI insight   \n",
       "4  An estrogen-sensitive fibroblast population dr...            JCI insight   \n",
       "\n",
       "   year  \n",
       "0  2020  \n",
       "1  2020  \n",
       "2  2020  \n",
       "3  2022  \n",
       "4  2022  "
      ]
     },
     "execution_count": 29,
     "metadata": {},
     "output_type": "execute_result"
    }
   ],
   "source": [
    "cellmarker = pd.ExcelFile('../results/Cell_marker_Seq.xlsx')\n",
    "cm = cellmarker.parse('seq')\n",
    "cm.head()"
   ]
  },
  {
   "cell_type": "code",
   "execution_count": 5,
   "id": "20f40e02-ed1b-43c7-801a-66961b770fba",
   "metadata": {},
   "outputs": [
    {
     "data": {
      "text/plain": [
       "technology_seq\n",
       "10x Chromium                                                                13402\n",
       "Single-cell sequencing                                                       8886\n",
       "sci-RNA-seq                                                                   972\n",
       "Smart-seq2                                                                    829\n",
       "CyTOF                                                                         541\n",
       "Drop-seq                                                                      503\n",
       "snRNA-seq                                                                     347\n",
       "10x Chromium/Smart-Seq2                                                       314\n",
       "Seq-Well                                                                      145\n",
       "inDrops                                                                       144\n",
       "scATAC-seq                                                                    132\n",
       "CEL-Seq2                                                                       84\n",
       "Smart-seq                                                                      70\n",
       "10x Chromium/Smart-seq                                                         67\n",
       "CITE-seq                                                                       63\n",
       "SORT-seq                                                                       49\n",
       "Droplet                                                                        46\n",
       "Drop-seq/Seq-Well/10x Chromium                                                 40\n",
       "Fluidigm C1                                                                    31\n",
       "snATAC-seq                                                                     26\n",
       "SCRINSHOT                                                                      22\n",
       "Smart-seq2/DNBelab C4                                                          21\n",
       "10x Chromium/scATAC-Seq                                                        19\n",
       "scFTD-seq                                                                      19\n",
       "Smart-seq2/Drop-seq/10x Chromium                                               17\n",
       "10x Chromium/TCR                                                               17\n",
       "sci-ATAC-seq                                                                   17\n",
       "scATAC-seq/10x Chromium                                                        16\n",
       "MARS-seq/Single cell TCR-seq                                                   16\n",
       "CyTOF/scRNA-seq                                                                14\n",
       "MARS-seq                                                                       14\n",
       "Drop-Seq                                                                       13\n",
       "SCAN-seq                                                                       13\n",
       "Single-cell RT-PCR                                                             13\n",
       "Single-cell sequencing/ATAC-seq                                                13\n",
       "Sort-seq                                                                       11\n",
       "10x Chromium/scATAC-seq                                                        11\n",
       "Seq-Scope                                                                      10\n",
       "Fluidigm C1/CEL-seq/CEL-seq2/Smart-seq2                                         9\n",
       "scNT-Seq                                                                        9\n",
       "SnRNA-Seq                                                                       9\n",
       "Slide-seq                                                                       8\n",
       "single-nucleus RNA-seq/spatial transcriptome                                    8\n",
       "10x Chromium/CyTOF                                                              8\n",
       "Sort-seq/CEL-seq2                                                               7\n",
       "SNARE-seq                                                                       7\n",
       "scNMT-seq                                                                       6\n",
       "10x Chromium/10x Visium                                                         6\n",
       "CORTAD-seq                                                                      6\n",
       "STRT-Seq                                                                        5\n",
       "CoBATCH                                                                         4\n",
       "Slide-seqV2                                                                     4\n",
       "10x Chromium/inDrops                                                            4\n",
       "Microwell-seq                                                                   3\n",
       "10x Chromium/scSLAM-seq                                                         3\n",
       "MARS-Seq                                                                        2\n",
       "Smart-seq2/Fluidigm C1/CEL-seq/CEL-seq2/Single-cell sequencing                  1\n",
       "sci-Hi-C/sci-RNA-seq/sci-ATAC-seq                                               1\n",
       "Drop-Seq/Seq-Well,/MARS-seq 2.0/10x Chromium v2/10x Chromium v3/Next GEM        1\n",
       "Name: count, dtype: int64"
      ]
     },
     "execution_count": 5,
     "metadata": {},
     "output_type": "execute_result"
    }
   ],
   "source": [
    "cm['technology_seq'].value_counts()"
   ]
  },
  {
   "cell_type": "code",
   "execution_count": 26,
   "id": "b6427b27-6795-4ce5-ac25-8b8dfd7db25a",
   "metadata": {},
   "outputs": [
    {
     "name": "stdout",
     "output_type": "stream",
     "text": [
      "[30259978 30523199 30554520 30650190 30784054 31221805 31233341 31289132\n",
      " 31299246 31333652 31405848 31834999 31840053 31892341 31996486 32004478\n",
      " 32072637 32109386 32112047 32122885 32203281 32246845 32317009 32317643\n",
      " 32373206 32398875 32405060 32497778 32580738 32603599 32810439 32822576\n",
      " 32832598 32832599 32849643 32882007 32968798 32973742 33057196 33083004\n",
      " 33123174 33144684 33178221 33377642 33382972 33500718 33514641 33571124\n",
      " 33598101 33657410 33705361 33717172 33822772 33879239 33953163 33972311\n",
      " 34017124 34030460 34049947 34247147 34313733 34330889 34475869 34504485\n",
      " 34603282 34624218 34663877 34715018 34764257 34780851 34804043 34876692\n",
      " 34914922 34916290 35078977 35108060 35126365 35184398 35213222 35216676\n",
      " 35354645 35430336]\n"
     ]
    }
   ],
   "source": [
    "lung_cm = cm[(cm['species']=='Human') & cm['tissue_type'].str.contains('Lung')]\n",
    "pmid_list= np.unique(lung_cm['PMID'])\n",
    "print(pmid_list)"
   ]
  },
  {
   "cell_type": "code",
   "execution_count": 7,
   "id": "9b40f6e9-dff9-4c49-a510-0e2c18ab6377",
   "metadata": {},
   "outputs": [
    {
     "name": "stdout",
     "output_type": "stream",
     "text": [
      "[30554520 30784054 31221805 31233341 31299246 31333652 31405848 31834999\n",
      " 31840053 31892341 31996486 32004478 32109386 32112047 32122885 32246845\n",
      " 32317643 32398875 32497778 32603599 32810439 32832598 32832599 32882007\n",
      " 32968798 32973742 33057196 33083004 33178221 33382972 33500718 33657410\n",
      " 33705361 33717172 33822772 33879239 34030460 34049947 34313733 34330889\n",
      " 34504485 34603282 34715018 34876692 34914922 35078977 35213222 35216676\n",
      " 35354645]\n"
     ]
    }
   ],
   "source": [
    "normal_cm = cm[(cm['species']=='Human') & cm['tissue_type'].str.contains('Lung') & cm['cell_type'].str.contains('Normal')]\n",
    "pmid_list= np.unique(normal_cm['PMID'])\n",
    "print(pmid_list)"
   ]
  },
  {
   "cell_type": "markdown",
   "id": "36a2079a-8205-4742-935a-9a9ba3abb828",
   "metadata": {},
   "source": [
    "GSE122960 lung tissue from eight lung transplant donors and eight patients with pulmonary fibrosis\n",
    "GSE128033 normal/healthy donor lung tissue with upper IPF lobe tissue and lower IPF lobe tissue\n",
    "GSE128169 13 explanted lung tissue specimens (56,196 cells) from 4 healthy control and 4 SSc-ILD patients\n",
    "GSE133747  the lungs of 2 mice, 2 rats, 2 pigs, and 14 humans\n",
    "GSE132771 lung fibrosis by treating two Col1a1-GFP reporter mice with bleomycin, and harvested lungs on day 14 after treatment. \n",
    "GSE147066 Single Cell RNAseq of lung mesenchymal cells in fibrotic and control lung\n",
    "GSE145926 bronchoalveolar lavage fluid (BALF) immune cells from patients with varying severity of COVID-19 disease and from healthy subjects\n",
    "GSE135851 four lung explants from LAM patients undergoing lung transplantation.\n",
    "GSE135893 single-cell suspensions generated from non-fibrotic control and pulmonary fibrosis (PF) lungs\n",
    "GSE136831 Whole Lung Dissociates from IPF, COPD and control lungs\n",
    "GSE162936 hESC-derived lung cells\n",
    "GSE158055 various tissue type\n",
    "GSE166033 bronchial epithelial cells\n",
    "GSE166034 senescent alveolar epithelial cells\n",
    "GSE166035 Small airway epithelial cells\n",
    "GSE166036 various samples derived from human lung tissue explants. \n",
    "GSE166037 Primary lung basal epithelial cells (EPCAM+) and fibroblasts (CD90+) \n",
    "GSE164829 \tLung and primary pulmonary endothelial single cell"
   ]
  },
  {
   "cell_type": "code",
   "execution_count": null,
   "id": "4825ce53-cc1b-4532-a2eb-cba0304c2f0b",
   "metadata": {},
   "outputs": [],
   "source": []
  },
  {
   "cell_type": "code",
   "execution_count": 23,
   "id": "511d6f26-f1d3-459f-b729-cd5a7cb79f0b",
   "metadata": {},
   "outputs": [
    {
     "name": "stdout",
     "output_type": "stream",
     "text": [
      "nextflow run nf-core/fetchngs -r 1.12.0 -profile docker -resume -c /home/yuan/bio/scrnaseq_reference/data/ids/GSE121611.config\n",
      "nextflow run nf-core/fetchngs -r 1.12.0 -profile docker -resume -c /home/yuan/bio/scrnaseq_reference/data/ids/GSE137799.config\n",
      "nextflow run nf-core/fetchngs -r 1.12.0 -profile docker -resume -c /home/yuan/bio/scrnaseq_reference/data/ids/GSE137805.config\n",
      "nextflow run nf-core/fetchngs -r 1.12.0 -profile docker -resume -c /home/yuan/bio/scrnaseq_reference/data/ids/GSE137811.config\n",
      "nextflow run nf-core/fetchngs -r 1.12.0 -profile docker -resume -c /home/yuan/bio/scrnaseq_reference/data/ids/GSE124885.config\n",
      "nextflow run nf-core/fetchngs -r 1.12.0 -profile docker -resume -c /home/yuan/bio/scrnaseq_reference/data/ids/GSE217722.config\n",
      "nextflow run nf-core/fetchngs -r 1.12.0 -profile docker -resume -c /home/yuan/bio/scrnaseq_reference/data/ids/GSE166059.config\n",
      "nextflow run nf-core/fetchngs -r 1.12.0 -profile docker -resume -c /home/yuan/bio/scrnaseq_reference/data/ids/GSE168710.config\n",
      "nextflow run nf-core/fetchngs -r 1.12.0 -profile docker -resume -c /home/yuan/bio/scrnaseq_reference/data/ids/GSE156311.config\n",
      "nextflow run nf-core/fetchngs -r 1.12.0 -profile docker -resume -c /home/yuan/bio/scrnaseq_reference/data/ids/GSE168299.config\n",
      "nextflow run nf-core/fetchngs -r 1.12.0 -profile docker -resume -c /home/yuan/bio/scrnaseq_reference/data/ids/normal.config\n"
     ]
    }
   ],
   "source": [
    "#failure: GSE122960, GSE128033\n",
    "geo_normal = ['GSE122960','GSE128033','GSE128169','GSE133747','GSE132771','GSE147066',\n",
    "              'GSE145926','GSE135851', 'GSE135893','GSE136831','GSE162936','GSE158055',\n",
    "              'GSE166033','GSE166034','GSE166035','GSE166036','GSE166037','GSE164829',]\n",
    "for pmid in pmid_list:\n",
    "    geo_pool = Utils.pmid_get(pmid_geo, pmid)\n",
    "    for geo in geo_pool:\n",
    "        samples = Utils.geo_get(geo_sampleid, geo)\n",
    "        # print(pmid, geo, samples)\n",
    "        if (geo not in geo_normal) and (geo not in geo_h1299) and samples:\n",
    "            geo_normal.append(geo)\n",
    "            cmd = configer.fetch_geo(geo, samples, raw_dir)\n",
    "            print(cmd)\n",
    "cmd = configer.fetch_geo('normal', geo_normal, raw_dir)\n",
    "print(cmd)"
   ]
  },
  {
   "cell_type": "code",
   "execution_count": 80,
   "id": "9cd00a87-e7d7-4d2a-abac-516300286a3b",
   "metadata": {},
   "outputs": [],
   "source": []
  },
  {
   "cell_type": "code",
   "execution_count": null,
   "id": "e9bda56c-3495-4c94-868a-db361a26bacc",
   "metadata": {},
   "outputs": [],
   "source": []
  },
  {
   "cell_type": "markdown",
   "id": "2be35334-ad68-44c6-b445-f24b6353cb21",
   "metadata": {},
   "source": [
    "## confirm download after nextflow pulling"
   ]
  },
  {
   "cell_type": "code",
   "execution_count": 61,
   "id": "c40d81e2-2e61-429e-8bf5-a3596a8b98d4",
   "metadata": {},
   "outputs": [
    {
     "name": "stdout",
     "output_type": "stream",
     "text": [
      "SRX9619523_SRR13181477 expected str, bytes or os.PathLike object, not float\n",
      "SRX9619521_SRR13181475 expected str, bytes or os.PathLike object, not float\n",
      "SRX9619518_SRR13181472 expected str, bytes or os.PathLike object, not float\n",
      "SRX9619514_SRR13181468 expected str, bytes or os.PathLike object, not float\n",
      "SRX9619513_SRR13181467 expected str, bytes or os.PathLike object, not float\n",
      "SRX9619519_SRR13181473 expected str, bytes or os.PathLike object, not float\n",
      "SRX9619517_SRR13181471 expected str, bytes or os.PathLike object, not float\n",
      "SRX9619516_SRR13181470 expected str, bytes or os.PathLike object, not float\n",
      "SRX9619522_SRR13181476 expected str, bytes or os.PathLike object, not float\n",
      "SRX9619520_SRR13181474 expected str, bytes or os.PathLike object, not float\n",
      "SRX9619515_SRR13181469 expected str, bytes or os.PathLike object, not float\n",
      "SRX27313889_SRR31958402 expected str, bytes or os.PathLike object, not float\n",
      "SRX27313887_SRR31958404 expected str, bytes or os.PathLike object, not float\n",
      "SRX27313888_SRR31958403 expected str, bytes or os.PathLike object, not float\n",
      "SRX9619539_SRR13181493 expected str, bytes or os.PathLike object, not float\n",
      "SRX9619540_SRR13181494 expected str, bytes or os.PathLike object, not float\n",
      "SRX9619532_SRR13181486 expected str, bytes or os.PathLike object, not float\n",
      "SRX9619530_SRR13181484 expected str, bytes or os.PathLike object, not float\n",
      "SRX9619544_SRR13181498 expected str, bytes or os.PathLike object, not float\n",
      "SRX9619541_SRR13181495 expected str, bytes or os.PathLike object, not float\n",
      "SRX9619542_SRR13181496 expected str, bytes or os.PathLike object, not float\n",
      "SRX9619535_SRR13181489 expected str, bytes or os.PathLike object, not float\n",
      "SRX9619531_SRR13181485 expected str, bytes or os.PathLike object, not float\n",
      "SRX9619537_SRR13181491 expected str, bytes or os.PathLike object, not float\n",
      "SRX9619529_SRR13181483 expected str, bytes or os.PathLike object, not float\n",
      "SRX9619538_SRR13181492 expected str, bytes or os.PathLike object, not float\n",
      "SRX9619534_SRR13181488 expected str, bytes or os.PathLike object, not float\n",
      "SRX9619536_SRR13181490 expected str, bytes or os.PathLike object, not float\n",
      "SRX9619543_SRR13181497 expected str, bytes or os.PathLike object, not float\n",
      "SRX9619533_SRR13181487 expected str, bytes or os.PathLike object, not float\n",
      "SRX6717372_SRR9970044 expected str, bytes or os.PathLike object, not float\n",
      "SRX6717376_SRR9970048 expected str, bytes or os.PathLike object, not float\n",
      "SRX6717374_SRR9970046 expected str, bytes or os.PathLike object, not float\n",
      "SRX6717377_SRR9970049 expected str, bytes or os.PathLike object, not float\n",
      "SRX6717373_SRR9970045 expected str, bytes or os.PathLike object, not float\n",
      "SRX6717375_SRR9970047 expected str, bytes or os.PathLike object, not float\n",
      "SRX6717378_SRR9970050 expected str, bytes or os.PathLike object, not float\n",
      "SRX9619539_SRR13181493 expected str, bytes or os.PathLike object, not float\n",
      "SRX9619540_SRR13181494 expected str, bytes or os.PathLike object, not float\n",
      "SRX9619532_SRR13181486 expected str, bytes or os.PathLike object, not float\n",
      "SRX9619523_SRR13181477 expected str, bytes or os.PathLike object, not float\n",
      "SRX9619530_SRR13181484 expected str, bytes or os.PathLike object, not float\n",
      "SRX9619544_SRR13181498 expected str, bytes or os.PathLike object, not float\n",
      "SRX9619521_SRR13181475 expected str, bytes or os.PathLike object, not float\n",
      "SRX9619541_SRR13181495 expected str, bytes or os.PathLike object, not float\n",
      "SRX9619542_SRR13181496 expected str, bytes or os.PathLike object, not float\n",
      "SRX9619518_SRR13181472 expected str, bytes or os.PathLike object, not float\n",
      "SRX9619535_SRR13181489 expected str, bytes or os.PathLike object, not float\n",
      "SRX9619531_SRR13181485 expected str, bytes or os.PathLike object, not float\n",
      "SRX9619537_SRR13181491 expected str, bytes or os.PathLike object, not float\n",
      "SRX9619514_SRR13181468 expected str, bytes or os.PathLike object, not float\n",
      "SRX9619513_SRR13181467 expected str, bytes or os.PathLike object, not float\n",
      "SRX9619529_SRR13181483 expected str, bytes or os.PathLike object, not float\n",
      "SRX9619519_SRR13181473 expected str, bytes or os.PathLike object, not float\n",
      "SRX9619517_SRR13181471 expected str, bytes or os.PathLike object, not float\n",
      "SRX9619538_SRR13181492 expected str, bytes or os.PathLike object, not float\n",
      "SRX9619534_SRR13181488 expected str, bytes or os.PathLike object, not float\n",
      "SRX9619536_SRR13181490 expected str, bytes or os.PathLike object, not float\n",
      "SRX9619516_SRR13181470 expected str, bytes or os.PathLike object, not float\n",
      "SRX9619522_SRR13181476 expected str, bytes or os.PathLike object, not float\n",
      "SRX9619545_SRR13181499 expected str, bytes or os.PathLike object, not float\n",
      "SRX9619520_SRR13181474 expected str, bytes or os.PathLike object, not float\n",
      "SRX9619543_SRR13181497 expected str, bytes or os.PathLike object, not float\n",
      "SRX9619533_SRR13181487 expected str, bytes or os.PathLike object, not float\n",
      "SRX9619515_SRR13181469 expected str, bytes or os.PathLike object, not float\n"
     ]
    },
    {
     "data": {
      "text/plain": [
       "{'GSE280041': {},\n",
       " 'GSE162499': {},\n",
       " 'GSE155515': {},\n",
       " 'GSE121309': {},\n",
       " 'GSE135893': {},\n",
       " 'GSE145926': {},\n",
       " 'GSE166035': {},\n",
       " 'GSE185045': {},\n",
       " 'GSE183590': {},\n",
       " 'GSE286399': {},\n",
       " 'GSE166034': {},\n",
       " 'GSE148729': {},\n",
       " 'GSE180908': {},\n",
       " 'GSE166037': {},\n",
       " 'GSE162936': {},\n",
       " 'GSE180063': {},\n",
       " 'GSE132771': {},\n",
       " 'GSE136831': {},\n",
       " 'GSE121611': {},\n",
       " 'GSE162498': {},\n",
       " 'GSE137811': {},\n",
       " 'GSE124885': {},\n",
       " 'GSE144357': {},\n",
       " 'GSE166033': {},\n",
       " 'GSE161089': {},\n",
       " 'GSE166059': {},\n",
       " 'GSE168299': {},\n",
       " 'GSE185043': {},\n",
       " 'GSE135851': {},\n",
       " 'GSE137805': {},\n",
       " 'GSE162500': {},\n",
       " 'GSE154826': {},\n",
       " 'GSE112274': {},\n",
       " 'GSE133747': {},\n",
       " 'GSE185044': {},\n",
       " 'GSE190510': {},\n",
       " 'GSE125188': {},\n",
       " 'GSE166036': {},\n",
       " 'GSE164829': {}}"
      ]
     },
     "execution_count": 61,
     "metadata": {},
     "output_type": "execute_result"
    }
   ],
   "source": [
    "# confirm all fastq.gz describef in meta/*fsv are downloaed by nextflow\n",
    "import os\n",
    "import numpy as np\n",
    "import pandas as pd\n",
    "import re\n",
    "\n",
    "def downloaded_fastq(fastq_dir):\n",
    "    if not os.path.isdir(fastq_dir):\n",
    "        os.mkdir(fastq_dir)\n",
    "    res = []\n",
    "    for file_name in os.listdir(fastq_dir):\n",
    "        if file_name.endswith('.fastq.gz'):\n",
    "            res.append(file_name)\n",
    "    return res\n",
    "            \n",
    "\n",
    "def scan_local_download(download_dir):\n",
    "    meta = {}\n",
    "    for geo in os.listdir(download_dir):\n",
    "        if geo.startswith('GSE'):\n",
    "            meta[geo] = {}\n",
    "            fastq_dir = os.path.join(download_dir, geo, 'fastq')\n",
    "            fastq_names = downloaded_fastq(fastq_dir)\n",
    "            indir = os.path.join(download_dir, geo, 'metadata')\n",
    "            if os.path.isdir(indir):\n",
    "                for file_name in os.listdir(indir):\n",
    "                    infile = os.path.join(indir, file_name)\n",
    "                    df = pd.read_csv(infile, sep='\\t')\n",
    "                    sub = df[['id', 'run_accession', 'fastq_ftp']].to_dict(orient='records')\n",
    "                    for item in sub:\n",
    "                        try:\n",
    "                            supposed_name = os.path.basename(item['fastq_ftp'])\n",
    "                            is_existing = filter(lambda x: supposed_name in x,fastq_names)\n",
    "                            if not is_existing:                      \n",
    "                                url = 'ftp://' + os.path.dirname(item['fastq_ftp'])\n",
    "                                cmd = ['wget -c -r -v -np -nd', url, '-P', fastq_dir]\n",
    "                                meta[geo][item[k1]] = ' '.join(cmd)\n",
    "                        except Exception as e:\n",
    "                            print(item['id'], e)\n",
    "    return meta\n",
    "\n",
    "\n",
    "meta = scan_local_download(download_dir)\n",
    "meta"
   ]
  },
  {
   "cell_type": "markdown",
   "id": "9cb9f284-9da7-4571-8a8c-093f76304dcb",
   "metadata": {},
   "source": [
    "## download fastq.gz manually\n",
    " - rgarding of the below SRR, no all data are available in FTP"
   ]
  },
  {
   "cell_type": "code",
   "execution_count": 33,
   "id": "ef4597ab-a96a-4b43-9720-780a8eeabe6f",
   "metadata": {},
   "outputs": [
    {
     "name": "stdout",
     "output_type": "stream",
     "text": [
      "GSE166059 1 ['SRR13615084']\n",
      "GSE145926 7 ['SRR11245351', 'SRR11245352', 'SRR11537946', 'SRR11537947', 'SRR11537948', 'SRR11537949']\n",
      "GSE183590 1 ['SRR15741096']\n",
      "GSE125188 1 ['SRR8448147']\n",
      "GSE135851 8 ['SRR9970044', 'SRR9970045', 'SRR9970046', 'SRR9970047', 'SRR9970048', 'SRR9970049']\n",
      "GSE135893 7 ['SRR9985393', 'SRR9985394', 'SRR9985395', 'SRR9985479', 'SRR9985480', 'SRR9985481']\n",
      "5000, GSE144357 16 ['SRR10974649', 'SRR10974717', 'SRR10974718', 'SRR10974752', 'SRR10976738', 'SRR10976779']\n",
      "GSE162499 2 ['SRR13181475', 'SRR13181478']\n",
      "GSE162498 17 ['SRR13181483', 'SRR13181484', 'SRR13181485', 'SRR13181486', 'SRR13181487', 'SRR13181488']\n",
      "GSE162500 29 ['SRR13181483', 'SRR13181484', 'SRR13181485', 'SRR13181486', 'SRR13181487', 'SRR13181488']\n"
     ]
    }
   ],
   "source": [
    "# step 3: parse path of local fastq.gz with SRR in GEO data\n",
    "# Note: run the process multiple times to make sure all SRRs are accessed\n",
    "# print all samples if not any local *.fastq.gz is parsed\n",
    "from parse_sra import ParseSra\n",
    "from label_data import LabelData\n",
    "\n",
    "fastq_dir = '/home/yuan/rawdata/SRR'\n",
    "for data in Utils.json_iter(labels_dir):\n",
    "    data, unparsing = ParseSra.parse_local_fastq(data, fastq_dir)\n",
    "    if unparsing:\n",
    "        print(data['GEO'], len(unparsing), unparsing[:6])\n",
    "    LabelData('../data').save(data)"
   ]
  },
  {
   "cell_type": "code",
   "execution_count": 1,
   "id": "4eb991e2-ae69-4379-8d42-dc91b993221c",
   "metadata": {},
   "outputs": [
    {
     "name": "stdout",
     "output_type": "stream",
     "text": [
      "29 cd /home/yuan/bio/scrnaseq_reference/data/bash && bash run0.sh\n",
      "29 cd /home/yuan/bio/scrnaseq_reference/data/bash && bash run44.sh\n",
      "29 cd /home/yuan/bio/scrnaseq_reference/data/bash && bash run88.sh\n",
      "29 cd /home/yuan/bio/scrnaseq_reference/data/bash && bash run132.sh\n",
      "29 cd /home/yuan/bio/scrnaseq_reference/data/bash && bash run176.sh\n",
      "29 cd /home/yuan/bio/scrnaseq_reference/data/bash && bash run220.sh\n",
      "29 cd /home/yuan/bio/scrnaseq_reference/data/bash && bash run264.sh\n",
      "29 cd /home/yuan/bio/scrnaseq_reference/data/bash && bash run308.sh\n",
      "29 cd /home/yuan/bio/scrnaseq_reference/data/bash && bash run352.sh\n",
      "29 cd /home/yuan/bio/scrnaseq_reference/data/bash && bash run396.sh\n",
      "29 cd /home/yuan/bio/scrnaseq_reference/data/bash && bash run440.sh\n"
     ]
    }
   ],
   "source": [
    "#Step 4: collect all SRR without local_fastq then execute bash run2.sh one by one\n",
    "# Note: run the previous step again if necessary\n",
    "import os\n",
    "from utils import Utils\n",
    "from slicer import Slicer\n",
    "\n",
    "cmd_pool = []\n",
    "bash_dir = '../data/bash'\n",
    "labels_dir = '../data/labels'\n",
    "fastq_dir = '/home/yuan/rawdata/SRR'\n",
    "for data in Utils.json_iter(labels_dir):\n",
    "    geo = data['GEO']\n",
    "    urls = []\n",
    "    for sample in data['samples'].values():\n",
    "        for srr_acc in sample.get('SRR', {}):\n",
    "            if not sample['SRR'][srr_acc].get('local_fastq'):\n",
    "                keys = Slicer.SRR(srr_acc)\n",
    "                url = 'ftp://ftp.sra.ebi.ac.uk/vol1/fastq/' + '/'.join(keys)\n",
    "                urls.append(url)\n",
    "    if urls:\n",
    "        fastq_dir = os.path.join(fastq_dir, geo, 'fastq')\n",
    "        cmd_pool += [f\"wget -c -r -v -np -nd {url} -P {fastq_dir} || true\\n\" for url in urls]\n",
    "# split into 10 bash scripts\n",
    "chunk_size = int(len(cmd_pool)/10)\n",
    "for i in range(0, len(cmd_pool), chunk_size):\n",
    "    sub = cmd_pool[i:i+chunk_size]\n",
    "    run_cmd = Utils.to_bash(sub, bash_dir, f'run{i}.sh')\n",
    "    print(len(sub), run_cmd)"
   ]
  },
  {
   "cell_type": "code",
   "execution_count": null,
   "id": "33de2d90-ce3d-43d8-8879-03ee5ad32b48",
   "metadata": {},
   "outputs": [],
   "source": []
  },
  {
   "cell_type": "code",
   "execution_count": null,
   "id": "2737f8f0-497c-4eac-a572-ba3615080ad4",
   "metadata": {},
   "outputs": [],
   "source": [
    "\n"
   ]
  },
  {
   "cell_type": "code",
   "execution_count": null,
   "id": "3ea5ee4a-d9c9-47b3-bb5b-205720c7c67b",
   "metadata": {},
   "outputs": [],
   "source": []
  }
 ],
 "metadata": {
  "kernelspec": {
   "display_name": "Python 3 (ipykernel)",
   "language": "python",
   "name": "python3"
  },
  "language_info": {
   "codemirror_mode": {
    "name": "ipython",
    "version": 3
   },
   "file_extension": ".py",
   "mimetype": "text/x-python",
   "name": "python",
   "nbconvert_exporter": "python",
   "pygments_lexer": "ipython3",
   "version": "3.10.16"
  }
 },
 "nbformat": 4,
 "nbformat_minor": 5
}
