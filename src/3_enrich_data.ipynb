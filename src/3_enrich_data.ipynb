{
 "cells": [
  {
   "cell_type": "markdown",
   "id": "76b68221-a772-4590-8454-17c1868c3857",
   "metadata": {},
   "source": [
    "# label data\n",
    "- determine biosamples related to lung and lung cancer\n",
    "- prepare ids.csv for nextflow pipeline downloading FASTQ"
   ]
  },
  {
   "cell_type": "code",
   "execution_count": 1,
   "id": "be972f75-e10f-47e3-96ea-ccdfbe64d688",
   "metadata": {},
   "outputs": [],
   "source": [
    "import json\n",
    "import os\n",
    "import numpy as np\n",
    "import pandas as pd\n",
    "\n",
    "from utils import Utils\n",
    "from label_data import LabelData\n",
    "from parse_soft import ParseSoft\n",
    "from search_soft import SearchSoft\n",
    "from enrich_soft import EnrichSoft\n",
    "from parse_sra import ParseSra\n",
    "from slicer import Slicer\n",
    "\n",
    "%reload_ext autoreload\n",
    "%autoreload 2\n"
   ]
  },
  {
   "cell_type": "markdown",
   "id": "08cc9bfb-f9fc-4e1a-a845-5b01a5c1e4c1",
   "metadata": {},
   "source": [
    "## prepare"
   ]
  },
  {
   "cell_type": "code",
   "execution_count": 2,
   "id": "a841377e-1789-417c-93d8-18ad152580dc",
   "metadata": {},
   "outputs": [],
   "source": [
    "# the direcotry stores soft files\n",
    "data_dir = '/home/yuan/data'\n",
    "\n",
    "# exported labeling data\n",
    "label_dir = '../data/labels'\n",
    "if not os.path.isdir(label_dir):\n",
    "    os.mkdir(label_dir)\n",
    "#\n",
    "fastq_dir = '/home/yuan/rawdata/SRX'"
   ]
  },
  {
   "cell_type": "code",
   "execution_count": 9,
   "id": "00814f51-68c8-4dc7-9c66-b7477471db3e",
   "metadata": {},
   "outputs": [
    {
     "name": "stdout",
     "output_type": "stream",
     "text": [
      "/home/yuan/data/ftp.ncbi.nlm.nih.gov/geo/series/GSE135nnn/GSE135893/soft/GSE135893_family.soft.gz\n"
     ]
    },
    {
     "data": {
      "text/plain": [
       "'/home/yuan/bio/scrnaseq_reference/data/labels/GSE135nnn/GSE135893.json'"
      ]
     },
     "execution_count": 9,
     "metadata": {},
     "output_type": "execute_result"
    }
   ],
   "source": [
    "# test parse, and enrich\n",
    "geo = \"GSE135893\"\n",
    "data_dir = '/home/yuan/data'\n",
    "parser = ParseSoft(data_dir)\n",
    "soft_path = parser.soft_local_path(geo)\n",
    "print(soft_path)\n",
    "softer = SearchSoft(soft_path)\n",
    "data = softer.filter_data(softer.parse_rows)\n",
    "# for item in data['SAMPLE']:\n",
    "#     print(item['SAMPLE'])\n",
    "# print(json.dumps(data['SAMPLE'], indent=4))\n",
    "enriched = EnrichSoft(data)()\n",
    "\n",
    "# save\n",
    "LabelData('../data').save(enriched)"
   ]
  },
  {
   "cell_type": "markdown",
   "id": "ef05731d-6c1a-4a23-94eb-90e2c93d8953",
   "metadata": {},
   "source": [
    "## select GEO\n",
    "keywords: human, lung, scRNA-seq"
   ]
  },
  {
   "cell_type": "code",
   "execution_count": 11,
   "id": "05dc5e9f-dcda-4067-8ab5-e35ce9b992e1",
   "metadata": {},
   "outputs": [],
   "source": [
    "exclude_geo = ['GSE127462']\n",
    "# \n",
    "total_geo = ['GSE286399', 'GSE280041', 'GSE144357', 'GSE121309', 'GSE183590', 'GSE148729']"
   ]
  },
  {
   "cell_type": "code",
   "execution_count": 12,
   "id": "a73f1df0-9d82-4c08-9f3a-4a600dbf9a56",
   "metadata": {},
   "outputs": [
    {
     "name": "stdout",
     "output_type": "stream",
     "text": [
      "82\n",
      "34 GEO datasets are detected.\n"
     ]
    }
   ],
   "source": [
    "# load pairwising data\n",
    "pmid_geo = Utils.from_json('../results/pmid_geo.json')\n",
    "\n",
    "cellmarker = pd.ExcelFile('../results/Cell_marker_Seq.xlsx')\n",
    "cm = cellmarker.parse('seq')\n",
    "\n",
    "# get PMID\n",
    "lung_cm = cm[(cm['species']=='Human') & cm['tissue_type'].str.contains('Lung')]\n",
    "pmid_list= np.unique(lung_cm['PMID'])\n",
    "print(len(pmid_list))\n",
    "\n",
    "n = 0\n",
    "for pmid in pmid_list:\n",
    "    pmid_keys = Slicer.PMID(pmid)\n",
    "    geo_pool = Utils.key_get(pmid_geo, pmid_keys)\n",
    "    for geo in geo_pool:\n",
    "        if geo not in total_geo + exclude_geo:\n",
    "            total_geo.append(geo)\n",
    "        n += 1\n",
    "print(f\"{n} GEO datasets are detected.\")"
   ]
  },
  {
   "cell_type": "code",
   "execution_count": 13,
   "id": "409fd38c-8663-4cb5-8445-850d580876d2",
   "metadata": {},
   "outputs": [
    {
     "name": "stdout",
     "output_type": "stream",
     "text": [
      "110\n",
      "53 GEO datasets are detected.\n"
     ]
    }
   ],
   "source": [
    "# include all PMID human related\n",
    "human_cm = cm[cm['species']=='Human']\n",
    "is_lung = human_cm.apply(lambda x: x.str.lower().str.contains('lung').any(), axis=1)\n",
    "human_cm = human_cm[is_lung]\n",
    "human_pmid_list= np.unique(human_cm['PMID'])\n",
    "print(len(human_pmid_list))\n",
    "\n",
    "n = 0\n",
    "for pmid in human_pmid_list:\n",
    "    pmid_keys = Slicer.PMID(pmid)\n",
    "    geo_pool = Utils.key_get(pmid_geo, pmid_keys)\n",
    "    for geo in geo_pool:\n",
    "        if geo not in total_geo + exclude_geo:\n",
    "            total_geo.append(geo)\n",
    "        n += 1\n",
    "print(f\"{n} GEO datasets are detected.\")"
   ]
  },
  {
   "cell_type": "code",
   "execution_count": 15,
   "id": "f7b0aa1b-5858-4923-a205-8f75d742c680",
   "metadata": {},
   "outputs": [
    {
     "name": "stdout",
     "output_type": "stream",
     "text": [
      "GSE286399, GSE286399, GSE280041, GSE280041, GSE144357, GSE144357, GSE121309, GSE121309, GSE183590, GSE183590, GSE148729, GSE148729, GSE112274, GSE112274, GSE121611, GSE122960, GSE122960, GSE128033, GSE128033, GSE128169, GSE128169, GSE133747, GSE133747, GSE137811, GSE137811, GSE137805, GSE137805, GSE137799, GSE137799, GSE124885, GSE124885, GSE132771, GSE132771, GSE147066, GSE147066, GSE145926, GSE145926, GSE140819, GSE140819, GSE135851, GSE135851, GSE135893, GSE135893, GSE136831, GSE136831, GSE217722, GSE217722, GSE162936, GSE162936, GSE162499, GSE162499, GSE162500, GSE162500, GSE162498, GSE162498, GSE158055, GSE158055, GSE166059, GSE166059, GSE166034, GSE166034, GSE166036, GSE166036, GSE166033, GSE166033, GSE166035, GSE166035, GSE166037, GSE166037, GSE168710, GSE168710, GSE148071, GSE148071, GSE164829, GSE164829, GSE156311, GSE168299, GSE127472, GSE127472, GSE127813, GSE127813, GSE127471, GSE127471, GSE130148, GSE130148, GSE125188, GSE125188, GSE158127, GSE158127, GSE161089, GSE161089, GSE155249, GSE155249, GSE155515, GSE155515, GSE180864, GSE185044, GSE185043, GSE185045, GSE154826, GSE154826, GSE190510, GSE190510, GSE196303, GSE196303, GSE180908, GSE180908, GSE180063, GSE180063, \n",
      "51 GEO data are created. 7 are skipped\n"
     ]
    }
   ],
   "source": [
    "# finally create GEO meta data\n",
    "m = n = 0\n",
    "for geo in total_geo:\n",
    "    print(geo, end=', ')\n",
    "    soft_path = ParseSoft(data_dir).soft_local_path(geo)\n",
    "    softer = SearchSoft(soft_path)\n",
    "    data = softer.filter_data(softer.parse_rows)\n",
    "    enriched = EnrichSoft(data)()\n",
    "    if '9606' in enriched['taxid']:\n",
    "        LabelData('../data').save(enriched)\n",
    "        print(geo, end=', ')\n",
    "        n += 1\n",
    "    else:\n",
    "        m += 1\n",
    "print(f'\\n{n} GEO data are created. {m} are skipped')"
   ]
  },
  {
   "cell_type": "code",
   "execution_count": 7,
   "id": "e70e9abc-99b7-4fb4-9c0e-2ba040f6e9d7",
   "metadata": {},
   "outputs": [],
   "source": []
  },
  {
   "cell_type": "code",
   "execution_count": null,
   "id": "4849cbd7-43a8-43c2-84b3-caba0f416981",
   "metadata": {},
   "outputs": [],
   "source": []
  },
  {
   "cell_type": "code",
   "execution_count": null,
   "id": "83c5d683-b3dd-4f4e-8d9e-00737576288a",
   "metadata": {},
   "outputs": [],
   "source": []
  },
  {
   "cell_type": "code",
   "execution_count": null,
   "id": "23691f2d-9562-4e8f-9207-4956f42e04e4",
   "metadata": {},
   "outputs": [],
   "source": []
  },
  {
   "cell_type": "markdown",
   "id": "ce726170-59c6-4af2-baab-d6a945d05472",
   "metadata": {},
   "source": [
    "## parse SRR given BioSample and SRX\n",
    "- parse SRR accession give biosample or SRX accesssion from local file\n",
    "- parse URLS of *.fastq.gz given a SRR accession from FTP (deprecated)\n",
    "- parse URLS of *.fastq.gz given a SRR accession from local json"
   ]
  },
  {
   "cell_type": "code",
   "execution_count": 49,
   "id": "041a5950-6798-4408-afd1-838d8fc80a94",
   "metadata": {},
   "outputs": [
    {
     "name": "stdout",
     "output_type": "stream",
     "text": [
      "The autoreload extension is already loaded. To reload it, use:\n",
      "  %reload_ext autoreload\n"
     ]
    }
   ],
   "source": [
    "\n",
    "%load_ext autoreload"
   ]
  },
  {
   "cell_type": "code",
   "execution_count": 16,
   "id": "4847497a-3d54-484a-98f5-2fd782ab17ba",
   "metadata": {},
   "outputs": [],
   "source": [
    "# step 1: Given BioSample, parse SRR accessions if they exist\n",
    "from parse_sra import ParseSra\n",
    "from utils import Utils\n",
    "from label_data import LabelData\n",
    "\n",
    "# data are determined previously\n",
    "samn_srr = Utils.from_json('../results/samn_srr.json')\n",
    "\n",
    "label_dir = '../data/labels'\n",
    "for data in Utils.json_iter(label_dir):\n",
    "    data = ParseSra.parse_srr(data, samn_srr)\n",
    "    LabelData('../data').save(data)"
   ]
  },
  {
   "cell_type": "code",
   "execution_count": 37,
   "id": "5757d760-d1a3-4ae2-a804-36ab0e6298f1",
   "metadata": {},
   "outputs": [
    {
     "name": "stdout",
     "output_type": "stream",
     "text": [
      "number of GEO datasets =  51\n",
      "GSE135893,GSE130148,GSE286399,GSE148071,GSE148729,GSE127813,GSE127472,GSE127471,GSE122960,GSE190510,GSE121309,GSE196303,GSE132771,GSE180063,GSE180908,GSE144357,GSE155249,GSE155515,GSE147066,GSE161089,GSE137799,GSE137811,GSE137805,GSE164829,GSE158055,GSE158127,GSE124885,GSE136831,GSE162499,GSE162936,GSE162498,GSE162500,Among 8212 SRR accessions, 0 are newly added. The URLs of 66 are unknown\n"
     ]
    }
   ],
   "source": [
    "# step 2: retrieve URLs of SRR*.gz from 'ftp.sra.ebi.ac.uk'\n",
    "# only retrieve current GEO datasets\n",
    "import os\n",
    "import time\n",
    "from utils import Utils\n",
    "from retrieve_url import RetrieveUrl\n",
    "from slicer import Slicer\n",
    "\n",
    "def get_srr(label_dir):\n",
    "    for data in Utils.json_iter(label_dir):\n",
    "        geo = data['GEO']\n",
    "        print(geo, end=',')\n",
    "        samples = data.get('samples', {})\n",
    "        for sample_id in samples:\n",
    "            SRR = samples[sample_id].get('SRR', {})\n",
    "            yield geo, set(SRR)\n",
    "\n",
    "def retrieve_fastq_urls(srr_iter, outdir):\n",
    "    file_name = 'srr_fastq_urls_simple.json'\n",
    "    urls_json = os.path.join(outdir, file_name)\n",
    "    urls = Utils.from_json(urls_json)\n",
    "    print('number of GEO datasets = ', len(urls))\n",
    "    n = m = p = 0\n",
    "    for geo, srr_pool in srr_iter:\n",
    "        n += len(srr_pool)\n",
    "        if geo not in urls:\n",
    "            urls[geo] = {}\n",
    "        pool = srr_pool.difference(set(urls[geo]))\n",
    "        for srr_acc in pool:\n",
    "            gz = RetrieveUrl.ftp_sra_ebi(srr_acc)\n",
    "            if gz:\n",
    "                urls[geo][srr_acc] = gz\n",
    "                m += 1\n",
    "            else:\n",
    "                p += 1\n",
    "            if m > 0 and m % 20 == 0:\n",
    "                Utils.to_json(urls, outdir, file_name)\n",
    "                time.sleep(2)\n",
    "                print(f\"{n}:{m},{p}\", end='\\t')\n",
    "    if m > 0:\n",
    "        Utils.to_json(urls, outdir, file_name)\n",
    "    print(f\"Among {n} SRR accessions, {m} are newly added. The URLs of {p} are unknown\")\n",
    "    return None\n",
    "# \n",
    "outdir = '../results'\n",
    "label_dir = '../data/labels'\n",
    "srr_iter = get_srr(label_dir)\n",
    "retrieve_fastq_urls(srr_iter, outdir)"
   ]
  },
  {
   "cell_type": "code",
   "execution_count": 20,
   "id": "52e28708-a8ea-4fd6-b7ff-d8ee1ee15610",
   "metadata": {},
   "outputs": [
    {
     "name": "stdout",
     "output_type": "stream",
     "text": [
      "No.  GEO            SRR         available   unknown   updated   \n",
      "1    GSE133747      20          8           0         0         \n",
      "1    GSE128033      18          0           0         0         \n",
      "1    GSE128169      16          0           0         0         \n",
      "1    GSE154826      166         250         0         0         \n",
      "1    GSE112274      1090        2725        0         0         \n",
      "1    GSE280041      104         156         0         0         \n",
      "1    GSE168710      4           0           0         0         \n",
      "1    GSE140819      40          0           0         0         \n",
      "1    GSE166059      90          96          0         0         \n",
      "1    GSE166034      14          14          0         0         \n",
      "1    GSE166033      10          10          0         0         \n",
      "1    GSE166037      2           8           0         0         \n",
      "1    GSE166035      15          15          0         0         \n",
      "1    GSE166036      49          49          0         0         \n",
      "1    GSE145926      21          21          0         0         \n",
      "1    GSE183590      1456        1456        0         0         \n",
      "1    GSE125188      9           9           0         0         \n",
      "1    GSE217722      7           0           0         0         \n",
      "1    GSE135851      8           0           8         0         \n",
      "1    GSE135893      34          243         0         0         \n",
      "1    GSE130148      4           0           0         0         \n",
      "1    GSE286399      4           4           0         0         \n",
      "1    GSE148071      42          0           0         0         \n",
      "1    GSE148729      203         175         0         0         \n",
      "1    GSE127813      12          0           0         0         \n",
      "1    GSE127472      315         0           0         0         \n",
      "1    GSE127471      1           0           0         0         \n",
      "1    GSE122960      17          0           0         0         \n",
      "1    GSE190510      8           32          0         0         \n",
      "1    GSE121309      4           16          0         0         \n",
      "1    GSE196303      13          0           0         0         \n",
      "1    GSE132771      24          72          0         0         \n",
      "1    GSE180063      12          48          0         0         \n",
      "1    GSE180908      20          20          0         0         \n",
      "1    GSE144357      20          2530        0         0         \n",
      "1    GSE155249      19          0           0         0         \n",
      "1    GSE155515      6           30          0         0         \n",
      "1    GSE147066      58          0           0         0         \n",
      "1    GSE161089      4           4           0         0         \n",
      "1    GSE137799      1           4           0         0         \n",
      "1    GSE137811      14          14          0         0         \n",
      "1    GSE137805      4           16          0         0         \n",
      "1    GSE164829      7           6           0         0         \n",
      "1    GSE158055      284         0           0         0         \n",
      "1    GSE158127      22          0           0         0         \n",
      "1    GSE124885      4           4           0         0         \n",
      "1    GSE136831      78          107         0         0         \n",
      "1    GSE162499      12          0           12        0         \n",
      "1    GSE162936      2           4           0         0         \n",
      "1    GSE162498      17          0           17        0         \n",
      "1    GSE162500      29          0           29        0         \n"
     ]
    }
   ],
   "source": [
    "# step 3: merge srr_urls into data\n",
    "# sample.<sample_id>.SRR.<SRR accession>.\"ftp.sra.ebi.ac.uk\"\n",
    "outdir = '../results'\n",
    "file_name = 'srr_fastq_urls_simple.json'\n",
    "urls_json = os.path.join(outdir, file_name)\n",
    "urls = Utils.from_json(urls_json)\n",
    "\n",
    "n = 1\n",
    "headers = ['No.', 'GEO', 'SRR', 'available', 'unknown', 'updated']\n",
    "width = [5, 15, 12,12, 10, 10]\n",
    "headers = [h.ljust(w) for h,w in zip(headers, width)]\n",
    "print(''.join(headers))\n",
    "key = 'ftp.sra.ebi.ac.uk'\n",
    "for data in Utils.json_iter(label_dir):\n",
    "    srr = updated = available = unknown = 0\n",
    "    geo = data['GEO']\n",
    "    samples = data.get('samples', {})\n",
    "    for sample in samples.values():\n",
    "        srr += 1\n",
    "        for srr_acc in sample.get('SRR', {}):\n",
    "            if key not in sample['SRR'][srr_acc]:\n",
    "                if srr_acc in urls[geo]:\n",
    "                    sample['SRR'][srr_acc][key] = urls[geo][srr_acc]\n",
    "                    updated += 1\n",
    "            if key in sample['SRR'][srr_acc]:\n",
    "                available += 1\n",
    "            else:\n",
    "                unknown += 1\n",
    "    if updated > 0:\n",
    "        LabelData('../data').save(data)\n",
    "    info = [n, geo, srr, available, unknown, updated,]\n",
    "    info = [str(h).ljust(w) for h,w in zip(info, width)]\n",
    "    print(''.join(info))"
   ]
  },
  {
   "cell_type": "code",
   "execution_count": 66,
   "id": "9c060519-5607-4817-a2e6-295ad7ac6234",
   "metadata": {},
   "outputs": [
    {
     "name": "stdout",
     "output_type": "stream",
     "text": [
      "992\n"
     ]
    }
   ],
   "source": [
    "# Note: old step2 deprecated\n",
    "# step 2_old: data are determined previously. scan entire FTP\n",
    "# retrieve URLs as much as possible. time-consuming\n",
    "from utils import Utils\n",
    "srr_fastq = Utils.from_json('../results/srr_fastq_urls_1.json')\n",
    "srr_fastq = srr_fastq['vol1']['fastq']\n",
    "print(len(srr_fastq))"
   ]
  },
  {
   "cell_type": "code",
   "execution_count": null,
   "id": "54077e10-00f7-4e6d-9411-fff12aad179a",
   "metadata": {},
   "outputs": [],
   "source": [
    "# Note: old step2 deprecated\n",
    "# step 3_old: retrieve FTP URLs of *gz files given their SRR accessions\n",
    "# Note: run the process multiple times to make sure all SRRs are accessed\n",
    "import time\n",
    "from parse_sra import ParseSra\n",
    "from utils import Utils\n",
    "from label_data import LabelData\n",
    "\n",
    "n = 0\n",
    "headers = ['No.', 'GEO', 'SRR', 'ready', 'unknown', 'local', 'FTP', 'unavailable']\n",
    "width = [5, 15, 12,12, 10, 10, 10, 10]\n",
    "headers = [h.ljust(w) for h,w in zip(headers, width)]\n",
    "print(''.join(headers))\n",
    "for data in Utils.json_iter(label_dir):\n",
    "    unavailable = 1\n",
    "    while unavailable:\n",
    "        if unavailable > 1:\n",
    "            print(f'{unavailable}...')\n",
    "            time.sleep(2)            \n",
    "        data, info, unavailable = ParseSra.parse_ftp_fastq(data, srr_fastq)\n",
    "        LabelData(label_dir).save(data)\n",
    "    n += 1\n",
    "    info = [str(n),] + info\n",
    "    info = [h.ljust(w) for h,w in zip(info, width)]\n",
    "    print(''.join(info))"
   ]
  },
  {
   "cell_type": "code",
   "execution_count": null,
   "id": "b561e077-fd38-41b5-9cca-86753d5a778a",
   "metadata": {},
   "outputs": [],
   "source": []
  },
  {
   "cell_type": "code",
   "execution_count": 2,
   "id": "0bdff262-6902-4d2f-9c99-2eae9aaf7c44",
   "metadata": {},
   "outputs": [
    {
     "name": "stdout",
     "output_type": "stream",
     "text": [
      "GSE166059 1 ['SRR13615084']\n",
      "GSE135851 8 ['SRR9970044', 'SRR9970045', 'SRR9970046', 'SRR9970047', 'SRR9970048', 'SRR9970049']\n",
      "5000, GSE144357 16 ['SRR10974649', 'SRR10974717', 'SRR10974718', 'SRR10974752', 'SRR10976738', 'SRR10976779']\n",
      "GSE162499 2 ['SRR13181475', 'SRR13181478']\n",
      "GSE162498 17 ['SRR13181483', 'SRR13181484', 'SRR13181485', 'SRR13181486', 'SRR13181487', 'SRR13181488']\n",
      "GSE162500 29 ['SRR13181483', 'SRR13181484', 'SRR13181485', 'SRR13181486', 'SRR13181487', 'SRR13181488']\n"
     ]
    }
   ],
   "source": [
    "# step 4: parse path of local fastq.gz with SRR in GEO data\n",
    "# Note: run the process multiple times to make sure all SRRs are accessed\n",
    "# print all samples if not any local *.fastq.gz is parsed\n",
    "from utils import Utils\n",
    "from parse_sra import ParseSra\n",
    "from label_data import LabelData\n",
    "\n",
    "fastq_dir = '/home/yuan/rawdata/SRR'\n",
    "for data in Utils.json_iter('../data/labels'):\n",
    "    data, unparsing = ParseSra.parse_local_fastq(data, fastq_dir)\n",
    "    if unparsing:\n",
    "        print(data['GEO'], len(unparsing), unparsing[:6])\n",
    "    LabelData('../data').save(data)"
   ]
  },
  {
   "cell_type": "code",
   "execution_count": null,
   "id": "17a36946-fbce-4b04-9805-c1fbe68e8bd8",
   "metadata": {},
   "outputs": [],
   "source": []
  },
  {
   "cell_type": "code",
   "execution_count": null,
   "id": "467b855e-f55a-4a0e-b42c-870a51135d6e",
   "metadata": {},
   "outputs": [],
   "source": []
  },
  {
   "cell_type": "code",
   "execution_count": null,
   "id": "6223b93f-f149-47e6-8217-1eaa60b1d25c",
   "metadata": {},
   "outputs": [],
   "source": []
  },
  {
   "cell_type": "code",
   "execution_count": null,
   "id": "59a73af6-f733-42fb-9a8b-7ad1b6328733",
   "metadata": {},
   "outputs": [],
   "source": []
  },
  {
   "cell_type": "code",
   "execution_count": null,
   "id": "539e8b63-d319-4558-8cd7-72b24df5cc9d",
   "metadata": {},
   "outputs": [],
   "source": []
  },
  {
   "cell_type": "code",
   "execution_count": null,
   "id": "a8df38b7-fa30-4912-bf74-7ec270009029",
   "metadata": {},
   "outputs": [],
   "source": []
  },
  {
   "cell_type": "markdown",
   "id": "f32de545-ff5a-4eeb-bc76-c7f04d8876f4",
   "metadata": {},
   "source": [
    "## select biosamples and "
   ]
  },
  {
   "cell_type": "code",
   "execution_count": null,
   "id": "e4a53b5a-9ff0-4a68-ae31-bac738f189a2",
   "metadata": {},
   "outputs": [],
   "source": []
  },
  {
   "cell_type": "code",
   "execution_count": null,
   "id": "c1b1f07b-5fb5-4994-bc3c-6bb469d60ea3",
   "metadata": {},
   "outputs": [],
   "source": []
  },
  {
   "cell_type": "code",
   "execution_count": 65,
   "id": "d391c1c5-0eba-48a5-a308-c1169920320a",
   "metadata": {},
   "outputs": [
    {
     "name": "stdout",
     "output_type": "stream",
     "text": [
      "52 400\n"
     ]
    }
   ],
   "source": [
    "# prepare SRR id list for download\n",
    "num_geo = num_sample = 0\n",
    "cl = LabelData(label_dir)\n",
    "with open('../results/srr_ids.txt', 'w') as f:\n",
    "    for data in cl.json_iter():\n",
    "        if data['taxid'] == '9606':\n",
    "            num_geo += 1\n",
    "            for sample_id, sample in data['samples'].items():\n",
    "                if sample.get('scrnaseq') and sample['SRR']:\n",
    "                    #print(data['GEO'], sample_id)\n",
    "                    num_sample += 1\n",
    "                    for srr_acc, local_path in sample['SRR'].items():\n",
    "                        if not local_path:\n",
    "                            # print(f\"fastq-dump {srr_acc} -O /home/yuan/results/fastq --gzip\")\n",
    "                            f.write(srr_acc + '\\n')\n",
    "print(num_geo, num_sample)"
   ]
  },
  {
   "cell_type": "code",
   "execution_count": null,
   "id": "e58a4f0f-1693-499a-bdd0-a9d03c376a64",
   "metadata": {},
   "outputs": [],
   "source": []
  },
  {
   "cell_type": "markdown",
   "id": "713c5641-3f6c-4794-832c-651a16f8b9f4",
   "metadata": {},
   "source": []
  },
  {
   "cell_type": "markdown",
   "id": "c3f40bbd-dacb-402b-9deb-4b275ed261a6",
   "metadata": {},
   "source": []
  },
  {
   "cell_type": "code",
   "execution_count": 87,
   "id": "ab8f048e-4137-4caa-82d2-b343a44d7de3",
   "metadata": {},
   "outputs": [
    {
     "name": "stdout",
     "output_type": "stream",
     "text": [
      "H1299 40\n",
      "Calu3 90\n",
      "A549 1\n"
     ]
    },
    {
     "data": {
      "text/html": [
       "<div>\n",
       "<style scoped>\n",
       "    .dataframe tbody tr th:only-of-type {\n",
       "        vertical-align: middle;\n",
       "    }\n",
       "\n",
       "    .dataframe tbody tr th {\n",
       "        vertical-align: top;\n",
       "    }\n",
       "\n",
       "    .dataframe thead th {\n",
       "        text-align: right;\n",
       "    }\n",
       "</style>\n",
       "<table border=\"1\" class=\"dataframe\">\n",
       "  <thead>\n",
       "    <tr style=\"text-align: right;\">\n",
       "      <th></th>\n",
       "      <th>sample</th>\n",
       "      <th>fastq_1</th>\n",
       "      <th>fastq_2</th>\n",
       "    </tr>\n",
       "  </thead>\n",
       "  <tbody>\n",
       "    <tr>\n",
       "      <th>0</th>\n",
       "      <td>H1299_SRR11549938</td>\n",
       "      <td>/home/yuan/data/SRA/SRR115/038/SRR11549938.fas...</td>\n",
       "      <td>None</td>\n",
       "    </tr>\n",
       "    <tr>\n",
       "      <th>1</th>\n",
       "      <td>H1299_SRR11549939</td>\n",
       "      <td>/home/yuan/data/SRA/SRR115/039/SRR11549939.fas...</td>\n",
       "      <td>None</td>\n",
       "    </tr>\n",
       "    <tr>\n",
       "      <th>2</th>\n",
       "      <td>H1299_SRR11549940</td>\n",
       "      <td>/home/yuan/data/SRA/SRR115/040/SRR11549940.fas...</td>\n",
       "      <td>None</td>\n",
       "    </tr>\n",
       "    <tr>\n",
       "      <th>3</th>\n",
       "      <td>H1299_SRR11549941</td>\n",
       "      <td>/home/yuan/data/SRA/SRR115/041/SRR11549941.fas...</td>\n",
       "      <td>None</td>\n",
       "    </tr>\n",
       "    <tr>\n",
       "      <th>4</th>\n",
       "      <td>H1299_SRR11549942</td>\n",
       "      <td>/home/yuan/data/SRA/SRR115/042/SRR11549942.fas...</td>\n",
       "      <td>None</td>\n",
       "    </tr>\n",
       "  </tbody>\n",
       "</table>\n",
       "</div>"
      ],
      "text/plain": [
       "              sample                                            fastq_1  \\\n",
       "0  H1299_SRR11549938  /home/yuan/data/SRA/SRR115/038/SRR11549938.fas...   \n",
       "1  H1299_SRR11549939  /home/yuan/data/SRA/SRR115/039/SRR11549939.fas...   \n",
       "2  H1299_SRR11549940  /home/yuan/data/SRA/SRR115/040/SRR11549940.fas...   \n",
       "3  H1299_SRR11549941  /home/yuan/data/SRA/SRR115/041/SRR11549941.fas...   \n",
       "4  H1299_SRR11549942  /home/yuan/data/SRA/SRR115/042/SRR11549942.fas...   \n",
       "\n",
       "  fastq_2  \n",
       "0    None  \n",
       "1    None  \n",
       "2    None  \n",
       "3    None  \n",
       "4    None  "
      ]
     },
     "execution_count": 87,
     "metadata": {},
     "output_type": "execute_result"
    }
   ],
   "source": [
    "def lung_cancer_cell_line(df):\n",
    "    res = []\n",
    "    for name in ['H1299', 'Calu3', 'A549']:\n",
    "        df1 = df[df['cell_line']==name]\n",
    "        print(name, len(df1))\n",
    "        for sample_id in list(df1.index):\n",
    "            for srr_acc, fq in sample_srr[sample_id].items():\n",
    "                if fq:\n",
    "                    label, fq1, fq2 = f\"{name}_{srr_acc}\", fq.get('R1'), fq.get('R2')\n",
    "                    res.append((label, fq1, fq2))\n",
    "    res = pd.DataFrame(res, columns=['sample', 'fastq_1', 'fastq_2'])\n",
    "    return res\n",
    "df1 = lung_cancer_cell_line(df)\n",
    "df1.to_csv('../data/samplesheet_cellline_lungcancer.csv', index=False)\n",
    "df1.head()"
   ]
  },
  {
   "cell_type": "markdown",
   "id": "190b0e98-79b1-4795-936d-5db52a7dc890",
   "metadata": {},
   "source": [
    "### lung cell line\n",
    "\n",
    " "
   ]
  },
  {
   "cell_type": "markdown",
   "id": "3de17d50-22c9-4349-be8c-67a414ad4902",
   "metadata": {},
   "source": [
    "### colon cancer, key=cell_line\n",
    "- HCT 116 is an adherent cell line isolated from the colon of a patient with colon cancer. It has a mutation in codon 13 of the ras-proto-oncogene. This cell line is near-diploid and has a relatively stable genetic profile, making it a valuable in vitro model. This line can be utilized in cancer research and gastrointestinal (GI) research.\n",
    "- Caco-2 [Caco2] is an adherent cell line isolated from colon tissue derived from a patient with colorectal adenocarcinoma. "
   ]
  },
  {
   "cell_type": "markdown",
   "id": "fac56aaa-ee55-4738-b063-e2a059be3209",
   "metadata": {},
   "source": [
    "### normal cell line\n",
    "- cell_type = \"airway basal stem cells\"\n",
    "- cell_type = \"CD45+\", group=\"healthy control\""
   ]
  },
  {
   "attachments": {},
   "cell_type": "markdown",
   "id": "65d548e8-c09b-4c69-963a-cc417d829e4f",
   "metadata": {},
   "source": []
  }
 ],
 "metadata": {
  "kernelspec": {
   "display_name": "Python 3 (ipykernel)",
   "language": "python",
   "name": "python3"
  },
  "language_info": {
   "codemirror_mode": {
    "name": "ipython",
    "version": 3
   },
   "file_extension": ".py",
   "mimetype": "text/x-python",
   "name": "python",
   "nbconvert_exporter": "python",
   "pygments_lexer": "ipython3",
   "version": "3.11.0"
  }
 },
 "nbformat": 4,
 "nbformat_minor": 5
}
