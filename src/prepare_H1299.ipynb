{
 "cells": [
  {
   "cell_type": "markdown",
   "id": "ad4bf454-2d01-42b2-a919-2b4d230e2b6f",
   "metadata": {},
   "source": [
    "# prepare dataset\n",
    "lung cancer, cell line H1299\n",
    "https://www.cytion.com/NCI-H1299-Cells/300485"
   ]
  },
  {
   "cell_type": "code",
   "execution_count": null,
   "id": "13bd57ec-4213-418c-80c7-971ad0c8ad9b",
   "metadata": {},
   "outputs": [],
   "source": [
    "import os\n",
    "import json\n",
    "import Bio\n",
    "import numpy as np\n",
    "import pandas as pd\n",
    "import matplotlib.pyplot as plt\n",
    "\n",
    "import torch\n",
    "torch.manual_seed(1)\n",
    "\n",
    "%load_ext autoreload\n",
    "%autoreload 2"
   ]
  },
  {
   "cell_type": "markdown",
   "id": "efe1fa41-63b6-4772-a786-257525e850a3",
   "metadata": {},
   "source": [
    "## raw data"
   ]
  },
  {
   "cell_type": "markdown",
   "id": "274df579-d6a2-49ee-ab57-9948139b268e",
   "metadata": {},
   "source": [
    "Prepare GEO accesions, and put them into the file data/GEO_H1299.csv. Those datasets are from scRNA-seq, \n",
    "- Non-small cell lung cancer (NSCLC) cell line: H1299\n",
    "GSE286399: SRR31958404 SRR31958403\t\n",
    "GSE280041: SRR31072090\tSRR31072089\tSRR31072128\tSRR31072129 SRR31072127 SRR31072132\t\n",
    "GSE144357: GSM4286770\n",
    "GSE121309: SRR8064284 SRR8064285 SRR8064286 SRR8064287\n",
    "GSE183590 : GSM5562430-GSM5562449\n",
    "GSE148729: GSM4477968-GSM4477983\t\n",
    "\n",
    "- control:\n"
   ]
  },
  {
   "cell_type": "markdown",
   "id": "a9cea948-be30-46da-8ee3-3789abb8253a",
   "metadata": {},
   "source": [
    "download raw data from GEO\n",
    "```\n",
    "cd ~/bio/nextflow\n",
    "nextflow run nf-core/fetchngs -r 1.12.0 -profile docker --input ~/bio/scrnaseq_reference/data/GEO_H1299.csv --outdir ~/data/test\n",
    "```"
   ]
  },
  {
   "cell_type": "code",
   "execution_count": 31,
   "id": "5560b953-17d8-4fba-b995-8f531a4e33f8",
   "metadata": {},
   "outputs": [
    {
     "name": "stdout",
     "output_type": "stream",
     "text": [
      "nextflow run nf-core/fetchngs -r 1.12.0 -profile docker -resume -c /home/yuan/bio/scrnaseq_reference/data/ids/GSE286399.config\n",
      "nextflow run nf-core/fetchngs -r 1.12.0 -profile docker -resume -c /home/yuan/bio/scrnaseq_reference/data/ids/GSE280041.config\n",
      "nextflow run nf-core/fetchngs -r 1.12.0 -profile docker -resume -c /home/yuan/bio/scrnaseq_reference/data/ids/GSE144357.config\n",
      "nextflow run nf-core/fetchngs -r 1.12.0 -profile docker -resume -c /home/yuan/bio/scrnaseq_reference/data/ids/GSE121309.config\n",
      "nextflow run nf-core/fetchngs -r 1.12.0 -profile docker -resume -c /home/yuan/bio/scrnaseq_reference/data/ids/GSE183590.config\n",
      "nextflow run nf-core/fetchngs -r 1.12.0 -profile docker -resume -c /home/yuan/bio/scrnaseq_reference/data/ids/GSE148729.config\n"
     ]
    }
   ],
   "source": [
    "from parse_soft import ParseSoft\n",
    "from create_config import CreateConfig\n",
    "\n",
    "data_dir = '/home/yuan/data'\n",
    "softer = ParseSoft(data_dir)\n",
    "config_dir = '../data'\n",
    "configer = CreateConfig(config_dir)\n",
    "\n",
    "raw_dir = '/home/yuan/data/lung_cancer'\n",
    "# 'GSE286399': failed\n",
    "geo_list = ['GSE286399', 'GSE280041', 'GSE144357', 'GSE121309', 'GSE183590', 'GSE148729']\n",
    "for geo in geo_list:\n",
    "    samples = softer.sample_ids(geo)\n",
    "    cmd = configer.fetch_geo(geo, samples, raw_dir)\n",
    "    print(cmd)\n",
    "    "
   ]
  },
  {
   "cell_type": "markdown",
   "id": "6f2a1d06-1443-4c4a-b703-418b6cc08825",
   "metadata": {},
   "source": [
    "### analyze Cell Marker 2.0"
   ]
  },
  {
   "cell_type": "code",
   "execution_count": 38,
   "id": "11a0d57d-d61b-4b4a-9e41-095e4edb8205",
   "metadata": {},
   "outputs": [
    {
     "data": {
      "text/html": [
       "<div>\n",
       "<style scoped>\n",
       "    .dataframe tbody tr th:only-of-type {\n",
       "        vertical-align: middle;\n",
       "    }\n",
       "\n",
       "    .dataframe tbody tr th {\n",
       "        vertical-align: top;\n",
       "    }\n",
       "\n",
       "    .dataframe thead th {\n",
       "        text-align: right;\n",
       "    }\n",
       "</style>\n",
       "<table border=\"1\" class=\"dataframe\">\n",
       "  <thead>\n",
       "    <tr style=\"text-align: right;\">\n",
       "      <th></th>\n",
       "      <th>species</th>\n",
       "      <th>tissue_class</th>\n",
       "      <th>tissue_type</th>\n",
       "      <th>uberonongology_id</th>\n",
       "      <th>cancer_type</th>\n",
       "      <th>cell_type</th>\n",
       "      <th>cell_name</th>\n",
       "      <th>cellontology_id</th>\n",
       "      <th>marker</th>\n",
       "      <th>Symbol</th>\n",
       "      <th>GeneID</th>\n",
       "      <th>Genetype</th>\n",
       "      <th>Genename</th>\n",
       "      <th>UNIPROTID</th>\n",
       "      <th>technology_seq</th>\n",
       "      <th>marker_source</th>\n",
       "      <th>PMID</th>\n",
       "      <th>Title</th>\n",
       "      <th>journal</th>\n",
       "      <th>year</th>\n",
       "    </tr>\n",
       "  </thead>\n",
       "  <tbody>\n",
       "    <tr>\n",
       "      <th>0</th>\n",
       "      <td>Human</td>\n",
       "      <td>Abdomen</td>\n",
       "      <td>Abdominal fat pad</td>\n",
       "      <td>NaN</td>\n",
       "      <td>Normal</td>\n",
       "      <td>Normal cell</td>\n",
       "      <td>Brown adipocyte</td>\n",
       "      <td>CL_0000449</td>\n",
       "      <td>FABP4</td>\n",
       "      <td>FABP4</td>\n",
       "      <td>2167.0</td>\n",
       "      <td>protein_coding</td>\n",
       "      <td>fatty acid binding protein 4</td>\n",
       "      <td>E7DVW4</td>\n",
       "      <td>sci-RNA-seq</td>\n",
       "      <td>Experiment</td>\n",
       "      <td>32355218</td>\n",
       "      <td>Single-cell transcriptional networks in differ...</td>\n",
       "      <td>Nature communications</td>\n",
       "      <td>2020</td>\n",
       "    </tr>\n",
       "    <tr>\n",
       "      <th>1</th>\n",
       "      <td>Human</td>\n",
       "      <td>Abdomen</td>\n",
       "      <td>Abdominal fat pad</td>\n",
       "      <td>NaN</td>\n",
       "      <td>Normal</td>\n",
       "      <td>Normal cell</td>\n",
       "      <td>Brown adipocyte</td>\n",
       "      <td>CL_0000449</td>\n",
       "      <td>PDGFRα</td>\n",
       "      <td>NaN</td>\n",
       "      <td>NaN</td>\n",
       "      <td>NaN</td>\n",
       "      <td>NaN</td>\n",
       "      <td>NaN</td>\n",
       "      <td>sci-RNA-seq</td>\n",
       "      <td>Experiment</td>\n",
       "      <td>32355218</td>\n",
       "      <td>Single-cell transcriptional networks in differ...</td>\n",
       "      <td>Nature communications</td>\n",
       "      <td>2020</td>\n",
       "    </tr>\n",
       "    <tr>\n",
       "      <th>2</th>\n",
       "      <td>Human</td>\n",
       "      <td>Abdomen</td>\n",
       "      <td>Abdominal fat pad</td>\n",
       "      <td>NaN</td>\n",
       "      <td>Normal</td>\n",
       "      <td>Normal cell</td>\n",
       "      <td>Brown adipocyte</td>\n",
       "      <td>CL_0000449</td>\n",
       "      <td>UCP1</td>\n",
       "      <td>UCP1</td>\n",
       "      <td>7350.0</td>\n",
       "      <td>protein_coding</td>\n",
       "      <td>uncoupling protein 1</td>\n",
       "      <td>P25874</td>\n",
       "      <td>sci-RNA-seq</td>\n",
       "      <td>Experiment</td>\n",
       "      <td>32355218</td>\n",
       "      <td>Single-cell transcriptional networks in differ...</td>\n",
       "      <td>Nature communications</td>\n",
       "      <td>2020</td>\n",
       "    </tr>\n",
       "    <tr>\n",
       "      <th>3</th>\n",
       "      <td>Mouse</td>\n",
       "      <td>Abdomen</td>\n",
       "      <td>Muscle</td>\n",
       "      <td>UBERON_0001630</td>\n",
       "      <td>Normal</td>\n",
       "      <td>Normal cell</td>\n",
       "      <td>Fibro-adipogenic progenitor cell</td>\n",
       "      <td>NaN</td>\n",
       "      <td>Wisp1</td>\n",
       "      <td>Ccn4</td>\n",
       "      <td>22402.0</td>\n",
       "      <td>protein_coding</td>\n",
       "      <td>cellular communication network factor 4</td>\n",
       "      <td>O54775</td>\n",
       "      <td>10x Chromium</td>\n",
       "      <td>Experiment</td>\n",
       "      <td>35439171</td>\n",
       "      <td>An estrogen-sensitive fibroblast population dr...</td>\n",
       "      <td>JCI insight</td>\n",
       "      <td>2022</td>\n",
       "    </tr>\n",
       "    <tr>\n",
       "      <th>4</th>\n",
       "      <td>Mouse</td>\n",
       "      <td>Abdomen</td>\n",
       "      <td>Muscle</td>\n",
       "      <td>UBERON_0001630</td>\n",
       "      <td>Normal</td>\n",
       "      <td>Normal cell</td>\n",
       "      <td>Myoblast</td>\n",
       "      <td>CL_0000056</td>\n",
       "      <td>Myod1</td>\n",
       "      <td>Myod1</td>\n",
       "      <td>17927.0</td>\n",
       "      <td>protein_coding</td>\n",
       "      <td>myogenic differentiation 1</td>\n",
       "      <td>P10085</td>\n",
       "      <td>10x Chromium</td>\n",
       "      <td>Experiment</td>\n",
       "      <td>35439171</td>\n",
       "      <td>An estrogen-sensitive fibroblast population dr...</td>\n",
       "      <td>JCI insight</td>\n",
       "      <td>2022</td>\n",
       "    </tr>\n",
       "  </tbody>\n",
       "</table>\n",
       "</div>"
      ],
      "text/plain": [
       "  species tissue_class        tissue_type uberonongology_id cancer_type  \\\n",
       "0   Human      Abdomen  Abdominal fat pad               NaN      Normal   \n",
       "1   Human      Abdomen  Abdominal fat pad               NaN      Normal   \n",
       "2   Human      Abdomen  Abdominal fat pad               NaN      Normal   \n",
       "3   Mouse      Abdomen             Muscle    UBERON_0001630      Normal   \n",
       "4   Mouse      Abdomen             Muscle    UBERON_0001630      Normal   \n",
       "\n",
       "     cell_type                         cell_name cellontology_id   marker  \\\n",
       "0  Normal cell                   Brown adipocyte      CL_0000449    FABP4   \n",
       "1  Normal cell                   Brown adipocyte      CL_0000449  PDGFRα    \n",
       "2  Normal cell                   Brown adipocyte      CL_0000449     UCP1   \n",
       "3  Normal cell  Fibro-adipogenic progenitor cell             NaN    Wisp1   \n",
       "4  Normal cell                          Myoblast      CL_0000056    Myod1   \n",
       "\n",
       "  Symbol   GeneID        Genetype                                 Genename  \\\n",
       "0  FABP4   2167.0  protein_coding             fatty acid binding protein 4   \n",
       "1    NaN      NaN             NaN                                      NaN   \n",
       "2   UCP1   7350.0  protein_coding                     uncoupling protein 1   \n",
       "3   Ccn4  22402.0  protein_coding  cellular communication network factor 4   \n",
       "4  Myod1  17927.0  protein_coding               myogenic differentiation 1   \n",
       "\n",
       "  UNIPROTID technology_seq marker_source      PMID  \\\n",
       "0    E7DVW4    sci-RNA-seq    Experiment  32355218   \n",
       "1       NaN    sci-RNA-seq    Experiment  32355218   \n",
       "2    P25874    sci-RNA-seq    Experiment  32355218   \n",
       "3    O54775   10x Chromium    Experiment  35439171   \n",
       "4    P10085   10x Chromium    Experiment  35439171   \n",
       "\n",
       "                                               Title                journal  \\\n",
       "0  Single-cell transcriptional networks in differ...  Nature communications   \n",
       "1  Single-cell transcriptional networks in differ...  Nature communications   \n",
       "2  Single-cell transcriptional networks in differ...  Nature communications   \n",
       "3  An estrogen-sensitive fibroblast population dr...            JCI insight   \n",
       "4  An estrogen-sensitive fibroblast population dr...            JCI insight   \n",
       "\n",
       "   year  \n",
       "0  2020  \n",
       "1  2020  \n",
       "2  2020  \n",
       "3  2022  \n",
       "4  2022  "
      ]
     },
     "execution_count": 38,
     "metadata": {},
     "output_type": "execute_result"
    }
   ],
   "source": [
    "cellmarker = pd.ExcelFile('../data/Cell_marker_Seq.xlsx')\n",
    "cm = cellmarker.parse('seq')\n",
    "cm.head()"
   ]
  },
  {
   "cell_type": "code",
   "execution_count": 54,
   "id": "20f40e02-ed1b-43c7-801a-66961b770fba",
   "metadata": {},
   "outputs": [
    {
     "data": {
      "text/plain": [
       "technology_seq\n",
       "10x Chromium                                                                13402\n",
       "Single-cell sequencing                                                       8886\n",
       "sci-RNA-seq                                                                   972\n",
       "Smart-seq2                                                                    829\n",
       "CyTOF                                                                         541\n",
       "Drop-seq                                                                      503\n",
       "snRNA-seq                                                                     347\n",
       "10x Chromium/Smart-Seq2                                                       314\n",
       "Seq-Well                                                                      145\n",
       "inDrops                                                                       144\n",
       "scATAC-seq                                                                    132\n",
       "CEL-Seq2                                                                       84\n",
       "Smart-seq                                                                      70\n",
       "10x Chromium/Smart-seq                                                         67\n",
       "CITE-seq                                                                       63\n",
       "SORT-seq                                                                       49\n",
       "Droplet                                                                        46\n",
       "Drop-seq/Seq-Well/10x Chromium                                                 40\n",
       "Fluidigm C1                                                                    31\n",
       "snATAC-seq                                                                     26\n",
       "SCRINSHOT                                                                      22\n",
       "Smart-seq2/DNBelab C4                                                          21\n",
       "10x Chromium/scATAC-Seq                                                        19\n",
       "scFTD-seq                                                                      19\n",
       "Smart-seq2/Drop-seq/10x Chromium                                               17\n",
       "10x Chromium/TCR                                                               17\n",
       "sci-ATAC-seq                                                                   17\n",
       "scATAC-seq/10x Chromium                                                        16\n",
       "MARS-seq/Single cell TCR-seq                                                   16\n",
       "CyTOF/scRNA-seq                                                                14\n",
       "MARS-seq                                                                       14\n",
       "Drop-Seq                                                                       13\n",
       "SCAN-seq                                                                       13\n",
       "Single-cell RT-PCR                                                             13\n",
       "Single-cell sequencing/ATAC-seq                                                13\n",
       "Sort-seq                                                                       11\n",
       "10x Chromium/scATAC-seq                                                        11\n",
       "Seq-Scope                                                                      10\n",
       "Fluidigm C1/CEL-seq/CEL-seq2/Smart-seq2                                         9\n",
       "scNT-Seq                                                                        9\n",
       "SnRNA-Seq                                                                       9\n",
       "Slide-seq                                                                       8\n",
       "single-nucleus RNA-seq/spatial transcriptome                                    8\n",
       "10x Chromium/CyTOF                                                              8\n",
       "Sort-seq/CEL-seq2                                                               7\n",
       "SNARE-seq                                                                       7\n",
       "scNMT-seq                                                                       6\n",
       "10x Chromium/10x Visium                                                         6\n",
       "CORTAD-seq                                                                      6\n",
       "STRT-Seq                                                                        5\n",
       "CoBATCH                                                                         4\n",
       "Slide-seqV2                                                                     4\n",
       "10x Chromium/inDrops                                                            4\n",
       "Microwell-seq                                                                   3\n",
       "10x Chromium/scSLAM-seq                                                         3\n",
       "MARS-Seq                                                                        2\n",
       "Smart-seq2/Fluidigm C1/CEL-seq/CEL-seq2/Single-cell sequencing                  1\n",
       "sci-Hi-C/sci-RNA-seq/sci-ATAC-seq                                               1\n",
       "Drop-Seq/Seq-Well,/MARS-seq 2.0/10x Chromium v2/10x Chromium v3/Next GEM        1\n",
       "Name: count, dtype: int64"
      ]
     },
     "execution_count": 54,
     "metadata": {},
     "output_type": "execute_result"
    }
   ],
   "source": [
    "cm['technology_seq'].value_counts()"
   ]
  },
  {
   "cell_type": "code",
   "execution_count": 44,
   "id": "b6427b27-6795-4ce5-ac25-8b8dfd7db25a",
   "metadata": {},
   "outputs": [
    {
     "data": {
      "text/plain": [
       "['species',\n",
       " 'tissue_class',\n",
       " 'tissue_type',\n",
       " 'uberonongology_id',\n",
       " 'cancer_type',\n",
       " 'cell_type',\n",
       " 'cell_name',\n",
       " 'cellontology_id',\n",
       " 'marker',\n",
       " 'Symbol',\n",
       " 'GeneID',\n",
       " 'Genetype',\n",
       " 'Genename',\n",
       " 'UNIPROTID',\n",
       " 'technology_seq',\n",
       " 'marker_source',\n",
       " 'PMID',\n",
       " 'Title',\n",
       " 'journal',\n",
       " 'year']"
      ]
     },
     "execution_count": 44,
     "metadata": {},
     "output_type": "execute_result"
    }
   ],
   "source": [
    "list(cm)"
   ]
  },
  {
   "cell_type": "code",
   "execution_count": 55,
   "id": "9b40f6e9-dff9-4c49-a510-0e2c18ab6377",
   "metadata": {},
   "outputs": [
    {
     "name": "stdout",
     "output_type": "stream",
     "text": [
      "[30554520 30784054 31221805 31233341 31299246 31333652 31405848 31834999\n",
      " 31840053 31892341 31996486 32004478 32109386 32112047 32122885 32246845\n",
      " 32317643 32398875 32497778 32603599 32810439 32832598 32832599 32882007\n",
      " 32968798 32973742 33057196 33083004 33178221 33382972 33500718 33657410\n",
      " 33705361 33717172 33822772 33879239 34030460 34049947 34313733 34330889\n",
      " 34504485 34603282 34715018 34876692 34914922 35078977 35213222 35216676\n",
      " 35354645]\n"
     ]
    }
   ],
   "source": [
    "normal_cm = cm[(cm['species']=='Human') & cm['tissue_type'].str.contains('Lung') & cm['cell_type'].str.contains('Normal')]\n",
    "pmid_list= np.unique(normal_cm['PMID'])\n",
    "print(pmid_list)"
   ]
  },
  {
   "cell_type": "code",
   "execution_count": null,
   "id": "9cd00a87-e7d7-4d2a-abac-516300286a3b",
   "metadata": {},
   "outputs": [
    {
     "name": "stdout",
     "output_type": "stream",
     "text": [
      "5000, 10000, 15000, 20000, 25000, 30000, 35000, 40000, 45000, 50000, 55000, 60000, 65000, 70000, 75000, 80000, 85000, 90000, "
     ]
    }
   ],
   "source": [
    "from parse_soft import ParseSoft\n",
    "\n",
    "data_dir = '/home/yuan/data'\n",
    "softer = ParseSoft(data_dir)\n",
    "normal_geo = softer.pmid_to_geo(pmid_list)\n",
    "print(normal_geo)"
   ]
  },
  {
   "cell_type": "code",
   "execution_count": null,
   "id": "511d6f26-f1d3-459f-b729-cd5a7cb79f0b",
   "metadata": {},
   "outputs": [],
   "source": [
    "geo_pool"
   ]
  },
  {
   "cell_type": "code",
   "execution_count": null,
   "id": "e9bda56c-3495-4c94-868a-db361a26bacc",
   "metadata": {},
   "outputs": [],
   "source": [
    "# lung normal cell\n",
    "from parse_soft import ParseSoft\n",
    "from create_config import CreateConfig\n",
    "\n",
    "data_dir = '/home/yuan/data'\n",
    "softer = ParseSoft(data_dir)\n",
    "config_dir = '../data'\n",
    "configer = CreateConfig(config_dir)\n",
    "\n",
    "raw_dir = '/home/yuan/data/lung_cancer'\n",
    "geo_list = ['', '', '', '', '', '']\n",
    "for geo in geo_list:\n",
    "    samples = softer.sample_ids(geo)\n",
    "    cmd = configer.fetch_geo(geo, samples, raw_dir)\n",
    "    print(cmd)"
   ]
  },
  {
   "cell_type": "code",
   "execution_count": 57,
   "id": "4eb991e2-ae69-4379-8d42-dc91b993221c",
   "metadata": {},
   "outputs": [
    {
     "data": {
      "text/plain": [
       "{0: 0, 1: 0, 2: 0, 3: 0}"
      ]
     },
     "execution_count": 57,
     "metadata": {},
     "output_type": "execute_result"
    }
   ],
   "source": [
    "{i:0 for i in range(4)}"
   ]
  }
 ],
 "metadata": {
  "kernelspec": {
   "display_name": "Python 3 (ipykernel)",
   "language": "python",
   "name": "python3"
  },
  "language_info": {
   "codemirror_mode": {
    "name": "ipython",
    "version": 3
   },
   "file_extension": ".py",
   "mimetype": "text/x-python",
   "name": "python",
   "nbconvert_exporter": "python",
   "pygments_lexer": "ipython3",
   "version": "3.11.11"
  }
 },
 "nbformat": 4,
 "nbformat_minor": 5
}
