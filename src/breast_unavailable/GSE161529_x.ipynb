{
 "cells": [
  {
   "cell_type": "code",
   "execution_count": null,
   "id": "f20321c2-9277-42b1-ba66-5482ad3fc472",
   "metadata": {},
   "outputs": [],
   "source": [
    "#  raw data not available"
   ]
  },
  {
   "cell_type": "code",
   "execution_count": 1,
   "id": "fac75a50-b52e-48d8-9beb-46c79f4a81aa",
   "metadata": {},
   "outputs": [],
   "source": [
    "import os\n",
    "from parse_soft import ParseSoft\n",
    "from search_soft import SearchSoft\n",
    "from enrich_soft import EnrichSoft\n",
    "from label_data import LabelData\n",
    "\n",
    "%load_ext autoreload\n",
    "%autoreload 2"
   ]
  },
  {
   "cell_type": "code",
   "execution_count": 2,
   "id": "3f2bab8d-724a-440f-89a1-a3f5c38f68da",
   "metadata": {},
   "outputs": [],
   "source": [
    "# step 1: set defaults\n",
    "geo = \"GSE161529\"\n",
    "soft_dir = '/home/yuan/data'\n",
    "meta_dir = '../data'\n",
    "download_dir = '/home/yuan/rawdata/SRR'"
   ]
  },
  {
   "cell_type": "code",
   "execution_count": 3,
   "id": "276637df-e3ea-46c6-8e2e-275b1f8f749c",
   "metadata": {},
   "outputs": [
    {
     "name": "stdout",
     "output_type": "stream",
     "text": [
      "Retrieve meta data from soft file:  /home/yuan/data/ftp.ncbi.nlm.nih.gov/geo/series/GSE161nnn/GSE161529/soft/GSE161529_family.soft.gz\n",
      "Save meta data into json:  /home/yuan/bio/scrnaseq_reference/data/labels/GSE161nnn/GSE161529/metadata.json\n"
     ]
    }
   ],
   "source": [
    "# step 2: parse soft, and enrich\n",
    "\n",
    "# analyze soft file\n",
    "parser = ParseSoft(soft_dir)\n",
    "soft_path = parser.soft_local_path(geo)\n",
    "print('Retrieve meta data from soft file: ', soft_path)\n",
    "softer = SearchSoft(soft_path)\n",
    "data = softer.filter_data(softer.parse_rows)\n",
    "\n",
    "# save to json\n",
    "LabelData(meta_dir).save(data)"
   ]
  },
  {
   "cell_type": "code",
   "execution_count": 4,
   "id": "e973223f-d6e0-4973-a282-898aa5775ebb",
   "metadata": {},
   "outputs": [
    {
     "name": "stdout",
     "output_type": "stream",
     "text": [
      "Save meta data into json:  /home/yuan/bio/scrnaseq_reference/data/labels/GSE161nnn/GSE161529/metadata.json\n"
     ]
    }
   ],
   "source": [
    "# step 3a: enrich data\n",
    "data = LabelData(meta_dir).get_meta(geo)\n",
    "enriched = EnrichSoft(data)()\n",
    "LabelData(meta_dir).save(enriched)"
   ]
  },
  {
   "cell_type": "code",
   "execution_count": 15,
   "id": "f02acd96-5be7-4ddf-9d1a-dc35e70da5dd",
   "metadata": {},
   "outputs": [
    {
     "name": "stdout",
     "output_type": "stream",
     "text": [
      "Save meta data into json:  /home/yuan/bio/scrnaseq_reference/data/labels/GSE161nnn/GSE161529/metadata.json\n"
     ]
    }
   ],
   "source": [
    "# step 3b: label samples manually\n",
    "'''\n",
    "'''\n",
    "from label_sample import LabelSample\n",
    "\n",
    "def collator(sample):\n",
    "    c = LabelSample(sample)\n",
    "    c._protocol('scrna-seq', \"10x3\")\n",
    "    c._update('tissue', c.tissue + ', breast')\n",
    "    c._update('group', 'patient')\n",
    "    \n",
    "    # cell_type\n",
    "    if 'Normal Total cells' in c.title:\n",
    "        c._update('cell_type', 'normal total cells')\n",
    "        c._update('tissue', 'normal tissue, breast')\n",
    "    elif 'Normal Epithelial cells' in c.title:\n",
    "        c._update('cell_type', 'epithelial cells')\n",
    "        c._update('tissue', 'normal tissue, breast')\n",
    "    elif 'pre-neoplastic Total cells' in c.title:\n",
    "        c._update('cell_type', 'preneoplastic total cells')\n",
    "        c._update('tissue', 'preneoplastic tissue, breast')\n",
    "    elif 'tumour Total cells' in c.title:\n",
    "        c._update('cell_type', 'tumor total cells')\n",
    "        c._update('tissue', 'tumor tissue, breast')\n",
    "    elif 'tumour Lymph-node cells' in c.title:\n",
    "        c._update('cell_type', 'lymph-node cells')\n",
    "        c._update('tissue', 'tumor tissue, breast')\n",
    "    \n",
    "    # disease\n",
    "    if c.title.startswith('BRCA1'):\n",
    "        c._update('disease', 'BRCA1 breast cancer')\n",
    "    elif 'Triple negative tumor' in c.title:\n",
    "        c._update('disease', 'triple-negative breast cancer')\n",
    "    elif 'Triple negative BRCA1 tumour' in c.title:\n",
    "        c._update('disease', 'BRCA1 and Triple-negative breast cancer')\n",
    "    elif 'HER2+ tumour' in c.title:\n",
    "        c._update('disease', 'HER2 breast cancer')\n",
    "    elif 'PR+ tumour' in c.title:\n",
    "        c._update('disease', 'PR breast cancer')\n",
    "    elif 'ER+ tumour' in c.title:\n",
    "        c._update('disease', 'ER breast cancer')\n",
    "    else:\n",
    "        c._update('disease', 'breast cancer')\n",
    "\n",
    "data = LabelData(meta_dir).get_meta(geo)\n",
    "for sample_id, sample in data['samples'].items():\n",
    "    collator(sample)\n",
    "LabelData(meta_dir).save(data)"
   ]
  },
  {
   "cell_type": "code",
   "execution_count": 16,
   "id": "10053b6a-4376-44ea-a529-998444c7d7d8",
   "metadata": {},
   "outputs": [
    {
     "name": "stdout",
     "output_type": "stream",
     "text": [
      "Normal Total cells from Patient 0092 {'tissue': 'normal tissue, breast', 'group': 'patient', 'cell_type': 'normal total cells', 'disease': 'breast cancer'}\n",
      "Normal Total cells from Patient 0019 {'tissue': 'normal tissue, breast', 'group': 'patient', 'cell_type': 'normal total cells', 'disease': 'breast cancer'}\n",
      "Normal Epithelial cells from Patient 0280 {'tissue': 'normal tissue, breast', 'group': 'patient', 'cell_type': 'epithelial cells', 'disease': 'breast cancer'}\n",
      "Normal Epithelial cells from Patient 0093 {'tissue': 'normal tissue, breast', 'group': 'patient', 'cell_type': 'epithelial cells', 'disease': 'breast cancer'}\n",
      "Normal Total cells from Patient 0093 {'tissue': 'normal tissue, breast', 'group': 'patient', 'cell_type': 'normal total cells', 'disease': 'breast cancer'}\n",
      "Normal Epithelial cells from Patient 1469 {'tissue': 'normal tissue, breast', 'group': 'patient', 'cell_type': 'epithelial cells', 'disease': 'breast cancer'}\n",
      "Normal Epithelial cells from Patient 0408 {'tissue': 'normal tissue, breast', 'group': 'patient', 'cell_type': 'epithelial cells', 'disease': 'breast cancer'}\n",
      "Normal Epithelial cells from Patient 1105 {'tissue': 'normal tissue, breast', 'group': 'patient', 'cell_type': 'epithelial cells', 'disease': 'breast cancer'}\n",
      "Normal Total cells from Patient 0230.17 {'tissue': 'normal tissue, breast', 'group': 'patient', 'cell_type': 'normal total cells', 'disease': 'breast cancer'}\n",
      "Normal Epithelial cells from Patient 0064 {'tissue': 'normal tissue, breast', 'group': 'patient', 'cell_type': 'epithelial cells', 'disease': 'breast cancer'}\n",
      "Normal Total cells from Patient 0064 {'tissue': 'normal tissue, breast', 'group': 'patient', 'cell_type': 'normal total cells', 'disease': 'breast cancer'}\n",
      "Normal Epithelial cells from Patient 0230.16 {'tissue': 'normal tissue, breast', 'group': 'patient', 'cell_type': 'epithelial cells', 'disease': 'breast cancer'}\n",
      "Normal Total cells from Patient 0233 {'tissue': 'normal tissue, breast', 'group': 'patient', 'cell_type': 'normal total cells', 'disease': 'breast cancer'}\n",
      "Normal Total cells from Patient 0169 {'tissue': 'normal tissue, breast', 'group': 'patient', 'cell_type': 'normal total cells', 'disease': 'breast cancer'}\n",
      "Normal Epithelial cells from Patient 0123 {'tissue': 'normal tissue, breast', 'group': 'patient', 'cell_type': 'epithelial cells', 'disease': 'breast cancer'}\n",
      "Normal Total cells from Patient 0123 {'tissue': 'normal tissue, breast', 'group': 'patient', 'cell_type': 'normal total cells', 'disease': 'breast cancer'}\n",
      "Normal Epithelial cells from Patient 0342 {'tissue': 'normal tissue, breast', 'group': 'patient', 'cell_type': 'epithelial cells', 'disease': 'breast cancer'}\n",
      "Normal Total cells from Patient 0342 {'tissue': 'normal tissue, breast', 'group': 'patient', 'cell_type': 'normal total cells', 'disease': 'breast cancer'}\n",
      "Normal Total cells from Patient 0288 {'tissue': 'normal tissue, breast', 'group': 'patient', 'cell_type': 'normal total cells', 'disease': 'breast cancer'}\n",
      "Normal Total cells from Patient 0021 {'tissue': 'normal tissue, breast', 'group': 'patient', 'cell_type': 'normal total cells', 'disease': 'breast cancer'}\n",
      "Normal Epithelial cells from Patient 0275 {'tissue': 'normal tissue, breast', 'group': 'patient', 'cell_type': 'epithelial cells', 'disease': 'breast cancer'}\n",
      "Normal Total cells from Patient 0275 {'tissue': 'normal tissue, breast', 'group': 'patient', 'cell_type': 'normal total cells', 'disease': 'breast cancer'}\n",
      "Normal Epithelial cells from Patient 0372 {'tissue': 'normal tissue, breast', 'group': 'patient', 'cell_type': 'epithelial cells', 'disease': 'breast cancer'}\n",
      "Normal Total cells from Patient 0372 {'tissue': 'normal tissue, breast', 'group': 'patient', 'cell_type': 'normal total cells', 'disease': 'breast cancer'}\n",
      "BRCA1 pre-neoplastic Total cells from Patient 0894 {'tissue': 'preneoplastic tissue, breast', 'group': 'patient', 'cell_type': 'preneoplastic total cells', 'disease': 'BRCA1 breast cancer'}\n",
      "BRCA1 pre-neoplastic Total cells from Patient 0033 {'tissue': 'preneoplastic tissue, breast', 'group': 'patient', 'cell_type': 'preneoplastic total cells', 'disease': 'BRCA1 breast cancer'}\n",
      "BRCA1 pre-neoplastic Total cells from Patient 0023 {'tissue': 'preneoplastic tissue, breast', 'group': 'patient', 'cell_type': 'preneoplastic total cells', 'disease': 'BRCA1 breast cancer'}\n",
      "BRCA1 pre-neoplastic Total cells from Patient 0090 {'tissue': 'preneoplastic tissue, breast', 'group': 'patient', 'cell_type': 'preneoplastic total cells', 'disease': 'BRCA1 breast cancer'}\n",
      "Triple negative tumour Total cells from Patient 0126 {'tissue': 'tumor tissue, breast', 'group': 'patient', 'cell_type': 'tumor total cells', 'disease': 'breast cancer'}\n",
      "Triple negative tumour Total cells from Patient 0135 {'tissue': 'tumor tissue, breast', 'group': 'patient', 'cell_type': 'tumor total cells', 'disease': 'breast cancer'}\n",
      "Triple negative tumour Total cells from Patient 0106 {'tissue': 'tumor tissue, breast', 'group': 'patient', 'cell_type': 'tumor total cells', 'disease': 'breast cancer'}\n",
      "Triple negative tumour Total cells from Patient 0114 {'tissue': 'tumor tissue, breast', 'group': 'patient', 'cell_type': 'tumor total cells', 'disease': 'breast cancer'}\n",
      "Triple negative BRCA1 tumour Total cells from Patient 4031 {'tissue': 'tumor tissue, breast', 'group': 'patient', 'cell_type': 'tumor total cells', 'disease': 'BRCA1 and Triple-negative breast cancer'}\n",
      "Triple negative BRCA1 tumour Total cells from Patient 0131 {'tissue': 'tumor tissue, breast', 'group': 'patient', 'cell_type': 'tumor total cells', 'disease': 'BRCA1 and Triple-negative breast cancer'}\n",
      "Triple negative BRCA1 tumour Total cells from Patient 0554 {'tissue': 'tumor tissue, breast', 'group': 'patient', 'cell_type': 'tumor total cells', 'disease': 'BRCA1 and Triple-negative breast cancer'}\n",
      "Triple negative BRCA1 tumour Total cells from Patient 0177 {'tissue': 'tumor tissue, breast', 'group': 'patient', 'cell_type': 'tumor total cells', 'disease': 'BRCA1 and Triple-negative breast cancer'}\n",
      "HER2+ tumour Total cells from Patient 0308 {'tissue': 'tumor tissue, breast', 'group': 'patient', 'cell_type': 'tumor total cells', 'disease': 'HER2 breast cancer'}\n",
      "HER2+ tumour Total cells from Patient 0337 {'tissue': 'tumor tissue, breast', 'group': 'patient', 'cell_type': 'tumor total cells', 'disease': 'HER2 breast cancer'}\n",
      "HER2+ tumour Total cells from Patient 0031 {'tissue': 'tumor tissue, breast', 'group': 'patient', 'cell_type': 'tumor total cells', 'disease': 'HER2 breast cancer'}\n",
      "HER2+ tumour Total cells from Patient 0069 {'tissue': 'tumor tissue, breast', 'group': 'patient', 'cell_type': 'tumor total cells', 'disease': 'HER2 breast cancer'}\n",
      "HER2+ tumour Total cells from Patient 0161 {'tissue': 'tumor tissue, breast', 'group': 'patient', 'cell_type': 'tumor total cells', 'disease': 'HER2 breast cancer'}\n",
      "HER2+ tumour Total cells from Patient 0176 {'tissue': 'tumor tissue, breast', 'group': 'patient', 'cell_type': 'tumor total cells', 'disease': 'HER2 breast cancer'}\n",
      "PR+ tumour Total cells from Patient 0319 {'tissue': 'tumor tissue, breast', 'group': 'patient', 'cell_type': 'tumor total cells', 'disease': 'PR breast cancer'}\n",
      "ER+ tumour Total cells from Patient 0001 {'tissue': 'tumor tissue, breast', 'group': 'patient', 'cell_type': 'tumor total cells', 'disease': 'ER breast cancer'}\n",
      "ER+ tumour Total cells from Patient 0125 {'tissue': 'tumor tissue, breast', 'group': 'patient', 'cell_type': 'tumor total cells', 'disease': 'ER breast cancer'}\n",
      "ER+ tumour Total cells from Patient 0360 {'tissue': 'tumor tissue, breast', 'group': 'patient', 'cell_type': 'tumor total cells', 'disease': 'ER breast cancer'}\n",
      "ER+ tumour Total cells from Patient 0114 {'tissue': 'tumor tissue, breast', 'group': 'patient', 'cell_type': 'tumor total cells', 'disease': 'ER breast cancer'}\n",
      "ER+ tumour Total cells from Patient 0032 {'tissue': 'tumor tissue, breast', 'group': 'patient', 'cell_type': 'tumor total cells', 'disease': 'ER breast cancer'}\n",
      "ER+ tumour Total cells from Patient 0042 {'tissue': 'tumor tissue, breast', 'group': 'patient', 'cell_type': 'tumor total cells', 'disease': 'ER breast cancer'}\n",
      "ER+ tumour Total cells from Patient 0025 {'tissue': 'tumor tissue, breast', 'group': 'patient', 'cell_type': 'tumor total cells', 'disease': 'ER breast cancer'}\n",
      "ER+ tumour Total cells from Patient 0151 {'tissue': 'tumor tissue, breast', 'group': 'patient', 'cell_type': 'tumor total cells', 'disease': 'ER breast cancer'}\n",
      "ER+ tumour Total cells from Patient 0163 {'tissue': 'tumor tissue, breast', 'group': 'patient', 'cell_type': 'tumor total cells', 'disease': 'ER breast cancer'}\n",
      "ER+ tumour Total cells from Patient 0029-7C {'tissue': 'tumor tissue, breast', 'group': 'patient', 'cell_type': 'tumor total cells', 'disease': 'ER breast cancer'}\n",
      "ER+ tumour Total cells from Patient 0029-9C {'tissue': 'tumor tissue, breast', 'group': 'patient', 'cell_type': 'tumor total cells', 'disease': 'ER breast cancer'}\n",
      "ER+ tumour Total cells from Patient 0040 {'tissue': 'tumor tissue, breast', 'group': 'patient', 'cell_type': 'tumor total cells', 'disease': 'ER breast cancer'}\n",
      "ER+ tumour Lymph-node cells from Patient 0040 {'tissue': 'tumor tissue, breast', 'group': 'patient', 'cell_type': 'lymph-node cells', 'disease': 'ER breast cancer'}\n",
      "ER+ tumour Total cells from Patient 0043 {'tissue': 'tumor tissue, breast', 'group': 'patient', 'cell_type': 'tumor total cells', 'disease': 'ER breast cancer'}\n",
      "ER+ tumour Lymph-node cells from Patient 0043 {'tissue': 'tumor tissue, breast', 'group': 'patient', 'cell_type': 'lymph-node cells', 'disease': 'ER breast cancer'}\n",
      "ER+ tumour Total cells from Patient 0056 {'tissue': 'tumor tissue, breast', 'group': 'patient', 'cell_type': 'tumor total cells', 'disease': 'ER breast cancer'}\n",
      "ER+ tumour Lymph-node cells from Patient 0056 {'tissue': 'tumor tissue, breast', 'group': 'patient', 'cell_type': 'lymph-node cells', 'disease': 'ER breast cancer'}\n",
      "ER+ tumour Total cells from Patient 0064 {'tissue': 'tumor tissue, breast', 'group': 'patient', 'cell_type': 'tumor total cells', 'disease': 'ER breast cancer'}\n",
      "ER+ tumour Lymph-node cells from Patient 0064 {'tissue': 'tumor tissue, breast', 'group': 'patient', 'cell_type': 'lymph-node cells', 'disease': 'ER breast cancer'}\n",
      "ER+ tumour Total cells from Patient 0167 {'tissue': 'tumor tissue, breast', 'group': 'patient', 'cell_type': 'tumor total cells', 'disease': 'ER breast cancer'}\n",
      "ER+ tumour Lymph-node cells from Patient 0167 {'tissue': 'tumor tissue, breast', 'group': 'patient', 'cell_type': 'lymph-node cells', 'disease': 'ER breast cancer'}\n",
      "ER+ tumour Total cells from Patient 0173 {'tissue': 'tumor tissue, breast', 'group': 'patient', 'cell_type': 'tumor total cells', 'disease': 'ER breast cancer'}\n",
      "ER+ tumour Lymph-node cells from Patient 0173 {'tissue': 'tumor tissue, breast', 'group': 'patient', 'cell_type': 'lymph-node cells', 'disease': 'ER breast cancer'}\n",
      "ER+ tumour Total cells from Patient 0178 {'tissue': 'tumor tissue, breast', 'group': 'patient', 'cell_type': 'tumor total cells', 'disease': 'ER breast cancer'}\n",
      "ER+ tumour Total cells from Patient 0068 {'tissue': 'tumor tissue, breast', 'group': 'patient', 'cell_type': 'tumor total cells', 'disease': 'ER breast cancer'}\n",
      "ER+ tumour Lymph-node cells from Patient 0068 {'tissue': 'tumor tissue, breast', 'group': 'patient', 'cell_type': 'lymph-node cells', 'disease': 'ER breast cancer'}\n"
     ]
    }
   ],
   "source": [
    "for sample_id, sample in data['samples'].items():\n",
    "    # print(sample['characteristics'])\n",
    "    print(sample['sample_title'], sample['labels'])"
   ]
  },
  {
   "cell_type": "code",
   "execution_count": 17,
   "id": "41e32732-21e0-46ea-89c8-b6f48e3dac93",
   "metadata": {},
   "outputs": [
    {
     "name": "stdout",
     "output_type": "stream",
     "text": [
      "47\n"
     ]
    }
   ],
   "source": [
    "# step 4a: load some data\n",
    "from utils import Utils\n",
    "\n",
    "# data are determined previously\n",
    "samn_srr = Utils.from_json('../results/samn_srr.json')\n",
    "print(len(samn_srr))"
   ]
  },
  {
   "cell_type": "code",
   "execution_count": 18,
   "id": "217da242-01fa-4900-b067-2fd0370bdff6",
   "metadata": {},
   "outputs": [
    {
     "name": "stdout",
     "output_type": "stream",
     "text": [
      "biosamples = 69, SRR accessions = 0.\n",
      "Save meta data into json:  /home/yuan/bio/scrnaseq_reference/data/labels/GSE161nnn/GSE161529/metadata.json\n"
     ]
    }
   ],
   "source": [
    "# step 4b: Given BioSample, parse SRR accessions into samples\n",
    "from parse_sra import ParseSra\n",
    "from label_data import LabelData\n",
    "\n",
    "data = LabelData(meta_dir).get_meta(geo)\n",
    "enriched = ParseSra.parse_srr(data, samn_srr)\n",
    "LabelData(meta_dir).save(enriched)"
   ]
  },
  {
   "cell_type": "code",
   "execution_count": 19,
   "id": "0a149640-1b03-4701-832e-ab83b76ccaf5",
   "metadata": {},
   "outputs": [
    {
     "name": "stdout",
     "output_type": "stream",
     "text": [
      "{'srr': 69, 'available': 0, 'unknown': 0, 'updated': 0}\n",
      "Save meta data into json:  /home/yuan/bio/scrnaseq_reference/data/labels/GSE161nnn/GSE161529/metadata.json\n"
     ]
    }
   ],
   "source": [
    "# step 5: merge srr_urls into data\n",
    "\n",
    "# sample.<sample_id>.SRR.<SRR accession>.\"ftp.sra.ebi.ac.uk\"\n",
    "file_name = 'srr_fastq_urls_simple.json'\n",
    "urls_json = os.path.join('../results', file_name)\n",
    "urls = Utils.from_json(urls_json)\n",
    "\n",
    "# parse urls\n",
    "data = LabelData(meta_dir).get_meta(geo)\n",
    "enriched = ParseSra.parse_srr_urls(data, urls)\n",
    "LabelData(meta_dir).save(enriched)"
   ]
  },
  {
   "cell_type": "code",
   "execution_count": 20,
   "id": "4ae321c1-ed1b-4387-a94e-a90473e6d273",
   "metadata": {},
   "outputs": [
    {
     "name": "stdout",
     "output_type": "stream",
     "text": [
      "Number of biosamples:  69\n",
      "Number of biosamples with SRR:  0\n",
      "bash /home/yuan/rawdata/SRR/GSE161529/fetch1.sh\n"
     ]
    }
   ],
   "source": [
    "# step 6a: download raw data using biosample accession using nextflow\n",
    "from create_config import CreateConfig\n",
    "from label_data import LabelData\n",
    "\n",
    "sample_iter = LabelData(meta_dir).geo_sample_iter(geo)\n",
    "# create bash script for downloading\n",
    "CreateConfig(download_dir, geo).fetch_biosample(sample_iter)\n",
    "# run the bash script showed here\n",
    "# Outcome: nf download failed"
   ]
  },
  {
   "cell_type": "code",
   "execution_count": 21,
   "id": "275527b0-1e9f-4a8e-b383-193dbff93ccf",
   "metadata": {},
   "outputs": [
    {
     "name": "stdout",
     "output_type": "stream",
     "text": [
      "Number of SRR:  0\n",
      "bash /home/yuan/rawdata/SRR/GSE161529/fetch2.sh\n"
     ]
    }
   ],
   "source": [
    "#Step 6b: collect all SRR without local_fastq then execute bash run2.sh\n",
    "from create_config import CreateConfig\n",
    "from label_data import LabelData\n",
    "\n",
    "sample_iter = LabelData(meta_dir).geo_sample_iter(geo)\n",
    "# create bash script for downloading\n",
    "CreateConfig(download_dir, geo).fetch_ebi_srr(sample_iter)\n",
    "# run the bash script showed here"
   ]
  },
  {
   "cell_type": "code",
   "execution_count": 22,
   "id": "1f3404eb-7aa3-491b-9036-94d19478a747",
   "metadata": {},
   "outputs": [
    {
     "name": "stdout",
     "output_type": "stream",
     "text": [
      "Number of SRR:  0\n",
      "bash /home/yuan/rawdata/SRR/GSE161529/fetch3.sh\n"
     ]
    }
   ],
   "source": [
    "#Step 6c: collect all SRR without local_fastq then execute bash run3.sh\n",
    "from create_config import CreateConfig\n",
    "from label_data import LabelData\n",
    "\n",
    "sample_iter = LabelData(meta_dir).geo_sample_iter(geo)\n",
    "# create bash script for downloading\n",
    "CreateConfig(download_dir, geo).fetch_srr(sample_iter)\n",
    "# run the bash script showed here"
   ]
  },
  {
   "cell_type": "code",
   "execution_count": 23,
   "id": "a4b92552-a4bc-497a-bce8-6a7db7ffb0b8",
   "metadata": {},
   "outputs": [
    {
     "name": "stdout",
     "output_type": "stream",
     "text": [
      "Save meta data into json:  /home/yuan/bio/scrnaseq_reference/data/labels/GSE161nnn/GSE161529/metadata.json\n"
     ]
    }
   ],
   "source": [
    "# step 7: parse path of local fastq.gz with SRR in GEO data\n",
    "# Note: run the process multiple times to make sure all SRRs are accessed\n",
    "# print all samples if not any local *.fastq.gz is parsed\n",
    "from parse_sra import ParseSra\n",
    "from label_data import LabelData\n",
    "\n",
    "data = LabelData(meta_dir).get_meta(geo)\n",
    "data, unparsing = ParseSra.parse_local_fastq(data, download_dir)\n",
    "if unparsing:\n",
    "    print(geo, len(unparsing), unparsing[:6])\n",
    "LabelData(meta_dir).save(data)"
   ]
  },
  {
   "cell_type": "code",
   "execution_count": null,
   "id": "52c638c4-755a-4f4a-9e53-d93df7a94969",
   "metadata": {},
   "outputs": [],
   "source": []
  },
  {
   "cell_type": "code",
   "execution_count": null,
   "id": "c19c4507-b10e-46d5-bf8e-5377738f2c44",
   "metadata": {},
   "outputs": [],
   "source": []
  }
 ],
 "metadata": {
  "kernelspec": {
   "display_name": "Python 3 (ipykernel)",
   "language": "python",
   "name": "python3"
  },
  "language_info": {
   "codemirror_mode": {
    "name": "ipython",
    "version": 3
   },
   "file_extension": ".py",
   "mimetype": "text/x-python",
   "name": "python",
   "nbconvert_exporter": "python",
   "pygments_lexer": "ipython3",
   "version": "3.11.0"
  }
 },
 "nbformat": 4,
 "nbformat_minor": 5
}
