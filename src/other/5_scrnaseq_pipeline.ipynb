{
 "cells": [
  {
   "cell_type": "code",
   "execution_count": 6,
   "id": "b8cfa82d-ccbd-4aa2-afc7-87378a4fa5dd",
   "metadata": {},
   "outputs": [],
   "source": [
    "import json\n",
    "from utils import Utils\n",
    "from parse_sra import ParseSra\n",
    "from label_data import LabelData\n",
    "label_dir = '../data/labels'\n",
    "\n",
    "%load_ext autoreload\n",
    "%autoreload 2"
   ]
  },
  {
   "cell_type": "code",
   "execution_count": 5,
   "id": "fe94c098-6d51-456e-afad-950eccbb2969",
   "metadata": {},
   "outputs": [
    {
     "name": "stdout",
     "output_type": "stream",
     "text": [
      "GSE133747 []\n",
      "GSE128033 []\n",
      "GSE128169 []\n",
      "GSE280041 []\n",
      "GSE168710 []\n",
      "GSE168299 []\n",
      "GSE140819 []\n",
      "GSE166034 []\n",
      "GSE166033 []\n",
      "GSE166035 []\n",
      "GSE183590 []\n",
      "GSE217722 []\n",
      "GSE130148 []\n",
      "GSE148071 []\n",
      "GSE127813 []\n",
      "GSE127472 []\n",
      "GSE127462 []\n",
      "GSE127471 []\n",
      "GSE122960 []\n",
      "GSE121611 []\n",
      "GSE156311 []\n",
      "GSE196303 []\n",
      "GSE180864 []\n",
      "GSE155249 []\n",
      "GSE147066 []\n",
      "GSE161089 []\n",
      "GSE137799 []\n",
      "GSE137805 []\n",
      "GSE185044 []\n",
      "GSE185045 []\n",
      "GSE185043 []\n",
      "GSE158055 []\n",
      "GSE158127 []\n"
     ]
    }
   ],
   "source": [
    "fastq_dir = '/home/yuan/rawdata/SRR'\n",
    "for data in Utils.json_iter(label_dir):\n",
    "    data, unparsing = ParseSra.parse_local_fastq(data, fastq_dir)\n",
    "    if not unparsing:\n",
    "        print(data['GEO'], unparsing)\n",
    "    cl.save(data)"
   ]
  },
  {
   "cell_type": "markdown",
   "id": "ccfd1c3c-9614-46a1-8af2-50fa37fa1038",
   "metadata": {},
   "source": [
    "## Select biosamples by sample.labels"
   ]
  },
  {
   "cell_type": "code",
   "execution_count": 1,
   "id": "d5d5dfac-17fe-4a86-a771-c0860b5351f1",
   "metadata": {},
   "outputs": [],
   "source": [
    "%reload_ext autoreload\n",
    "%autoreload 2"
   ]
  },
  {
   "cell_type": "markdown",
   "id": "88c698e2-5e8d-4eff-a985-329746934613",
   "metadata": {},
   "source": [
    "### lung, cell_line\n",
    "- H1299 is an epithelial-like cell that was isolated from the lung of a White, 43-year-old, male patient with carcinoma.\n",
    "- A549 cells were isolated from the lung tissue of a White, male, lung cancer patient.\n",
    "- Calu-3 epithelial cells are isolated from lung tissue derived from a 25-year-old, White, male patient with lung adenocarcinoma who received prior therapy with cytoxan, bleomycin, and adriamycin. This cell line is valuable for SARS-CoV-2 propagation in vitro, is a suitable transfection host, and has applications in cancer and toxicology research.\n",
    "- NCI-H1299 is an epithelial-like cell that was isolated from the lung of a patient with carcinoma and can be used in immuno-oncology research.\n",
    "- H23 or NCI-H23 is an epithelial-like cell that was isolated from the lung of a patient with adenocarcinoma.\n",
    "- NCI-H358 [H-358, H358] is an epithelial-like cell that was isolated from the bronchiole of a male patient with bronchioalveolar carcinoma.\n",
    "- HCC44, established from the lung of a 54-year-old woman with non-small cell lung cancer of the adenocarcinoma type; listed in the CCLE (ref 18232) with extended genome and protein analyses\n",
    "- NCI-H226 cell line is derived from a human non-small cell lung carcinoma (NSCLC), specifically squamous cell carcinoma, and is a robust model for studying NSCLC pathogenesis and therapeutic\n",
    "- PC-9, previously known as PC-14, is a human non-small cell lung cancer (NSCLC) cell line, which has a deletion mutation in exon 19 of the EGFR gene\n",
    "\n",
    "- WI-38 cell line is the first human diploid cell line to be used in human vaccine preparation. WI-38 cells were isolated from the lung tissue of a 3-month-old, female, embryo. WI-38 is used in viruscide testing.\n",
    "- rues2: \"RUES2 human embryonic stem cell\". RUES2 is a human embryonic stem cell line derived from a de-identified frozen embryo that was originally generated for reproductive purposes.\n"
   ]
  },
  {
   "cell_type": "code",
   "execution_count": null,
   "id": "86bb3ee3-f829-4178-952c-9bf7e3fbf1c1",
   "metadata": {},
   "outputs": [],
   "source": []
  },
  {
   "cell_type": "code",
   "execution_count": 1,
   "id": "55618658-07b8-4543-80d5-e7a197065980",
   "metadata": {},
   "outputs": [
    {
     "name": "stdout",
     "output_type": "stream",
     "text": [
      "metadata:  /home/yuan/output/scrnaseq_lung_cell_line/paired_scrnaseq_lung_cell_line.json\n",
      "Name of datasets: scrnaseq_lung_cell_line\n",
      "Count metadata: {\n",
      "    \"num_sample_type\": 3,\n",
      "    \"num_geo\": 3,\n",
      "    \"num_biosample\": 38,\n",
      "    \"num_runs\": 98,\n",
      "    \"sample_type\": [\n",
      "        \"calu3\",\n",
      "        \"h1299\",\n",
      "        \"h226\"\n",
      "    ],\n",
      "    \"geo\": [\n",
      "        \"GSE121309\",\n",
      "        \"GSE148729\",\n",
      "        \"GSE286399\"\n",
      "    ]\n",
      "}\n"
     ]
    }
   ],
   "source": [
    "# only paired-ends\n",
    "from utils import Utils\n",
    "from label_data import LabelData\n",
    "from label_sample import LabelSample\n",
    "\n",
    "name = 'scrnaseq_lung_cell_line'\n",
    "output_dir = '/home/yuan/output'\n",
    "labeler = LabelData('../data', name, output_dir, True)\n",
    "\n",
    "metadata, sample_sheet = {}, {}\n",
    "for data in Utils.json_iter('../data/labels'):\n",
    "    for sample, geo, run_acc, fastq_sample in labeler.fastq_iter(data):\n",
    "        c = LabelSample(sample)\n",
    "        if c.filter_scrnaseq_lung_cell_line():\n",
    "            keys = [c.cell_line(), geo, run_acc,]\n",
    "            Utils.key_update(metadata, keys, fastq_sample)\n",
    "            Utils.key_update(sample_sheet, [geo,], fastq_sample['sample_sheet'])\n",
    "# export\n",
    "labeler.save_metadata(metadata)\n",
    "labeler.count_meta(metadata)"
   ]
  },
  {
   "cell_type": "markdown",
   "id": "40f79815-2a69-4d65-adca-94a0a6c472d7",
   "metadata": {
    "scrolled": true
   },
   "source": [
    "<!--analysis results are ready  -->\n",
    "cd /home/yuan/output/scrnaseq_lung_cell_line/paired_GSE286399\n",
    "cd /home/yuan/output/scrnaseq_lung_cell_line/paired_GSE121309"
   ]
  },
  {
   "cell_type": "code",
   "execution_count": null,
   "id": "fd367c14-2a25-48ed-9a5a-d861b782ffdf",
   "metadata": {},
   "outputs": [],
   "source": []
  },
  {
   "cell_type": "code",
   "execution_count": null,
   "id": "3d99fe5e-cdb0-46ba-9c07-3e66b783a0b2",
   "metadata": {},
   "outputs": [],
   "source": []
  },
  {
   "cell_type": "markdown",
   "id": "9edfb816-0b48-4acd-89a7-4bbf134b4f2d",
   "metadata": {},
   "source": [
    "### lung tissue, Normal\n",
    "- tissue=lung, tissue_type=Normal\n",
    "- tissue=lung, group=healthy control\n",
    "- tissue = Peripheral blood mononuclear cell, disease_state=Health donors"
   ]
  },
  {
   "cell_type": "code",
   "execution_count": null,
   "id": "bba3ef50-dfa9-47f5-806d-09be9c9cda6f",
   "metadata": {},
   "outputs": [],
   "source": []
  },
  {
   "cell_type": "code",
   "execution_count": 2,
   "id": "44379258-5548-4e83-adb9-0e415cd49bb4",
   "metadata": {},
   "outputs": [
    {
     "name": "stdout",
     "output_type": "stream",
     "text": [
      "metadata:  /home/yuan/output/scrnaseq_lung_tissue_normal/paired_scrnaseq_lung_tissue_normal.json\n",
      "Name of datasets: scrnaseq_lung_tissue_normal\n",
      "Count metadata: {\n",
      "    \"num_sample_type\": 1,\n",
      "    \"num_geo\": 1,\n",
      "    \"num_biosample\": 3,\n",
      "    \"num_runs\": 10,\n",
      "    \"sample_type\": [\n",
      "        \"lung\"\n",
      "    ],\n",
      "    \"geo\": [\n",
      "        \"GSE164829\"\n",
      "    ]\n",
      "}\n"
     ]
    }
   ],
   "source": [
    "from utils import Utils\n",
    "from label_data import LabelData\n",
    "from label_sample import LabelSample\n",
    "\n",
    "name = 'scrnaseq_lung_tissue_normal'\n",
    "output_dir = '/home/yuan/output'\n",
    "labeler = LabelData('../data', name, output_dir, True)\n",
    "\n",
    "metadata, sample_sheet = {}, {}\n",
    "for data in Utils.json_iter('../data/labels'):\n",
    "    for sample, geo, run_acc, fastq_sample in labeler.fastq_iter(data):\n",
    "        c = LabelSample(sample)\n",
    "        if c.filter_scrnaseq_lung_tissue_normal():\n",
    "            keys = [c.tissue, geo, run_acc,]\n",
    "            Utils.key_update(metadata, keys, fastq_sample)\n",
    "            Utils.key_update(sample_sheet, [geo,], fastq_sample['sample_sheet'])\n",
    "# export\n",
    "labeler.save_metadata(metadata)\n",
    "labeler.count_meta(metadata)"
   ]
  },
  {
   "cell_type": "markdown",
   "id": "65a417c8-dd58-4097-a14e-531416f83a1d",
   "metadata": {},
   "source": [
    "<!-- data sets  -->\n",
    "cd /home/yuan/output/scrnaseq_lung_tissue_normal/GSE136831\n",
    "cd /home/yuan/output/scrnaseq_lung__tissue_normal/GSE135893 \n",
    "cd /home/yuan/output/scrnaseq_lung__tissue_normal/paired_GSE164829"
   ]
  },
  {
   "cell_type": "code",
   "execution_count": null,
   "id": "4798a62e-2442-4281-9782-5f917aca4bf9",
   "metadata": {},
   "outputs": [],
   "source": []
  },
  {
   "cell_type": "markdown",
   "id": "9cd40d08-85c2-4c31-8d69-b61a6daea086",
   "metadata": {},
   "source": [
    "### lung tissue, lung disease/cancer, patient\n",
    "- tissue=lung, tissue_type=Tumor\n",
    "- tissue=lung, disease_state = Coronavirus infected disease-19 (COVID-19)\n",
    "- tissue=lung, group = severe COVID-19 patient\n",
    "- tissue=lung, disease_state = Lymphangioleiomyomatosis (LAM) patient\n",
    "- tissue = Peripheral blood mononuclear cell, disease_state=Patient with ASS-ILD"
   ]
  },
  {
   "cell_type": "code",
   "execution_count": null,
   "id": "e00597e0-d1b1-449d-83d9-97aa9867882b",
   "metadata": {},
   "outputs": [],
   "source": []
  },
  {
   "cell_type": "code",
   "execution_count": 7,
   "id": "7e5b4582-21ca-4a64-9fdc-1b08f9dfd511",
   "metadata": {},
   "outputs": [
    {
     "name": "stdout",
     "output_type": "stream",
     "text": [
      "metadata:  /home/yuan/output/scrnaseq_lung_tissue_patient/paired_scrnaseq_lung_tissue_patient.json\n",
      "Name of datasets: scrnaseq_lung_tissue_patient\n",
      "Count metadata: {\n",
      "    \"num_sample_type\": 4,\n",
      "    \"num_geo\": 5,\n",
      "    \"num_biosample\": 85,\n",
      "    \"num_runs\": 523,\n",
      "    \"sample_type\": [\n",
      "        \"chronic obstructive pulmonary lung disease\",\n",
      "        \"covid-19 infection\",\n",
      "        \"idiopathic pulmonary fibrosis lung disease\",\n",
      "        \"pulmonary fibrosis lung disease\"\n",
      "    ],\n",
      "    \"geo\": [\n",
      "        \"GSE135893\",\n",
      "        \"GSE136831\",\n",
      "        \"GSE145926\",\n",
      "        \"GSE166037\",\n",
      "        \"GSE166059\"\n",
      "    ]\n",
      "}\n"
     ]
    }
   ],
   "source": [
    "from utils import Utils\n",
    "from label_data import LabelData\n",
    "\n",
    "name = 'scrnaseq_lung_tissue_patient'\n",
    "output_dir = '/home/yuan/output'\n",
    "labeler = LabelData('../data', name, output_dir, True)\n",
    "\n",
    "metadata, sample_sheet = {}, {}\n",
    "for sample, geo, run_acc, fastq_sample in labeler.fastq_iter():\n",
    "    lb = sample['labels']\n",
    "    if geo == 'GSE140819':\n",
    "        print(lb)\n",
    "    if sample['sample_taxid'] == '9606' and 'scrna-seq' in sample['protocol'] \\\n",
    "        and 'BioSample' in sample and ('cell_line' not in lb) \\\n",
    "        and 'lung' in lb['tissue'] and lb.get('group') == 'patient':\n",
    "        keys = [lb['disease'], geo, run_acc,]\n",
    "        Utils.key_update(metadata, keys, fastq_sample)\n",
    "        Utils.key_update(sample_sheet, [geo,], fastq_sample['sample_sheet'])        \n",
    "# export\n",
    "labeler.save_metadata(metadata)\n",
    "labeler.to_sample_sheet(sample_sheet, 'paired')\n",
    "labeler.count_meta(metadata)"
   ]
  },
  {
   "cell_type": "code",
   "execution_count": 4,
   "id": "0bb32c96-04fa-4af1-abc9-b20e076ab64b",
   "metadata": {},
   "outputs": [
    {
     "name": "stdout",
     "output_type": "stream",
     "text": [
      "cd /home/yuan/output/scrnaseq_lung_tissue_patient/paired_GSE166059 && nextflow run nf-core/scrnaseq -r 3.0.0 -c params.config\n",
      "cd /home/yuan/output/scrnaseq_lung_tissue_patient/paired_GSE166037 && nextflow run nf-core/scrnaseq -r 3.0.0 -c params.config\n",
      "cd /home/yuan/output/scrnaseq_lung_tissue_patient/paired_GSE145926 && nextflow run nf-core/scrnaseq -r 3.0.0 -c params.config\n",
      "cd /home/yuan/output/scrnaseq_lung_tissue_patient/paired_GSE135893 && nextflow run nf-core/scrnaseq -r 3.0.0 -c params.config\n",
      "cd /home/yuan/output/scrnaseq_lung_tissue_patient/paired_GSE136831 && nextflow run nf-core/scrnaseq -r 3.0.0 -c params.config\n"
     ]
    }
   ],
   "source": [
    "labeler.nf_cmd()"
   ]
  },
  {
   "cell_type": "code",
   "execution_count": null,
   "id": "10f5344b-9e8e-4cf1-8aa4-caef0d07b562",
   "metadata": {},
   "outputs": [],
   "source": [
    "cd /home/yuan/output/scrnaseq_lung_tissue_patient/paired_GSE166037 && nextflow run nf-core/scrnaseq -r 3.0.0 -c params.config\n",
    "cd /home/yuan/output/scrnaseq_lung_tissue_patient/paired_GSE145926 && nextflow run nf-core/scrnaseq -r 3.0.0 -c params.config\n",
    "cd /home/yuan/output/scrnaseq_lung_tissue_patient/paired_GSE135893 && nextflow run nf-core/scrnaseq -r 3.0.0 -c params.config\n",
    "cd /home/yuan/output/scrnaseq_lung_tissue_patient/paired_GSE136831 && nextflow run nf-core/scrnaseq -r 3.0.0 -c params.config\n"
   ]
  },
  {
   "cell_type": "code",
   "execution_count": 6,
   "id": "5e579fa3-68b5-4492-9699-95c87ae120de",
   "metadata": {},
   "outputs": [
    {
     "name": "stdout",
     "output_type": "stream",
     "text": [
      "metadata:  /home/yuan/output/scrnaseq_lung_tissue_patient/single_scrnaseq_lung_tissue_patient.json\n",
      "Name of datasets: scrnaseq_lung_tissue_patient\n",
      "Count metadata: {\n",
      "    \"num_sample_type\": 1,\n",
      "    \"num_geo\": 1,\n",
      "    \"num_biosample\": 10,\n",
      "    \"num_runs\": 68,\n",
      "    \"sample_type\": [\n",
      "        \"pulmonary fibrosis lung disease\"\n",
      "    ],\n",
      "    \"geo\": [\n",
      "        \"GSE132771\"\n",
      "    ]\n",
      "}\n"
     ]
    }
   ],
   "source": [
    "# single-end\n",
    "from utils import Utils\n",
    "from label_data import LabelData\n",
    "\n",
    "name = 'scrnaseq_lung_tissue_patient'\n",
    "output_dir = '/home/yuan/output'\n",
    "labeler = LabelData('../data', name, output_dir, False)\n",
    "\n",
    "metadata, sample_sheet = {}, {}\n",
    "for sample, geo, run_acc, fastq_sample in labeler.fastq_iter():\n",
    "    lb = sample['labels']\n",
    "    if sample['sample_taxid'] == '9606' and 'scrna-seq' in sample['protocol'] \\\n",
    "        and 'BioSample' in sample and ('cell_line' not in lb) \\\n",
    "        and 'lung' in lb['tissue'] and lb.get('group') == 'patient':\n",
    "        keys = [lb['disease'], geo, run_acc,]\n",
    "        Utils.key_update(metadata, keys, fastq_sample)\n",
    "        Utils.key_update(sample_sheet, [geo,], fastq_sample['sample_sheet'])        \n",
    "# export\n",
    "labeler.save_metadata(metadata)\n",
    "labeler.to_sample_sheet(sample_sheet, 'single')\n",
    "labeler.count_meta(metadata)"
   ]
  },
  {
   "cell_type": "code",
   "execution_count": null,
   "id": "af1f89eb-692a-461b-a9e4-a04556672d87",
   "metadata": {},
   "outputs": [],
   "source": []
  },
  {
   "cell_type": "code",
   "execution_count": null,
   "id": "83cff582-0206-4e66-aeab-19f6aa35345f",
   "metadata": {},
   "outputs": [],
   "source": []
  }
 ],
 "metadata": {
  "kernelspec": {
   "display_name": "Python 3 (ipykernel)",
   "language": "python",
   "name": "python3"
  },
  "language_info": {
   "codemirror_mode": {
    "name": "ipython",
    "version": 3
   },
   "file_extension": ".py",
   "mimetype": "text/x-python",
   "name": "python",
   "nbconvert_exporter": "python",
   "pygments_lexer": "ipython3",
   "version": "3.11.0"
  }
 },
 "nbformat": 4,
 "nbformat_minor": 5
}
